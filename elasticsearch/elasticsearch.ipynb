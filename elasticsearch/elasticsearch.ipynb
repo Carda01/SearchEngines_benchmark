{
 "cells": [
  {
   "cell_type": "code",
   "execution_count": 2,
   "metadata": {},
   "outputs": [],
   "source": [
    "from elasticsearch import Elasticsearch, helpers\n",
    "from pprint import pp\n",
    "import pandas as pd\n",
    "from tqdm import tqdm\n",
    "import os\n",
    "\n",
    "def ppr(resp):\n",
    "    pp(resp.raw)"
   ]
  },
  {
   "cell_type": "code",
   "execution_count": 12,
   "metadata": {},
   "outputs": [],
   "source": [
    "def pretty_search_response_semantic(response):\n",
    "    if len(response[\"hits\"][\"hits\"]) == 0:\n",
    "        print(\"Your search returned no results.\")\n",
    "    else:\n",
    "        for hit in response[\"hits\"][\"hits\"]:\n",
    "            score = hit[\"_score\"]\n",
    "            title = hit[\"_source\"][\"Title\"]\n",
    "\n",
    "            pretty_output = f\"Score: {score}\\nTitle: {title}\\n\"\n",
    "\n",
    "            print(pretty_output)\n",
    "\n",
    "\n",
    "def pretty_search_response(response):\n",
    "    if len(response[\"hits\"][\"hits\"]) == 0:\n",
    "        print(\"Your search returned no results.\")\n",
    "    else:\n",
    "        for hit in response[\"hits\"][\"hits\"]:\n",
    "            id = hit[\"_id\"]\n",
    "            score = hit[\"_score\"]\n",
    "            body = hit[\"_source\"][\"Body\"]\n",
    "            comment_count = hit[\"_source\"][\"CommentCount\"]\n",
    "            creation_date = hit[\"_source\"][\"CreationDate\"]\n",
    "\n",
    "            pretty_output = f\"\\nID: {id}\\nScore: {score}\\nBody: {body}\\nCommentCount: {comment_count}\\nCreationDate: {creation_date}\"\n",
    "\n",
    "            print(pretty_output)"
   ]
  },
  {
   "cell_type": "code",
   "execution_count": 5,
   "metadata": {},
   "outputs": [],
   "source": [
    "es = Elasticsearch(\n",
    "    hosts=[\n",
    "        \"http://localhost:9200\" \n",
    "    ],\n",
    "    verify_certs=False,\n",
    ")"
   ]
  },
  {
   "cell_type": "code",
   "execution_count": 6,
   "metadata": {},
   "outputs": [
    {
     "name": "stdout",
     "output_type": "stream",
     "text": [
      "Connected to Elasticsearch!\n"
     ]
    }
   ],
   "source": [
    "if es.ping():\n",
    "    print(\"Connected to Elasticsearch!\")\n",
    "else:\n",
    "    print(\"Could not connect to Elasticsearch.\")"
   ]
  },
  {
   "cell_type": "code",
   "execution_count": 5,
   "metadata": {},
   "outputs": [
    {
     "data": {
      "text/plain": [
       "TextApiResponse('epoch      timestamp cluster           status node.total node.data shards pri relo init unassign unassign.pri pending_tasks max_task_wait_time active_shards_percent\\n1734257167 10:06:07  es-docker-cluster green           3         3     12  12    0    0        0            0             0                  -                100.0%\\n')"
      ]
     },
     "execution_count": 5,
     "metadata": {},
     "output_type": "execute_result"
    }
   ],
   "source": [
    "es.cat.health(v=True)"
   ]
  },
  {
   "cell_type": "code",
   "execution_count": 32,
   "metadata": {},
   "outputs": [
    {
     "data": {
      "text/plain": [
       "ObjectApiResponse({'acknowledged': True, 'shards_acknowledged': True, 'index': 'html_posts'})"
      ]
     },
     "execution_count": 32,
     "metadata": {},
     "output_type": "execute_result"
    }
   ],
   "source": [
    "es.indices.delete(index='html_posts', ignore_unavailable=True)\n",
    "\n",
    "es.indices.create(\n",
    "    index='html_posts',\n",
    "    settings={\n",
    "        \"number_of_shards\": 6,\n",
    "        \"number_of_replicas\": 0,\n",
    "        \"analysis\": {\n",
    "            \"analyzer\": {\n",
    "                \"html_analyzer\": {\n",
    "                    \"type\": \"custom\",\n",
    "                    \"tokenizer\": \"standard\",\n",
    "                    \"char_filter\": [\n",
    "                        \"html_strip\"\n",
    "                    ]\n",
    "                }\n",
    "            }\n",
    "        }\n",
    "    }, \n",
    "    mappings={\n",
    "        \"properties\": {\n",
    "            \"Body\": {\n",
    "                \"type\": \"text\",\n",
    "                \"analyzer\": \"html_analyzer\"\n",
    "            },\n",
    "            \"CommentCount\": {\n",
    "                \"type\": \"integer\"\n",
    "            },\n",
    "            \"CreationDate\": {\n",
    "                \"type\": \"date\",\n",
    "                \"format\": \"yyyy-MM-dd HH:mm:ss.SSS\"\n",
    "            }\n",
    "        }\n",
    "    }\n",
    ")"
   ]
  },
  {
   "cell_type": "code",
   "execution_count": 8,
   "metadata": {},
   "outputs": [],
   "source": [
    "def generator(json_chunk):\n",
    "    for line in json_chunk:\n",
    "        yield {\n",
    "            \"_index\": \"html_posts\",\n",
    "            \"_id\": line.get('Id'),\n",
    "            \"_source\": {\n",
    "                \"Body\": line.get(\"Body\",\"\"),\n",
    "                \"CommentCount\": line.get(\"CommentCount\",\"\"),\n",
    "                \"CreationDate\": line.get(\"CreationDate\",\"\")\n",
    "            }\n",
    "        }\n",
    "\n",
    "\n",
    "def from_chunk_to_es(chunk):\n",
    "    json_chunk = chunk.to_dict(\"records\")\n",
    "    return generator(json_chunk)"
   ]
  },
  {
   "cell_type": "code",
   "execution_count": 9,
   "metadata": {},
   "outputs": [
    {
     "name": "stderr",
     "output_type": "stream",
     "text": [
      "1566it [02:03, 12.73it/s]\n"
     ]
    }
   ],
   "source": [
    "columns = ['Id', 'Body', 'CommentCount', \"CreationDate\"]\n",
    "\n",
    "for chunk in tqdm(pd.read_csv('../data/StackOverflowMini_dbo_Posts.csv', chunksize=1000)):\n",
    "    gen = from_chunk_to_es(chunk[columns])\n",
    "    res = helpers.bulk(es, gen)"
   ]
  },
  {
   "cell_type": "code",
   "execution_count": 33,
   "metadata": {},
   "outputs": [
    {
     "name": "stdout",
     "output_type": "stream",
     "text": [
      "{'docs': {'count': 0, 'deleted': 0, 'total_size_in_bytes': 0}, 'shard_stats': {'total_count': 6}, 'store': {'size_in_bytes': 1450, 'total_data_set_size_in_bytes': 1450, 'reserved_in_bytes': 0}, 'indexing': {'index_total': 1571665, 'index_time_in_millis': 132458, 'index_current': 0, 'index_failed': 0, 'delete_total': 0, 'delete_time_in_millis': 0, 'delete_current': 0, 'noop_update_total': 0, 'is_throttled': False, 'throttle_time_in_millis': 0, 'write_load': 0.005117832428672113}, 'get': {'total': 0, 'time_in_millis': 0, 'exists_total': 0, 'exists_time_in_millis': 0, 'missing_total': 0, 'missing_time_in_millis': 0, 'current': 0}, 'search': {'open_contexts': 0, 'query_total': 36, 'query_time_in_millis': 115, 'query_current': 0, 'query_failure': 0, 'fetch_total': 2, 'fetch_time_in_millis': 46, 'fetch_current': 0, 'fetch_failure': 0, 'scroll_total': 0, 'scroll_time_in_millis': 0, 'scroll_current': 0, 'suggest_total': 0, 'suggest_time_in_millis': 0, 'suggest_current': 0}, 'merges': {'current': 0, 'current_docs': 0, 'current_size_in_bytes': 0, 'total': 6, 'total_time_in_millis': 7525, 'total_docs': 127328, 'total_size_in_bytes': 92052670, 'total_stopped_time_in_millis': 0, 'total_throttled_time_in_millis': 0, 'total_auto_throttle_in_bytes': 419430400}, 'refresh': {'total': 150, 'total_time_in_millis': 4797, 'external_total': 116, 'external_total_time_in_millis': 4531, 'listeners': 0}, 'flush': {'total': 34, 'periodic': 34, 'total_time_in_millis': 6439, 'total_time_excluding_waiting_on_lock_in_millis': 6438}, 'warmer': {'current': 0, 'total': 10, 'total_time_in_millis': 0}, 'query_cache': {'memory_size_in_bytes': 0, 'total_count': 0, 'hit_count': 0, 'miss_count': 0, 'cache_size': 0, 'cache_count': 0, 'evictions': 0}, 'fielddata': {'memory_size_in_bytes': 0, 'evictions': 0, 'global_ordinals': {'build_time_in_millis': 0}}, 'completion': {'size_in_bytes': 0}, 'segments': {'count': 0, 'memory_in_bytes': 0, 'terms_memory_in_bytes': 0, 'stored_fields_memory_in_bytes': 0, 'term_vectors_memory_in_bytes': 0, 'norms_memory_in_bytes': 0, 'points_memory_in_bytes': 0, 'doc_values_memory_in_bytes': 0, 'index_writer_memory_in_bytes': 0, 'version_map_memory_in_bytes': 0, 'fixed_bit_set_memory_in_bytes': 0, 'max_unsafe_auto_id_timestamp': -1, 'file_sizes': {}}, 'translog': {'operations': 0, 'size_in_bytes': 330, 'uncommitted_operations': 0, 'uncommitted_size_in_bytes': 330, 'earliest_last_modified_age': 142149}, 'request_cache': {'memory_size_in_bytes': 0, 'evictions': 0, 'hit_count': 0, 'miss_count': 0}, 'recovery': {'current_as_source': 0, 'current_as_target': 0, 'throttle_time_in_millis': 0}, 'bulk': {'total_operations': 18846, 'total_time_in_millis': 147328, 'total_size_in_bytes': 1218308861, 'avg_time_in_millis': 26, 'avg_size_in_bytes': 210684}, 'mappings': {'total_count': 56, 'total_estimated_overhead_in_bytes': 57344, 'total_segments': 0, 'total_segment_fields': 0, 'average_fields_per_segment': 0}, 'dense_vector': {'value_count': 0}, 'sparse_vector': {'value_count': 0}}\n"
     ]
    }
   ],
   "source": [
    "print(list(es.nodes.stats()['nodes'].values())[2]['indices'])"
   ]
  },
  {
   "cell_type": "code",
   "execution_count": 18,
   "metadata": {},
   "outputs": [
    {
     "data": {
      "image/png": "[encoded data removed]",
      "text/plain": [
       "<Figure size 640x480 with 1 Axes>"
      ]
     },
     "metadata": {},
     "output_type": "display_data"
    }
   ],
   "source": [
    "import matplotlib.pyplot as plt\n",
    "plt.style.use(\"default\")\n",
    "\n",
    "counts = []\n",
    "sizes = []\n",
    "colors = ['tab:blue', 'tab:green', 'tab:red']\n",
    "for node in es.nodes.stats()['nodes'].values():\n",
    "    counts.append(node['indices']['docs']['count'])\n",
    "    sizes.append(node['indices']['docs']['total_size_in_bytes'])\n",
    "\n",
    "plt.bar(x=[\"es01\", \"es02\", \"es03\"], height=sizes, color=colors)\n",
    "plt.xlabel(\"Nodes\")\n",
    "plt.ylabel(\"Size in bytes\")\n",
    "plt.savefig(\"load_balancing.png\")\n",
    "plt.show()"
   ]
  },
  {
   "cell_type": "code",
   "execution_count": 12,
   "metadata": {},
   "outputs": [
    {
     "name": "stdout",
     "output_type": "stream",
     "text": [
      "\n",
      "ID: 884652\n",
      "Score: 8.397677\n",
      "Body: <p>It works for me (it gets the total number of 'string here' found in each file). However, it does not display the total for ALL files searched. Here is how you can get it:</p>\n",
      "\n",
      "<pre><code>grep -c -r 'string' file &gt; out &amp;&amp; \\\n",
      "    awk -F : '{total += $2} END { print \"Total:\", total }' out\n",
      "</code></pre>\n",
      "\n",
      "<p>The list will be in out and the total will be sent to STDOUT.</p>\n",
      "\n",
      "<p>Here is the output on the Python2.5.4 directory tree:</p>\n",
      "\n",
      "<pre><code>grep -c -r 'import' Python-2.5.4/ &gt; out &amp;&amp; \\\n",
      "    awk -F : '{total += $2} END { print \"Total:\", total }' out\n",
      "Total: 11500\n",
      "\n",
      "$ head out\n",
      "Python-2.5.4/Python/import.c:155\n",
      "Python-2.5.4/Python/thread.o:0\n",
      "Python-2.5.4/Python/pyarena.c:0\n",
      "Python-2.5.4/Python/getargs.c:0\n",
      "Python-2.5.4/Python/thread_solaris.h:0\n",
      "Python-2.5.4/Python/dup2.c:0\n",
      "Python-2.5.4/Python/getplatform.c:0\n",
      "Python-2.5.4/Python/frozenmain.c:0\n",
      "Python-2.5.4/Python/pyfpe.c:0\n",
      "Python-2.5.4/Python/getmtime.c:0\n",
      "</code></pre>\n",
      "\n",
      "<p>If you just want to get lines with occurrences of 'string', change to this:</p>\n",
      "\n",
      "<pre><code>grep -c -r 'import' Python-2.5.4/ | \\\n",
      "    awk -F : '{total += $2; print $1, $2} END { print \"Total:\", total }'\n",
      "</code></pre>\n",
      "\n",
      "<p>That will output:</p>\n",
      "\n",
      "<pre><code>[... snipped]\n",
      "Python-2.5.4/Lib/dis.py 4\n",
      "Python-2.5.4/Lib/mhlib.py 10\n",
      "Python-2.5.4/Lib/decimal.py 8\n",
      "Python-2.5.4/Lib/new.py 6\n",
      "Python-2.5.4/Lib/stringold.py 3\n",
      "Total: 11500\n",
      "</code></pre>\n",
      "\n",
      "<p>You can change how the files ($1) and the count per file ($2) is printed.</p>\n",
      "\n",
      "CommentCount: 4\n",
      "CreationDate: 2009-05-19 19:40:27.490\n",
      "\n",
      "ID: 173562\n",
      "Score: 8.313118\n",
      "Body: <p>I like to program in Python so I have created a portable Python programming environment on a thumbdrive.</p>\n",
      "\n",
      "<ul>\n",
      "<li><a href=\"http://www.portablepython.com/\" rel=\"nofollow noreferrer\">Portable Python 1.0</a></li>\n",
      "<li><a href=\"http://pythonide.blogspot.com\" rel=\"nofollow noreferrer\">SPE Python editor</a></li>\n",
      "<li>wxPython in Action ebook</li>\n",
      "<li>Python How to Program ebook</li>\n",
      "<li>Several Python ebooks from O'Reilly</li>\n",
      "<li>Various tutorials for Python tools I don't use often</li>\n",
      "</ul>\n",
      "\n",
      "CommentCount: 0\n",
      "CreationDate: 2008-10-06 08:13:34.693\n",
      "\n",
      "ID: 1231340\n",
      "Score: 8.257515\n",
      "Body: <p>You use triple quotes for this.</p>\n",
      "\n",
      "<pre><code>s = \"\"\"\n",
      "Python is awesome.\n",
      "Python is cool.\n",
      "I use Python.\n",
      "And so should you.\n",
      "\"\"\"\n",
      "\n",
      "print s\n",
      "\n",
      "Python is awesome.\n",
      "Python is cool.\n",
      "I use Python.\n",
      "And so should you.\n",
      "</code></pre>\n",
      "\n",
      "CommentCount: 2\n",
      "CreationDate: 2009-08-05 05:27:23.563\n",
      "Your search returned no results.\n"
     ]
    }
   ],
   "source": [
    "# effects of analyzer\n",
    "resp = es.search(\n",
    "    index=\"html_posts\",\n",
    "    size=\"3\",\n",
    "    query={\n",
    "        \"match\": {\n",
    "            \"Body\": {\n",
    "                \"query\": \"Python\"\n",
    "            }\n",
    "        }\n",
    "    }\n",
    ")\n",
    "\n",
    "pretty_search_response(resp)\n",
    "\n",
    "resp = es.search(\n",
    "    index=\"html_posts\",\n",
    "    size=\"1\",\n",
    "    query={\n",
    "        \"match\": {\n",
    "            \"Body\": {\n",
    "                \"query\": \"<p>\"\n",
    "            }\n",
    "        }\n",
    "    }\n",
    ")\n",
    "\n",
    "pretty_search_response(resp)"
   ]
  },
  {
   "cell_type": "markdown",
   "metadata": {},
   "source": [
    "# Semantic Search"
   ]
  },
  {
   "cell_type": "code",
   "execution_count": 8,
   "metadata": {},
   "outputs": [
    {
     "name": "stderr",
     "output_type": "stream",
     "text": [
      "/home/alfio/Desktop/AdvancedDatabasesINFOH415/SearchEngines_benchmark/elasticsearch/elastic_semantic/lib/python3.10/site-packages/tqdm/auto.py:21: TqdmWarning: IProgress not found. Please update jupyter and ipywidgets. See https://ipywidgets.readthedocs.io/en/stable/user_install.html\n",
      "  from .autonotebook import tqdm as notebook_tqdm\n",
      "/home/alfio/Desktop/AdvancedDatabasesINFOH415/SearchEngines_benchmark/elasticsearch/elastic_semantic/lib/python3.10/site-packages/torch/cuda/__init__.py:129: UserWarning: CUDA initialization: CUDA unknown error - this may be due to an incorrectly set up environment, e.g. changing env variable CUDA_VISIBLE_DEVICES after program start. Setting the available devices to be zero. (Triggered internally at ../c10/cuda/CUDAFunctions.cpp:108.)\n",
      "  return torch._C._cuda_getDeviceCount() > 0\n"
     ]
    }
   ],
   "source": [
    "from elasticsearch import exceptions\n",
    "import time\n",
    "import numpy as np\n",
    "from sentence_transformers import SentenceTransformer \n",
    "\n",
    "model = SentenceTransformer(\"all-MiniLM-L6-v2\")"
   ]
  },
  {
   "cell_type": "code",
   "execution_count": 90,
   "metadata": {},
   "outputs": [
    {
     "data": {
      "text/plain": [
       "ObjectApiResponse({'acknowledged': True, 'shards_acknowledged': True, 'index': 'semantic_html_posts'})"
      ]
     },
     "execution_count": 90,
     "metadata": {},
     "output_type": "execute_result"
    }
   ],
   "source": [
    "es.indices.delete(index='semantic_html_posts', ignore_unavailable=True)\n",
    "\n",
    "es.indices.create(\n",
    "    index='semantic_html_posts',\n",
    "    settings={\n",
    "        \"number_of_shards\": 6,\n",
    "        \"number_of_replicas\": 0,\n",
    "        \"analysis\": {\n",
    "            \"analyzer\": {\n",
    "                \"html_analyzer\": {\n",
    "                    \"type\": \"custom\",\n",
    "                    \"tokenizer\": \"standard\",\n",
    "                    \"char_filter\": [\n",
    "                        \"html_strip\"\n",
    "                    ]\n",
    "                }\n",
    "            }\n",
    "        }\n",
    "    }, \n",
    "    mappings={\n",
    "        \"properties\": {\n",
    "            \"Body\": {\n",
    "                \"type\": \"text\",\n",
    "                \"analyzer\": \"html_analyzer\"\n",
    "            },\n",
    "            \"Title\": {\n",
    "                \"type\": \"text\"\n",
    "            },\n",
    "            \"Semantic_Title\": {\n",
    "                \"type\": \"dense_vector\",\n",
    "                \"dims\": 384,\n",
    "                \"index\": \"true\",\n",
    "                \"similarity\": \"cosine\"\n",
    "            },\n",
    "            \"CommentCount\": {\n",
    "                \"type\": \"integer\"\n",
    "            },\n",
    "            \"CreationDate\": {\n",
    "                \"type\": \"date\",\n",
    "                \"format\": \"yyyy-MM-dd HH:mm:ss.SSS\"\n",
    "            }\n",
    "        }\n",
    "    }\n",
    ")"
   ]
  },
  {
   "cell_type": "code",
   "execution_count": 91,
   "metadata": {},
   "outputs": [],
   "source": [
    "def generator(json_chunk):\n",
    "    for line in json_chunk:\n",
    "        yield {\n",
    "            \"_index\": \"semantic_html_posts\",\n",
    "            \"_id\": line.get('Id'),\n",
    "            \"_source\": {\n",
    "                \"Body\": line.get(\"Body\",\"\"),\n",
    "                \"Title\": line.get(\"Title\",\"\"),\n",
    "                \"Semantic_Title\": model.encode(line.get(\"Title\", \"\")).tolist(),\n",
    "                \"CommentCount\": line.get(\"CommentCount\",\"\"),\n",
    "                \"CreationDate\": line.get(\"CreationDate\",\"\")\n",
    "            }\n",
    "        }\n",
    "\n",
    "\n",
    "def from_chunk_to_es(chunk):\n",
    "    json_chunk = chunk.to_dict(\"records\")\n",
    "    return generator(json_chunk)"
   ]
  },
  {
   "cell_type": "code",
   "execution_count": 93,
   "metadata": {},
   "outputs": [
    {
     "name": "stderr",
     "output_type": "stream",
     "text": [
      "700it [15:44,  1.35s/it]\n"
     ]
    }
   ],
   "source": [
    "columns = ['Id', 'Title', 'Body', 'CommentCount', \"CreationDate\"]\n",
    "for chunk in tqdm(pd.read_csv('../data/StackOverflowMini_dbo_Posts.csv', nrows=700000, chunksize=1000)):\n",
    "    chunk = chunk.dropna(subset=[\"Title\"])\n",
    "    gen = from_chunk_to_es(chunk[columns])\n",
    "    res = helpers.bulk(es, gen)"
   ]
  },
  {
   "cell_type": "code",
   "execution_count": 9,
   "metadata": {},
   "outputs": [
    {
     "name": "stdout",
     "output_type": "stream",
     "text": [
      "{'took': 33, 'timed_out': False, '_shards': {'total': 6, 'successful': 6, 'skipped': 0, 'failed': 0}, 'hits': {'total': {'value': 10000, 'relation': 'gte'}, 'max_score': 1.0, 'hits': [{'_index': 'semantic_html_posts', '_id': '293743', '_score': 1.0, '_source': {'Body': '<p>I have been writting a keyword search script based on this tutorial:\\n<a href=\"http://www.hackosis.com/2007/11/06/howto-simple-search-engine-with-php-and-mysql/\" rel=\"nofollow noreferrer\">http://www.hackosis.com/2007/11/06/howto-simple-search-engine-with-php-and-mysql/</a></p>\\n\\n<p>Like some of the commenters mentioned, the script only ends up returning results based on the last word in the search terms. So I have also tried to implement one of the suggestions from another user, but now I seem to only be able to get results based on the first search term.</p>\\n\\n<p>The code for my script can be found here: <a href=\"http://php.pastebin.com/m7759afd3\" rel=\"nofollow noreferrer\">http://php.pastebin.com/m7759afd3</a></p>\\n\\n<p>My print_r for the results looks like this:</p>\\n\\n<pre><code>SELECT * FROM blog WHERE blog_title LIKE \\'%barry%\\' OR blog_content LIKE \\'%barry%\\' AND blog_title LIKE \\'%child%\\' OR blog_content LIKE \\'%child%\\' AND blog_title LIKE \\'%help%\\' OR blog_content LIKE \\'%help%\\' ORDER BY blog_title\\n\\nSELECT * FROM links WHERE link_title LIKE \\'%barry%\\' OR link_desc LIKE \\'%barry%\\' AND link_title LIKE \\'%child%\\' OR link_desc LIKE \\'%child%\\' AND link_title LIKE \\'%help%\\' OR link_desc LIKE \\'%help%\\' ORDER BY link_title\\n\\nSELECT * FROM pages WHERE page_title LIKE \\'%barry%\\' OR page_content LIKE \\'%barry%\\' AND page_title LIKE \\'%child%\\' OR page_content LIKE \\'%child%\\' AND page_title LIKE \\'%help%\\' OR page_content LIKE \\'%help%\\' ORDER BY page_title\\n</code></pre>\\n\\n<p>Thank you for any help you might be able to offer.</p>\\n', 'Title': 'multiple keyword search script needs some expert input', 'Semantic_Title': [0.022540325298905373, -0.03314138203859329, -0.017981525510549545, 0.03286334127187729, -0.020370373502373695, 0.023482654243707657, 0.10627105832099915, 0.007034221664071083, -0.06696111708879471, -0.006250126287341118, 0.04653672128915787, -0.024905655533075333, 0.13608771562576294, -0.07780440151691437, -0.024113668128848076, 0.05486518144607544, -0.09764722734689713, 0.01385464332997799, -0.06085008755326271, -0.10734990239143372, 0.040655966848134995, 0.030446859076619148, 0.027133610099554062, -0.06316326558589935, -0.05767158418893814, 0.020672742277383804, -0.06533486396074295, -0.01432898547500372, -0.041114527732133865, 0.039192453026771545, 0.04322865977883339, 0.027667898684740067, 0.04906519129872322, 0.10277525335550308, 0.08076383918523788, 0.008002310991287231, -0.11212344467639923, 0.07304573804140091, 0.003656945191323757, -0.005242909770458937, -0.061761271208524704, -0.02252633310854435, -0.017796995118260384, -0.04104122892022133, 0.02618529461324215, -0.03328796848654747, -0.1677294373512268, -0.0017519870307296515, 0.058492787182331085, -0.019351698458194733, -0.12353930622339249, -0.05562105029821396, -0.02012447826564312, -0.0371539406478405, -0.0028904015198349953, 0.00317408237606287, -0.04681866616010666, -0.012067276984453201, 0.02259426936507225, -0.10969100892543793, 0.036044925451278687, 0.016980186104774475, -0.045008547604084015, -0.035567112267017365, 0.10182638466358185, -0.004251866135746241, -0.0399300642311573, -0.04268604516983032, 0.002648815279826522, 0.07290749996900558, -0.014268781989812851, 0.0724983662366867, 0.006958200596272945, 0.011222385801374912, -0.009745899587869644, 0.030503984540700912, -0.050256725400686264, -0.02160944975912571, 0.02311534434556961, -0.03224470093846321, -0.06467654556035995, -0.0893009752035141, -0.027247827500104904, 0.008911138400435448, 0.0740499421954155, -0.00213503441773355, 0.005731621291488409, -0.034496620297431946, 0.06733310222625732, -0.011933925561606884, 0.009520376101136208, -0.1393427848815918, 0.08919286727905273, -0.06411819905042648, 0.045927878469228745, 0.07544690370559692, -0.06981557607650757, -0.05229058489203453, 0.017345167696475983, 0.004837446846067905, -0.028476672247052193, -0.004786922596395016, -0.0009575950680300593, -0.1211470291018486, -0.05893765762448311, 0.06423763185739517, 0.009598897770047188, 0.010408297181129456, 0.08497792482376099, -0.023207103833556175, -0.07507317513227463, 0.024153880774974823, -0.01789560168981552, -0.0588446706533432, -0.032534848898649216, 0.108698770403862, 0.057454049587249756, 0.006214963737875223, 0.037724819034338, 0.08935876190662384, -0.04222996160387993, 0.029384955763816833, -0.028856022283434868, -0.04568987339735031, -0.003799308091402054, -0.038203831762075424, -0.01915399730205536, 1.8999586824027636e-33, 0.011000849306583405, 0.00849060993641615, -0.07082219421863556, -0.012102817185223103, 0.013598604127764702, 0.05062367394566536, 0.03894573822617531, 0.07208190113306046, -0.08484384417533875, -0.00016569400031585246, -0.0493481308221817, 0.04353926330804825, -0.04722561314702034, -0.027658576145768166, -0.02943616732954979, -0.0031047891825437546, 0.02879822812974453, 0.07157982140779495, -0.023427419364452362, -0.0028599174693226814, 0.07862341403961182, 0.008754239417612553, 0.0577852763235569, -0.009341957047581673, -0.03668834641575813, -0.05653829127550125, 0.0057252091355621815, -0.001050690421834588, 0.03318454697728157, 0.006647543981671333, -0.014788590371608734, -0.0486159548163414, -0.05256831273436546, -0.02784503810107708, 0.03786108270287514, 0.006635849364101887, 0.0028032157570123672, 0.035334400832653046, -0.03193873167037964, -0.008680427446961403, -0.1304362565279007, -0.041359055787324905, 0.03525436297059059, -0.0034731898922473192, 0.025303972885012627, 0.06691811978816986, -0.1399977058172226, 0.010963663458824158, -0.010849634185433388, 0.038940154016017914, -0.007120073772966862, 0.0741642564535141, -0.00042279931949451566, 0.02866402640938759, 0.04932921752333641, 0.09250243008136749, -0.026059383526444435, 0.04070308804512024, 0.026292646303772926, -0.05421045795083046, 0.023296408355236053, 0.0326865129172802, 0.038708098232746124, 0.03393043577671051, 0.08171652257442474, -0.027604876086115837, 0.05262693017721176, 0.07082383334636688, 0.04106951504945755, 0.06336411833763123, 0.05123258754611015, -0.04788774251937866, 0.07633154839277267, 0.03428858891129494, 0.03670809790492058, -0.06514174491167068, 0.020587831735610962, -0.005263587925583124, 0.031207013875246048, -0.032854821532964706, 0.01016322523355484, -0.002298472449183464, 0.025397635996341705, 0.02139277197420597, 0.005632378626614809, -0.005620401352643967, -0.022377895191311836, -0.07342797517776489, -0.01803787797689438, 0.042503390461206436, -0.00537137920036912, 0.07177817076444626, -0.08276896178722382, -0.10153336822986603, -0.029602060094475746, -2.4925450374484566e-33, -0.019382294267416, -0.03889325261116028, 0.05418936908245087, 0.021627577021718025, -0.005429594777524471, -0.00775257870554924, -0.06528279930353165, -0.10240995138883591, 0.02901764027774334, 0.008181468583643436, 0.023285483941435814, 0.012746713124215603, 0.020402906462550163, -0.09223098307847977, 0.03566436097025871, 0.06050897389650345, 0.02298753894865513, 0.06961210817098618, 0.06436770409345627, 0.08079950511455536, -0.051317792385816574, 0.03498618304729462, -0.11727571487426758, 0.1175537258386612, -0.08723688870668411, 0.01422637328505516, -0.053053390234708786, 0.07444872707128525, -0.08449108153581619, 0.04914940521121025, -0.05800939351320267, 0.0971059575676918, -0.07643043994903564, 0.08937733620405197, -0.024686481803655624, 0.0030764308758080006, -0.035428982228040695, 0.01797025091946125, -0.06052242964506149, 0.11316081881523132, -0.005277987103909254, 0.04875776916742325, -0.01640675589442253, -0.013179123401641846, -0.02657930739223957, -0.023557277396321297, -0.03436080738902092, 0.05136149376630783, 0.0009313383488915861, -0.02305169589817524, 0.01328026968985796, -0.03492402285337448, -0.07978043705224991, -0.03695244714617729, -0.01295115239918232, 0.02174048125743866, -0.00618597911670804, -0.019802412018179893, -0.06136830896139145, 0.013895592652261257, -0.012506745755672455, -0.008166280575096607, 0.06174144521355629, 0.07237464189529419, 0.031665924936532974, -0.09825535118579865, -0.02583726868033409, 0.052479226142168045, -0.047571226954460144, -0.04110955819487572, -0.004610969685018063, -0.05159667506814003, 0.07177205383777618, 0.022299885749816895, -0.017820583656430244, 0.06187020242214203, 0.008228927850723267, -0.027659432962536812, 0.009097069501876831, 0.022584233433008194, 0.025452500209212303, 0.0646282434463501, 0.035053398460149765, 0.05456364527344704, -0.0816974937915802, 0.07126506417989731, -0.010373784229159355, 0.04239751771092415, 0.025500446557998657, -0.024808980524539948, 0.06025237962603569, -0.04508151859045029, 0.022467324510216713, 0.0031235828064382076, -0.023719117045402527, -1.708473007511202e-08, 0.034716688096523285, 0.03411545976996422, -0.06082857772707939, -0.0009189571719616652, -0.039190661162137985, -0.053567592054605484, -0.08374237269163132, 0.0534617155790329, -0.010892778635025024, -0.06550607830286026, 0.09290584176778793, 0.013246815651655197, -0.020557556301355362, 0.0922456756234169, -0.020942121744155884, 0.023095544427633286, -0.10768827795982361, 0.022208642214536667, -0.03391534090042114, -0.019020242616534233, 0.06479623168706894, 0.05220237374305725, 0.040201444178819656, 0.0295695997774601, 0.02429666556417942, 0.08656060695648193, -0.03073790855705738, 0.06410105526447296, -0.022056885063648224, 0.08254139125347137, 0.05355910584330559, 0.02330642193555832, -0.08857712149620056, -0.05070763826370239, 0.05756507068872452, -0.05211395025253296, 0.021924005821347237, -0.038639117032289505, -0.07897889614105225, 0.0428665466606617, 0.06995486468076706, -0.03749251365661621, -0.03849855437874794, 0.02218976803123951, 0.005136984400451183, 0.01831079088151455, 0.07228417694568634, 0.009697622619569302, 0.05091584101319313, -0.01758374460041523, -0.03134673833847046, 0.007689665537327528, 0.030642136931419373, -0.026028646156191826, 0.03011339157819748, -0.02002848871052265, 0.030451921746134758, 0.06517580151557922, 0.02564859576523304, -0.06718340516090393, -0.017885847017169, -0.0053383344784379005, -0.0036007051821798086, 0.05202169716358185], 'CommentCount': 1, 'CreationDate': '2008-11-16 10:03:30.963'}}, {'_index': 'semantic_html_posts', '_id': '293750', '_score': 1.0, '_source': {'Body': '<p>This is in reference to the <a href=\"https://stackoverflow.com/questions/282944/jquery-one-slider-controls-another\">question</a> previously asked</p>\\n\\n<p>The problem here is, each <code>slider</code> controls the other. It results in feedback. </p>\\n\\n<p>How do I possibly stop it?</p>\\n\\n<pre><code>$(function() {\\n    $(\"#slider\").slider({ slide: moveSlider2 });\\n    $(\"#slider1\").slider({ slide: moveSlider1 });\\n    function moveSlider2( e, ui ) \\n    {\\n        $(\\'#slider1\\').slider( \\'moveTo\\', Math.round(ui.value) );\\n    }\\n\\n    function moveSlider1( e, ui ) \\n    {\\n        $(\\'#slider\\').slider( \\'moveTo\\', Math.round(ui.value) );\\n    }\\n});\\n</code></pre>\\n', 'Title': 'jQuery-ui slider - How to stop two sliders from controlling each other', 'Semantic_Title': [-0.04200388118624687, -0.01226026937365532, 0.01573266088962555, 0.07381758838891983, -0.0470115952193737, -0.005134934093803167, -0.05915981903672218, -0.10563565790653229, 0.06528539955615997, -0.0949489027261734, 0.042692627757787704, 0.038409747183322906, -0.00212669069878757, 0.008231121115386486, -0.06957142800092697, -0.015733223408460617, -0.06804456561803818, -0.00044769313535653055, 0.009021380916237831, -0.03472449630498886, -0.028729699552059174, -0.044088467955589294, -0.043675120919942856, 0.022471273317933083, -0.06528542190790176, 0.03925999999046326, -0.029974674805998802, 0.014495070092380047, -0.034823689609766006, 0.0008694740827195346, -0.005579452496021986, -0.07798399031162262, -0.07519982755184174, 0.02369554340839386, -0.05979951471090317, -0.08611810207366943, -0.006509027909487486, 0.07076586037874222, 0.024888329207897186, 0.022301873192191124, 0.022157302126288414, -0.0669100359082222, -0.0011333046713843942, -0.10273130983114243, 0.002446465427055955, 0.108280710875988, -0.03854595869779587, 0.02872789464890957, -0.00836911890655756, 0.009960547089576721, 0.017810557037591934, 0.04321455955505371, 0.06723116338253021, 0.062189534306526184, 0.0856642946600914, -0.012206865474581718, -0.007823093794286251, 0.08524730801582336, 0.02582370676100254, 0.019217628985643387, -0.05554408207535744, 0.07617603987455368, -0.025682849809527397, -0.015944747254252434, 0.0011579281417652965, 0.025886455550789833, -0.03207217529416084, 0.050389233976602554, -0.05787353217601776, 0.07618316262960434, 0.03023514337837696, -0.08432591706514359, 0.03215013071894646, 0.04889003932476044, 0.06979436427354813, -0.03513137623667717, -0.07374720275402069, 0.03520035743713379, -0.048992592841386795, 0.0052216751500964165, 0.054729897528886795, -0.0532798245549202, 0.018698085099458694, -0.01749548316001892, -0.05419697239995003, 0.00810019951313734, 0.012029032222926617, -0.015930254012346268, 0.04872562736272812, -0.004610324278473854, -0.04723434895277023, 0.009825573302805424, 0.07406413555145264, 0.015312286093831062, 0.03694505989551544, -0.011098531074821949, -0.07174544036388397, -0.034017469733953476, -0.03639863058924675, -0.05787625536322594, -0.005925370845943689, -0.06829219311475754, 0.10398504137992859, 0.07519201189279556, -0.02023710310459137, -0.007328445557504892, -0.06582996994256973, 0.012076282873749733, 0.0382276214659214, 0.05226661637425423, 0.10048242658376694, 0.06979112327098846, -0.0065796636044979095, 0.02521955780684948, 0.028023099526762962, 0.015003296546638012, 0.024730738252401352, 0.12688224017620087, -0.0036873524077236652, -0.07886458188295364, 0.026376957073807716, -0.004576071165502071, 0.013306217268109322, -0.06146121397614479, 0.07064059376716614, -0.09255964308977127, -0.060823071748018265, -4.912619562471773e-34, -0.028179746121168137, -0.06563945859670639, -0.05802265554666519, -0.04943351075053215, 0.028235480189323425, -0.010024807415902615, -0.0321524478495121, 0.016820644959807396, -0.05099216476082802, 0.07602114230394363, 0.06251033395528793, 0.04828908294439316, -0.029783276841044426, -0.07059798389673233, 0.06041954457759857, -0.07167019695043564, 0.02937559224665165, 0.04746485501527786, 0.0018227805849164724, -0.07700978219509125, -0.010250314138829708, 0.05271178111433983, -0.013915619812905788, -0.006650160998106003, -0.015236268751323223, 0.009178146719932556, -0.017171965911984444, -0.09761987626552582, -0.02897997386753559, -0.034066542983055115, -0.050098273903131485, 0.049959946423769, 0.04004849120974541, 0.008866479620337486, 0.04324033111333847, -0.03517619147896767, -0.03007529489696026, -0.04259251430630684, 0.058996666222810745, -0.03526006639003754, -0.06626451015472412, -0.05795975774526596, 0.0068180738016963005, 0.04497804492712021, 0.0020014967303723097, 0.0071626706048846245, 0.05326992645859718, -0.007013007998466492, -0.10463204979896545, -0.04361332207918167, -0.0011034368071705103, -0.0033665059600025415, -0.09477825462818146, 0.01667904481291771, 0.0554998405277729, 0.013830257579684258, -0.03902857005596161, -0.024461625143885612, -0.026633985340595245, -0.008964011445641518, 0.024283088743686676, 0.020073745399713516, -0.04259536787867546, -0.06481072306632996, 0.04438042640686035, 0.0010535480687394738, -0.04032048210501671, 0.016906995326280594, -0.04842625930905342, -0.002911162795498967, -0.05647873505949974, -0.013884495012462139, 0.04329398274421692, -0.026770442724227905, -0.015153746120631695, -0.005774723831564188, -0.03198400139808655, 0.04128269851207733, 0.03126722201704979, 0.013622674159705639, -0.04872066155076027, 3.6036035453435034e-05, 0.038743384182453156, 0.05782480537891388, -0.046946849673986435, 0.001306347199715674, -0.021002095192670822, 0.09894691407680511, -0.02289675921201706, 0.10505079478025436, -0.027702519670128822, 0.07001736760139465, 0.004478612914681435, 0.08632626384496689, -0.020918650552630424, -2.2575842878702207e-33, 0.0031038878951221704, 0.02508106641471386, 0.05114706605672836, 0.07351423054933548, -0.030996935442090034, -0.07561654597520828, -0.005893135443329811, 0.021249739453196526, 0.0657881572842598, -0.028278151527047157, 0.07947999238967896, -0.008747396990656853, 0.036958977580070496, -0.01193009689450264, -0.026932455599308014, 0.010412407107651234, 0.03109472244977951, 0.12436655908823013, -0.0021105355117470026, 0.04298165813088417, 0.027174660935997963, 0.07848997414112091, -0.005034428555518389, 0.009720648638904095, -0.06474429368972778, -0.02116674743592739, 0.036479074507951736, 0.022189954295754433, -0.007960906252264977, 0.08159618079662323, 0.004433474503457546, -0.07278694212436676, -0.00905134342610836, -0.10280562937259674, -0.03405091166496277, 0.006991969421505928, -0.05886659771203995, 0.020534221082925797, 0.012443941086530685, -0.05530339851975441, -0.04541660472750664, 0.038434695452451706, -0.04630406200885773, 0.0307305958122015, 0.04907062649726868, 0.03185458108782768, 0.08227377384901047, 0.08955761045217514, -0.06709576398134232, -0.07616627216339111, -0.0765451118350029, -0.01897292025387287, -0.048537854105234146, -0.07179777324199677, -0.021333811804652214, -0.06702457368373871, 0.07813877612352371, -0.049944303929805756, 0.06639516353607178, -0.04753536731004715, 0.14462968707084656, 0.061369165778160095, 0.02688201330602169, -0.016790585592389107, 0.006701364181935787, 0.06497269123792648, 0.0123515659943223, 0.0626838281750679, 0.09547097235918045, -0.022211024537682533, 0.07708197832107544, -0.019497154280543327, 0.12236326187849045, -0.08218783885240555, -0.04553040862083435, -0.028720252215862274, -0.010907727293670177, -0.02949245274066925, 0.02984020672738552, -0.01735648326575756, -0.032359689474105835, 0.02158377505838871, 0.031401555985212326, -0.06805337965488434, -0.08775468170642853, 0.10862380266189575, -0.03584188222885132, -0.04042539745569229, -0.029219496995210648, -0.00879026111215353, -0.0004956596530973911, -0.018779262900352478, 0.1516290307044983, -0.055432748049497604, -0.052063602954149246, -1.8767885023862618e-08, 0.00434902124106884, -7.037830800982192e-05, -0.026212012395262718, -0.1521993726491928, -0.0974373072385788, -0.022973405197262764, -0.010699731297791004, 0.12162481993436813, -0.0008233696571551263, -0.06520931422710419, 0.10334750264883041, 0.022371802479028702, 0.03856344893574715, 0.04918261617422104, -0.0060058352537453175, 0.020920604467391968, -0.05262862518429756, 0.06817495077848434, 0.008113186806440353, -0.020572200417518616, 0.004736166447401047, -0.040526341646909714, 0.0469939298927784, -0.026495054364204407, -0.06910572946071625, 0.0054297298192977905, -0.038162712007761, -0.07092947512865067, -0.02589927241206169, 0.002671766560524702, 0.011618254706263542, -0.07368215173482895, 0.0209826547652483, -0.0008578516426496208, 0.056366316974163055, 0.004771120380610228, -0.10165281593799591, -0.01810288429260254, 0.06125444173812866, -0.040039099752902985, 0.002385450294241309, -0.056189797818660736, -0.04949900880455971, 0.11693385243415833, 0.012386897578835487, 0.029696181416511536, 0.08360589295625687, -0.04929977282881737, 0.01379017811268568, 0.007291671819984913, 0.03935248777270317, 0.014545376412570477, 0.08188557624816895, -0.0035188430920243263, 0.08191291987895966, -0.050425659865140915, 0.04358205571770668, 0.004179017152637243, -0.07819026708602905, 0.07457733154296875, -0.025809934362769127, 0.013613277114927769, -0.01747727580368519, 0.050366975367069244], 'CommentCount': 0, 'CreationDate': '2008-11-16 10:14:27.227'}}, {'_index': 'semantic_html_posts', '_id': '293857', '_score': 1.0, '_source': {'Body': '<pre><code>class String\\n{\\n\\n    private:\\n        char* rep;\\n\\n    public:\\n        String (const char*);\\n        void toUpper() const;\\n};\\n\\n\\nString :: String (const char* s)\\n{\\n    rep = new char [strlen(s)+1];\\n    strcpy (rep, s);\\n}\\n\\n\\nvoid String :: toUpper () const\\n{\\n    for (int i = 0; rep [i]; i++)\\n    rep[i] = toupper(rep[i]);\\n}\\n\\n\\nint main ()\\n{\\n    const String lower (\"lower\");\\n    lower.toUpper();\\n\\n    cout &lt;&lt; lower &lt;&lt; endl;\\n    return 0;\\n}\\n</code></pre>\\n', 'Title': 'Why does this const member function allow a member variable to be modified?', 'Semantic_Title': [-0.035857588052749634, 0.05210045352578163, 0.08396568149328232, 0.05878341197967529, -0.0001563409750815481, 0.007190503180027008, 0.11350466310977936, 0.0017102845013141632, 0.0024304776452481747, 0.030058862641453743, 0.0028761408757418394, 0.043356724083423615, -0.025885650888085365, -0.04224386066198349, -0.054187919944524765, 0.003170360578224063, -0.013132928870618343, 0.0026486297138035297, -0.007782511413097382, 0.003871888155117631, -0.03946893289685249, 0.023236820474267006, -0.06570175290107727, 0.014097267761826515, 0.0800204798579216, -0.05389117822051048, -0.04576489329338074, -0.014583813026547432, 0.08576581627130508, -0.014015613123774529, -0.01035350188612938, 0.028640253469347954, -0.03879711404442787, 0.05329900607466698, -0.09586767107248306, 0.05149077996611595, 0.03201783075928688, -0.03351357951760292, 0.07669442147016525, 0.03844676539301872, 0.01668614335358143, 0.104354627430439, -0.08966001123189926, 0.04194115102291107, 0.002719265641644597, 0.07062296569347382, 0.007031209301203489, -0.01666085794568062, -0.06575717777013779, 0.01084791962057352, 0.023768512532114983, 0.02390795387327671, -0.030008502304553986, -0.009601760655641556, 0.02496986649930477, 0.06589062511920929, -0.022131357342004776, 0.023241601884365082, 0.019871743395924568, -0.028929539024829865, 0.00313804903998971, -0.025673149153590202, 0.060068804770708084, -0.01270482037216425, 0.06693513691425323, -0.1473688781261444, 0.024210946634411812, 0.04956043139100075, -0.009087811224162579, 0.010944003239274025, 0.02367306314408779, 0.09605495631694794, 0.052399855107069016, 0.016164496541023254, 0.0039830319583415985, 0.015796856954693794, 0.015772707760334015, 0.05461476743221283, 0.057782985270023346, 0.04783203825354576, -0.005415839608758688, -0.013215938583016396, 0.0045652310363948345, -0.0847482830286026, 0.09329017996788025, 0.0068048289977014065, 0.013842186890542507, -0.0983869805932045, -0.009978028014302254, -0.010936927981674671, -0.002212969120591879, -0.03823913633823395, -0.027189280837774277, -0.019678957760334015, 0.012357390485703945, -0.054366789758205414, -0.04666830971837044, 0.029109971597790718, 0.004557062406092882, 0.03249194845557213, -0.032914843410253525, 0.14001138508319855, 0.06725893914699554, -0.0131967319175601, -0.14610198140144348, -0.09326909482479095, 0.026405654847621918, -0.045037589967250824, -0.051418229937553406, 0.014455923810601234, -0.0028428121004253626, -0.032300252467393875, -0.001449267496354878, -0.07573378831148148, -0.06327714771032333, -0.05736597627401352, -0.02552594244480133, -0.034146033227443695, 0.020399009808897972, -0.04830670356750488, 0.06225426867604256, -0.06493106484413147, -0.036235783249139786, 0.07078251242637634, -0.07367294281721115, 0.022452490404248238, -0.01602177880704403, -3.513006009734685e-33, 0.029757507145404816, 0.0020961191039532423, -0.07227912545204163, 0.0037208597641438246, 0.055438097566366196, 0.03751968592405319, -0.010221007280051708, -0.01861526258289814, -0.11228328943252563, 0.013757619075477123, -0.006693955045193434, -0.030722521245479584, 0.04129175841808319, 0.026311559602618217, 0.027542201802134514, -0.0008189195650629699, 0.028423938900232315, 0.006100675091147423, -0.0185107234865427, -0.03854261338710785, 0.048547275364398956, 0.059282563626766205, -0.044309698045253754, -0.047617945820093155, -0.058189745992422104, -0.06487763673067093, -0.054860614240169525, 0.03600151464343071, 0.00919116847217083, -0.026459727436304092, 0.041749291121959686, 0.07321541756391525, 0.0253033135086298, 0.07308859378099442, 0.014777818694710732, -0.06285472214221954, -0.001387131167575717, -0.08331926167011261, -0.041718676686286926, -0.06940677762031555, 0.03965819254517555, 0.03545859456062317, 0.042582523077726364, -0.02152620255947113, -0.0238778255879879, 0.019168203696608543, 0.02710868790745735, -0.005445282906293869, -0.026969607919454575, -0.0747494176030159, -0.07547241449356079, 0.09543176740407944, -0.06026974692940712, -0.012183289974927902, 0.03367166966199875, -0.011408340185880661, 0.021238086745142937, -0.02426808699965477, -0.07206206023693085, 0.03673775866627693, -0.02156701497733593, 0.08384202420711517, 0.0195106603205204, 0.03821282461285591, -0.08566664159297943, 0.014928950928151608, 0.02853286638855934, 0.023272018879652023, 0.06336478888988495, 0.034315574914216995, -0.04344158247113228, 0.06428132951259613, -0.13471898436546326, -0.05543933063745499, -0.0882699191570282, -0.043678056448698044, -0.03222765028476715, -0.0030186467338353395, -0.018008651211857796, -0.0931897684931755, -0.02115688845515251, 0.02310854382812977, 0.021547524258494377, 0.12619730830192566, -0.011996300891041756, -0.11927706003189087, -0.018358726054430008, -0.02913282811641693, 0.002790682017803192, 0.07654542475938797, 0.04531385377049446, -0.08249972760677338, 0.02521858550608158, 0.04779133200645447, -0.023942504078149796, 5.1087879882824156e-34, -0.062114570289850235, -0.005682499147951603, -0.0008974936790764332, -0.04437905177474022, -0.09236231446266174, 0.021720631048083305, 0.011232154443860054, -0.050122130662202835, 0.002220852067694068, -0.03043769672513008, 0.009434131905436516, 0.030163636431097984, -0.02840813808143139, 0.004090993199497461, 0.016337407752871513, -0.02086000330746174, -0.1119198352098465, -0.0930723324418068, -0.05838394537568092, -0.03364473581314087, -0.013866744004189968, 0.07316853851079941, 0.08746295422315598, 0.01502190250903368, -0.04979930818080902, 0.06190184876322746, 0.014806264080107212, 0.008328177966177464, 0.028537021949887276, -0.004918173421174288, -0.0798410177230835, 0.0022964405361562967, -0.09063929319381714, 0.09577426314353943, -0.024149227887392044, -0.013573848642408848, -0.024034209549427032, 0.023451071232557297, -0.0029888181015849113, 0.0016456086887046695, 0.10447294265031815, 0.06878495961427689, 0.09914543479681015, -0.014700460247695446, 0.04874319210648537, 0.023355109617114067, 0.09212187677621841, -0.008111964911222458, 0.03586722910404205, -0.026294056326150894, 0.029846014454960823, -0.09312579780817032, 0.06377501785755157, -0.008277980610728264, -0.018611865118145943, 0.04406940937042236, -0.11761550605297089, -0.06871283054351807, 0.12426332384347916, 0.04551193490624428, 0.03371962159872055, -0.02786366455256939, 0.04881506413221359, 0.024952884763479233, -0.04835045710206032, -0.003004777943715453, -0.04376031830906868, 0.06066467612981796, 0.043646011501550674, 0.03444181755185127, -0.0016668640309944749, 0.020696057006716728, 0.018923752009868622, 0.025713704526424408, -0.0944095104932785, -0.04236605390906334, -0.02347954735159874, -0.03282690793275833, -0.021873777732253075, 0.037363965064287186, -0.034230176359415054, -0.022397086024284363, 0.029667982831597328, -0.0001305363402934745, 0.03639603406190872, -0.027333106845617294, 0.0014103000285103917, 0.10006427764892578, 0.030152510851621628, -0.0010754198301583529, 0.015864476561546326, 0.013194333761930466, -0.04317750036716461, 0.020917657762765884, -0.043205659836530685, -1.680569461370851e-08, -0.09792504459619522, -0.08924439549446106, -0.11955481022596359, -0.01709926128387451, 0.02294536493718624, -0.1003238782286644, 0.043628424406051636, -0.09396439045667648, 0.0029856946785002947, 0.05856605991721153, 0.015582566149532795, -0.009070080704987049, 0.04881991446018219, -0.13095596432685852, 0.015624887309968472, 0.01848764903843403, -0.10488075017929077, -0.04226131737232208, -0.011372248642146587, 0.0024088339414447546, -0.054500192403793335, -0.0034279210958629847, -0.006441150791943073, 0.03929705545306206, 0.020208079367876053, -0.027198035269975662, 0.030910689383745193, 0.0861041247844696, 0.06985419243574142, 0.040577229112386703, 0.014586963690817356, 0.10154807567596436, 0.018354782834649086, 0.11148827522993088, -0.03790547326207161, -0.01815403252840042, -0.029735293239355087, 0.025830846279859543, 0.01007471140474081, 0.0769890546798706, 0.008563695475459099, 0.014961340464651585, -0.029296886175870895, 0.0889313593506813, -0.04744541272521019, 0.027212925255298615, -0.03739858791232109, 0.014676261693239212, 0.012864086776971817, 0.05308445915579796, 0.05092550069093704, 0.0930183082818985, -0.013158619403839111, 0.07084088027477264, -0.0008549130288884044, -0.06414628028869629, -0.03252578154206276, 0.04580758139491081, -0.03869273513555527, 0.014261685311794281, -0.07597634941339493, -0.04711966961622238, 0.057049695402383804, -0.011318129487335682], 'CommentCount': 0, 'CreationDate': '2008-11-16 13:21:43.183'}}, {'_index': 'semantic_html_posts', '_id': '293878', '_score': 1.0, '_source': {'Body': '<p>Our shop is in the process of converting our internal project management application from ASP.NET Web Forms to ASP.NET MVC.  </p>\\n\\n<p>I would like to provide an RSS feed for our customers of their current open issues ... but I would like to do so with some type of authorization, e.g. login and a password.  </p>\\n\\n<p>Is this possible using ASP.NET MVC or should this be done through some other service like WCF?  Sample code would be <strong>much appreciated</strong>.</p>\\n', 'Title': 'How to allow authorization to an rss feed using ASP.NET MVC?', 'Semantic_Title': [-0.003935784101486206, 0.020879557356238365, -0.11685818433761597, 0.013485203497111797, -0.015124917030334473, 0.038419123739004135, -0.0271723885089159, -0.054360292851924896, -0.005461761727929115, 0.0051200189627707005, -0.05276768282055855, 0.07286857813596725, 0.061072055250406265, 0.09829843044281006, -0.020820599049329758, 0.02379446290433407, 0.13416731357574463, -0.06276722252368927, 0.017794515937566757, -0.007888437248766422, 0.01603328250348568, 0.023160334676504135, -0.02117261290550232, 0.03863250091671944, 0.02321341075003147, -0.0725473016500473, 0.019922293722629547, -0.053441356867551804, 0.00043669581646099687, 0.03277299553155899, 0.08616612106561661, -0.19085757434368134, 0.03468938544392586, -0.03481243550777435, -0.062153056263923645, -0.060835711658000946, 0.11262143403291702, -0.034879233688116074, 0.04448862373828888, 0.06484724581241608, 0.014051825739443302, 0.0030194451101124287, 0.022114314138889313, -0.021659277379512787, -0.014572948217391968, -0.034293998032808304, 0.05954898148775101, -0.04753955081105232, 0.004657506011426449, -0.02814924158155918, -0.02929084748029709, -0.06443082541227341, -0.02704499661922455, 0.04067700728774071, -0.07152607291936874, -0.06309901177883148, 0.005999202840030193, -0.01567145250737667, -0.059642575681209564, -0.05169862508773804, 0.04842020198702812, -0.09078619629144669, 0.006691670510917902, 0.003139408538118005, -0.07213672995567322, 0.036125920712947845, -0.04991461709141731, 0.019843963906168938, -0.00032136242953129113, -0.033489156514406204, -0.025772172957658768, 0.04620681703090668, -0.015432293526828289, -0.011067729443311691, 0.027516093105077744, -0.059348445385694504, 0.012421968393027782, -0.04438941553235054, -0.007266607601195574, -0.07590435445308685, -0.01973913423717022, -0.012048830278217793, -0.005483195185661316, 0.005735350772738457, 0.0012427998008206487, 0.09285107254981995, 0.07599782943725586, -0.014831725507974625, 0.05733148381114006, 0.059004202485084534, 0.020713595673441887, 0.05773984640836716, 0.03966126963496208, -0.011399264447391033, 0.020433127880096436, -0.0030647260136902332, 0.0186419989913702, 0.01807304285466671, -0.10558031499385834, -0.025978678837418556, -0.054394740611314774, -0.012824706733226776, -0.0905488133430481, -0.005945632699877024, 0.11691278964281082, -0.010439092293381691, -0.035494256764650345, 0.09671992063522339, 0.053211744874715805, 0.09848202019929886, -0.068568654358387, 0.10344530642032623, -0.06513028591871262, 0.01486979704350233, -0.05103720352053642, -0.022360743954777718, 0.015734029933810234, -0.009038970805704594, 0.007759249769151211, 0.014235210604965687, -0.0504009984433651, 0.026812948286533356, -0.01909596472978592, 0.03949112817645073, 0.17186963558197021, -0.0075819785706698895, -0.04527740925550461, -2.461074114941067e-33, -0.05914343148469925, 0.14924272894859314, 0.018446767702698708, 0.0018261802615597844, 0.007751671597361565, -0.04261861741542816, 0.019366402179002762, -0.06679265201091766, 0.036531683057546616, -0.04649466648697853, 0.032044898718595505, 0.0035051617305725813, 0.07376062870025635, -0.0042179049924016, 0.02404012717306614, -0.027084441855549812, -0.04267263039946556, 0.04979829490184784, 0.10108695179224014, -0.03954707086086273, -0.08344670385122299, -0.02446518838405609, 0.02254786156117916, -0.040477167814970016, -0.06877451390028, -0.0360083281993866, 0.011008809320628643, 0.058653008192777634, -0.007813641801476479, 0.026533043012022972, 0.07971476018428802, -0.013479773886501789, -0.042049720883369446, -0.0038959383964538574, 0.06508925557136536, -0.06363516300916672, 0.05097131058573723, -0.04461447894573212, 0.05138003081083298, 0.017000162973999977, 0.036011528223752975, -0.02967987023293972, -0.04842076823115349, 0.004137807060033083, -0.09428379684686661, 0.049902189522981644, 0.017652954906225204, 0.07817880809307098, -0.0031414225231856108, 0.026894064620137215, 0.02694304659962654, -0.0023104241117835045, 0.0005166721530258656, -0.05494997277855873, 0.015634644776582718, -0.06591951847076416, -0.05451950058341026, -0.09488169848918915, 0.013038714416325092, -0.08492909371852875, 0.09917034953832626, -0.04129748046398163, 0.0635719820857048, -0.022019455209374428, 0.0012226258404552937, -0.08122154325246811, 0.005692997947335243, -0.03365113586187363, 0.07886151969432831, -0.0632561594247818, -0.024371588602662086, -0.013968120329082012, 0.06640548259019852, -0.0032988283783197403, -0.11485439538955688, -0.004627634305506945, -0.031727395951747894, 0.0534919910132885, 0.13656291365623474, 0.043913934379816055, -0.0182326789945364, -0.06523807346820831, 0.0272115096449852, -0.0014062459813430905, -0.006774696055799723, 0.026745736598968506, -0.0777171179652214, 0.06212408468127251, 0.07820843905210495, -0.010210763663053513, 0.048301976174116135, 0.013737473636865616, 0.010398638434708118, -0.0027285332325845957, -0.010588695295155048, 6.979317251257382e-34, -0.04861077293753624, -0.042736101895570755, -0.010184522718191147, -0.05337660014629364, 0.023719603195786476, -0.054299525916576385, -0.09485641866922379, 0.027537710964679718, 0.039953023195266724, -0.04245854541659355, 0.05760824680328369, -0.019033541902899742, -0.03317217528820038, 0.0736207664012909, -0.0753074437379837, -0.10715080052614212, 0.004393360577523708, -0.00784577988088131, -0.001896939123980701, -0.028846248984336853, -0.02759254164993763, 0.0322842113673687, 0.01464255154132843, -0.0262899249792099, 0.09218049794435501, 0.04152803495526314, -0.07765566557645798, 0.08754650503396988, -0.051366761326789856, 0.00808675866574049, 0.010006578639149666, 0.030453264713287354, -0.033822640776634216, -0.12677305936813354, -0.06133827567100525, 0.03348186984658241, -0.04599324241280556, 0.035582832992076874, -0.00117264233995229, 0.07571608573198318, 0.016142606735229492, -0.0033422037959098816, 0.020290713757276535, 0.0013340855948626995, 0.00513802794739604, -0.029725054278969765, 0.07245030254125595, 0.023256292566657066, 0.023377664387226105, 0.01895761862397194, -0.0012806722661480308, -0.03360655531287193, 0.11760057508945465, -0.02512645721435547, 0.007489911746233702, 0.005778533406555653, 0.06435448676347733, -0.01197021547704935, 0.09924532473087311, -0.07646739482879639, 0.03691944107413292, -0.019086357206106186, 0.02042398788034916, 0.02798817865550518, 0.016277078539133072, -0.0013097894843667746, 0.07660708576440811, -0.008243600837886333, 0.04255172237753868, -0.010099033825099468, 0.010056802071630955, -0.049879010766744614, 0.057534489780664444, 0.006613117177039385, 0.06185203045606613, -0.08798433840274811, 0.017747772857546806, 0.021460257470607758, -0.06327740848064423, -0.028917964547872543, -0.059909671545028687, -0.06514200568199158, 0.06122208386659622, -0.059229880571365356, 0.038968466222286224, -0.06673934310674667, 0.018075255677103996, -0.11534004658460617, -0.021978195756673813, -0.01378393080085516, 0.012125588953495026, 0.02923746220767498, 0.023885726928710938, 0.07201015204191208, 0.11167070269584656, -1.7829023590820725e-08, 0.0022508047986775637, -0.008166405372321606, -0.0651090070605278, 0.0012601381167769432, -0.024362238124012947, 0.05284763500094414, -0.10852282494306564, -0.12677480280399323, 0.03379262611269951, -0.03315284848213196, 0.024593712761998177, -0.039702560752630234, 0.06129151210188866, -0.03804284334182739, 0.0036654691211879253, -0.10608319193124771, -0.031955551356077194, -0.05053939297795296, 0.004072978161275387, -0.043657850474119186, 0.028891490772366524, -0.03850261867046356, 0.06589920073747635, -0.05391942337155342, 0.07185900211334229, 0.03824561461806297, -0.05689363181591034, -0.030760549008846283, 0.025868935510516167, 0.08143150806427002, 0.009336250834167004, 0.01055899914354086, -0.016598796471953392, 0.024142052978277206, -0.017768461257219315, -0.0011366006219759583, -0.00442858599126339, -0.026307621970772743, -0.02112462930381298, 0.0070685152895748615, 0.08523696660995483, 0.030138609930872917, 0.009133456274867058, 0.049523789435625076, -0.008300415240228176, 0.09903974086046219, 0.04494566097855568, -0.027846597135066986, 0.009876138530671597, -0.0045510041527450085, 0.043946392834186554, 0.008182035759091377, 0.027541695162653923, 0.026375634595751762, -0.021294070407748222, -0.010999786667525768, 0.028047310188412666, -0.03906179219484329, -0.0010541656520217657, 0.016073374077677727, 0.059396736323833466, 0.032196883112192154, -0.025018228217959404, 0.0009381845011375844], 'CommentCount': 0, 'CreationDate': '2008-11-16 13:45:23.137'}}, {'_index': 'semantic_html_posts', '_id': '293915', '_score': 1.0, '_source': {'Body': '<p>I have a VS solution, with the following projects.</p>\\n\\n<p>-GUI<br>\\n-DataAccess<br>\\n-BusinessLogic<br>\\n-BusinessObjects  </p>\\n\\n<p>but where should the main model class reside?  This is usually a cache of a set of objects which are the results from the data access layer and the GUI using virtual grids to view data inside the model.  The question would be the same using MVC or MVP</p>\\n\\n<p>thoughts?</p>\\n', 'Title': 'where does the model go?', 'Semantic_Title': [0.002943394472822547, 0.005194040481001139, 0.00692865252494812, 0.0312780886888504, 0.062108516693115234, 0.048429809510707855, -0.05006764084100723, -0.008136032149195671, 0.06046679988503456, 0.021927746012806892, 0.11568497121334076, 0.05534606799483299, -0.006987391971051693, -0.0321313813328743, -0.020676275715231895, -0.07792770117521286, -0.0093457642942667, -0.04285510256886482, -0.049773529171943665, -0.05364011228084564, -0.0055884141474962234, -0.011543960310518742, -0.015000877901911736, 0.008198193274438381, -0.03513675928115845, 0.01564452424645424, 0.005141535308212042, 0.039026375859975815, 0.0038611635100096464, -0.12304576486349106, -0.052834078669548035, 0.009137559682130814, -0.018562110140919685, 0.04719121381640434, 0.019423609599471092, 0.004210141487419605, 0.08327295631170273, -0.048215899616479874, 0.03809885308146477, -0.03288568928837776, -0.0003582237404771149, -0.09180238842964172, -0.02636011131107807, 0.0009396428358741105, 0.04839638993144035, -0.014362132176756859, 0.050576336681842804, -0.05952812358736992, 0.07601895928382874, -0.02265823818743229, -0.03178151696920395, -0.07468201220035553, 0.017103856429457664, 0.07620653510093689, -0.017361057922244072, 0.07337165623903275, 0.060176216065883636, -0.02438843809068203, 0.030341530218720436, 0.02977333590388298, 0.10636047273874283, 0.008044611662626266, -0.09251400083303452, 0.0719524472951889, 0.006636058911681175, -0.08072615414857864, -0.05093683674931526, 0.02216111682355404, 0.028715869411826134, -0.06593472510576248, 0.04259788990020752, -0.017342938110232353, -0.055049069225788116, -0.07168887555599213, 0.04803698509931564, -0.04545685648918152, 0.14857394993305206, 0.014178618788719177, 0.08889733254909515, 0.0011970627820119262, -0.0013747811317443848, -0.049424950033426285, 0.0010829552775248885, 0.02869117632508278, 0.007207212969660759, 0.06750975549221039, -0.02263708971440792, 0.003401208436116576, 0.026146667078137398, -0.05780043825507164, -0.07139018177986145, 0.003382043680176139, -0.1158982366323471, 0.0012425188906490803, -0.06282663345336914, -0.011459136381745338, -0.0041841771453619, 0.043346796184778214, 0.062216829508543015, 0.13879750669002533, 0.005250290501862764, 0.041452616453170776, 0.13055910170078278, 0.02843507193028927, -0.02983897179365158, -0.052325136959552765, 0.0036194792483001947, 0.09511823207139969, 0.040736373513936996, -0.03881426155567169, 0.017723293974995613, 0.06920450180768967, -0.023498671129345894, 0.051127102226018906, 0.08184327930212021, -0.07014396786689758, -0.04658225551247597, 0.03804855793714523, -0.0320090614259243, -0.0507030114531517, -0.05072042718529701, 0.013592779636383057, 0.03476129472255707, 0.03928886726498604, -0.06670218706130981, 0.023117978125810623, -0.06603986769914627, -6.968302593683688e-33, 0.005041188560426235, 0.005833906587213278, 0.023027272894978523, 0.05569485202431679, 0.06072886288166046, 0.02541518583893776, 0.02691941149532795, 0.05698505789041519, 0.016267193481326103, 0.04258262738585472, -0.036180876195430756, -0.02120654657483101, -0.0929403081536293, 0.07660574465990067, 0.014015888795256615, -0.08067387342453003, -0.07357088476419449, -0.007874876260757446, -0.07482045888900757, 0.0020204568281769753, 0.0803939551115036, 0.03355685994029045, 0.01848474331200123, 0.026032570749521255, 0.07082656770944595, 0.1625291407108307, 0.03546175733208656, 0.00035508943255990744, -0.09601902216672897, 0.05503594130277634, -0.04140150919556618, 0.06356467306613922, -0.022857122123241425, -0.04264676198363304, -0.009969246573746204, 0.0015107074286788702, -0.013135799206793308, -0.04124344140291214, -0.01788249984383583, -0.007167807314544916, 0.0014055289793759584, -0.015251562930643559, -0.08685711771249771, 0.05019761994481087, -0.008088836446404457, -0.014112308621406555, 0.12422299385070801, 0.03755473345518112, 0.07454182207584381, 0.06706643849611282, -0.029595855623483658, -0.07904430478811264, -0.005351407919079065, 0.028724992647767067, -0.05650864541530609, -0.007413050159811974, -0.019348066300153732, -0.08110450208187103, 0.013231033459305763, -0.030099429190158844, 0.10453833639621735, 0.03820187225937843, -0.01555065531283617, 0.004248507786542177, 0.12873463332653046, 0.008742016740143299, -0.011969956569373608, -0.0932076945900917, 0.026581188663840294, 0.017550913617014885, -0.07856868952512741, -0.018258986994624138, -0.04367285966873169, 0.012625357136130333, -0.015393916517496109, -0.022547418251633644, -0.1290179193019867, -0.027853216975927353, -0.047848545014858246, -0.009255263954401016, 0.007381043862551451, 0.013749120756983757, -0.029139777645468712, 0.051807701587677, 0.06968124210834503, -0.04680890962481499, -0.00028408350772224367, -0.11450640857219696, 0.038288939744234085, -0.06860194355249405, -0.004735537339001894, -0.010172617621719837, 0.046429384499788284, 0.0055689457803964615, 0.06160639226436615, 3.8254300003221865e-33, 0.04916778951883316, -0.08474262803792953, -0.03817874565720558, -0.04154842346906662, 4.251384234521538e-05, -0.04382968693971634, -0.028580736368894577, 0.044619206339120865, -0.023380639031529427, 0.024088066071271896, 0.009664843790233135, 0.02329990081489086, 0.09908092021942139, 0.02734890580177307, 0.0570426844060421, 0.06373670697212219, 0.052673447877168655, -0.09135724604129791, -0.04554242640733719, -0.03180987015366554, 0.04980897903442383, -0.04280528426170349, -0.037230316549539566, -0.03127201274037361, -0.05078217014670372, 0.0029751244001090527, 0.03554447740316391, 0.04007362201809883, -0.019604090601205826, -0.07098201662302017, -0.08173447102308273, -0.07531926035881042, 0.027753019705414772, 0.06681935489177704, -0.06534730643033981, 0.05901032313704491, -0.04320730268955231, -0.029981454834342003, 0.009610846638679504, 0.006858796812593937, 0.01764823868870735, -0.0042978739365935326, -0.000212963335798122, 0.08116662502288818, 0.00044460283243097365, 0.017499826848506927, -0.004243703559041023, -0.01901433616876602, 0.0025718361139297485, -0.03646587207913399, 0.05460090935230255, -0.059777166694402695, 0.03506339341402054, 0.010445495136082172, -0.04961324483156204, 0.060985829681158066, 0.008790983818471432, 0.0034097370225936174, -0.017977865412831306, 0.018354518339037895, -0.018563957884907722, -0.02825152315199375, -0.06875897198915482, 0.03986820951104164, -0.11731822043657303, -0.05671314895153046, -0.009512687101960182, 0.0003210843715351075, -0.04822533205151558, -0.03757362440228462, -0.056168727576732635, 0.062465887516736984, 0.010756139643490314, -0.06119082123041153, -0.0335579514503479, 0.016507308930158615, -0.050463128834962845, -0.03226390480995178, 0.030009794980287552, -0.057277511805295944, -0.006714456714689732, -0.045961927622556686, -0.026159947738051414, -0.03757273778319359, 0.048422735184431076, -0.1084214448928833, 0.020039886236190796, -0.022913213819265366, -0.015716545283794403, -0.07711303234100342, -0.006960134953260422, 0.10299257189035416, -0.0060839359648525715, 0.005441579967737198, -0.026477718725800514, -1.5394750363384446e-08, -0.02383711002767086, 0.06637152284383774, 0.127347931265831, -0.033362869173288345, 0.04314827546477318, 0.04511348530650139, 0.10930050164461136, 0.045348651707172394, 0.07958968728780746, -0.01181724201887846, -0.06261283159255981, -0.02265569381415844, 0.042254649102687836, 0.026802068576216698, 0.05725633352994919, 0.07014617323875427, -0.011290227063000202, 0.06499595195055008, -0.02070450969040394, -0.016851825639605522, -0.02710423804819584, -0.04107879847288132, 0.09255355596542358, -0.0036225314252078533, 0.0740148276090622, -0.017211373895406723, -0.04638320207595825, 0.11143043637275696, -0.02395113743841648, 0.0661417618393898, 0.004536286927759647, 0.08281154185533524, -0.0017579704290255904, -0.007817796431481838, -0.0019698620308190584, 0.04304076358675957, -0.05425376817584038, 0.06890859454870224, 0.03265642002224922, -0.06271207332611084, 0.023348968476057053, 0.005935295019298792, -0.0753246545791626, 0.01786920428276062, 0.0396592803299427, 0.02557862550020218, 0.03273608535528183, -0.03320031240582466, -0.02628646045923233, 0.07444356381893158, -0.07150138914585114, -0.037686336785554886, -0.017458079382777214, -0.0004579818050842732, -0.060694098472595215, -0.00025345649919472635, -0.0244939886033535, -0.07419724017381668, -0.06279328465461731, 0.03937514126300812, -0.04411599412560463, -0.03508822247385979, -0.027245569974184036, 0.01827550120651722], 'CommentCount': 0, 'CreationDate': '2008-11-16 14:19:46.607'}}, {'_index': 'semantic_html_posts', '_id': '293959', '_score': 1.0, '_source': {'Body': '<p>with jquery, or with simple just javascript, I want to populate a 2nd dropdown from the  choice of the first dropdown.\\nThe value of the first dropdown is the condition to get rows for the second dropdown.</p>\\n\\n<p>How does the onChange event look like?</p>\\n', 'Title': 'How can I populate another dropdown with the onChange event of the first dropdown?', 'Semantic_Title': [-0.10756871104240417, -0.09952585399150848, 0.0631876289844513, 0.008329967968165874, 0.06243758276104927, -0.0071474891155958176, 0.0850331038236618, 0.010360903106629848, 0.04585747793316841, -0.048501402139663696, -0.017848188057541847, -0.06064145267009735, -0.07592543959617615, -0.0029220401775091887, 0.04249433055520058, 0.016571473330259323, 0.021495189517736435, 0.0018222504295408726, -0.015558728016912937, 0.01657453365623951, 0.015511863864958286, -0.09572519361972809, -0.08670812100172043, -0.012298500165343285, 0.0076178680174052715, -0.007256414741277695, 0.013667095452547073, 0.04944440722465515, -0.05127273499965668, 0.030403319746255875, -0.038833290338516235, -0.0629519671201706, 0.030387744307518005, -0.11387103796005249, -0.05245501920580864, -0.06524015963077545, -0.005063234828412533, 0.054331548511981964, 0.04039860889315605, 0.0642438530921936, 0.016360023990273476, -0.007368085440248251, 0.03401469811797142, -0.036000557243824005, -0.044388432055711746, 0.003280871082097292, -0.02579398639500141, 0.09789590537548065, -0.005602072458714247, 0.03338697552680969, 0.08864710479974747, 0.03763466328382492, 0.0756259337067604, -0.037756990641355515, 0.03168834373354912, 0.029701344668865204, 0.01621587574481964, -0.010813992470502853, -0.01029123179614544, -0.0657670646905899, -0.02176317386329174, 0.035069406032562256, -0.05574865639209747, 0.07695873081684113, 0.003860368160530925, -0.006324692629277706, 0.004804763477295637, -0.041356559842824936, -0.07323026657104492, 0.0083326930180192, 0.04715203493833542, -0.01364183984696865, 0.04948098957538605, 0.05190444365143776, -0.001525931409560144, -0.1168486550450325, -0.056258123368024826, 0.05607824772596359, 0.05457160621881485, 0.02090360037982464, 0.06916428357362747, 0.02934146858751774, -0.006614201702177525, -0.04450502246618271, -0.0674181655049324, -0.07312921434640884, -0.024647017940878868, 0.04213347285985947, -0.04377588629722595, -0.047043219208717346, -0.011311491951346397, -0.003275593975558877, 0.034546222537755966, 0.031483277678489685, -0.045351412147283554, 0.05907212197780609, -0.023068709298968315, -0.04437804967164993, 0.058140967041254044, -0.022749096155166626, -0.0838547796010971, -0.03939313814043999, 0.00904941651970148, 0.03940446302294731, -0.07722558081150055, -0.11898291110992432, -0.07082463800907135, -0.07790939509868622, 0.0659942626953125, 0.06740978360176086, 0.008098767139017582, -0.011593623086810112, 0.027977414429187775, 0.09327640384435654, -0.042617663741111755, 0.09470964968204498, 0.10570748895406723, 0.043943170458078384, -0.05296868085861206, -0.03468533232808113, 0.03165164217352867, 0.034267812967300415, -0.054111406207084656, -0.03374236449599266, -0.06403062492609024, -0.10527314245700836, -0.04198875650763512, -3.136360721999931e-33, 0.065056711435318, -0.1305602639913559, -0.0716496929526329, 0.04503843933343887, -0.01079725194722414, 0.004915808327496052, -0.06576719880104065, -0.022527428343892097, -0.008394508622586727, 0.031203366816043854, -0.013661617413163185, 0.028689280152320862, 0.02583959512412548, -0.052468813955783844, -0.001457197591662407, 0.03359192982316017, -0.07958675920963287, 0.012299152091145515, 0.023169605061411858, -0.057574160397052765, -0.04119603708386421, 0.0647672489285469, -0.010149958543479443, -0.03510788083076477, 0.06929124891757965, 0.032611384987831116, -0.009820694103837013, 0.047671299427747726, 0.03499080613255501, -0.014256694354116917, 0.013304131105542183, -0.04550166428089142, 0.02575911395251751, -0.018971258774399757, -0.09793650358915329, 0.007986893877387047, -0.039196014404296875, -0.01411941833794117, -0.041633814573287964, -0.05961648002266884, 0.11131028085947037, -0.05395303666591644, -0.054862264543771744, -0.0015493822284042835, -0.030362004414200783, -0.05776731297373772, -0.05778555944561958, 0.031161462888121605, 0.04115435853600502, -0.07166274636983871, -0.04966036602854729, -0.01776806265115738, -0.08474962413311005, 0.042673032730817795, -0.0015577883459627628, 0.12986193597316742, -0.07559270411729813, 0.0057072713971138, 0.03411079943180084, 0.006991049740463495, 0.0016055209562182426, 0.0028007018845528364, 0.07034444808959961, 0.0839439406991005, 0.03541939705610275, 0.01763838343322277, 0.012537699192762375, -0.03753899782896042, -0.00741704972460866, -0.010760891251266003, -0.026018159464001656, -0.007807394023984671, 0.022325124591588974, -0.04688427597284317, 0.042538437992334366, 0.05576808378100395, 0.005188473965972662, -0.08643660694360733, 0.018397727981209755, 0.02946765534579754, -0.05411624163389206, -0.08965721726417542, 0.011849809437990189, 0.06760165840387344, 0.02970091998577118, 0.05480451136827469, -0.01708238758146763, 0.019762063398957253, -0.12084580212831497, 0.030895177274942398, -0.05908804386854172, 0.0024816051591187716, 0.1244463250041008, -0.08697370439767838, 0.12172397971153259, -3.1269189768866837e-34, -0.013043896295130253, -0.043876633048057556, 0.09250416606664658, 0.01263186801224947, 0.016060248017311096, 0.06672007590532303, 0.06008217856287956, -0.02770586684346199, -0.004950996488332748, 0.008806993253529072, -0.013381198048591614, 0.03534401208162308, -0.01103678997606039, 0.006648292299360037, 0.001787008484825492, 0.09358096122741699, -0.003944124560803175, -0.0020507504232227802, 0.050626762211322784, 0.045186832547187805, 0.07908905297517776, -0.04218689352273941, -0.07320575416088104, -0.027466896921396255, -0.06594465672969818, 0.008623314090073109, -0.008304210379719734, 0.037256937474012375, -0.014113637618720531, -0.0007737196865491569, -0.08498919010162354, 0.032442398369312286, -0.005538296420127153, 0.09147550165653229, 0.03582194820046425, 0.0373065248131752, 0.03357692062854767, -0.06535717844963074, -0.03520701453089714, 0.0972306877374649, -0.0009538644808344543, -0.04762750118970871, 0.009395468980073929, -0.012104667723178864, 0.008572742342948914, -0.04905856400728226, -0.019066793844103813, 0.06919680535793304, 0.050846219062805176, -0.10315299779176712, -0.006849180441349745, 0.00013841711916029453, -0.050195351243019104, 0.08890504390001297, 0.06674359738826752, 0.039703819900751114, 0.05877770856022835, 0.06572253257036209, 0.02162053994834423, 0.04078282043337822, -0.029497617855668068, -0.03492547571659088, -0.030373120680451393, 0.06918685138225555, 0.03877810016274452, -0.01923258975148201, -0.03014465793967247, 0.06476657092571259, -0.017655212432146072, -0.004530951380729675, -0.037442103028297424, -0.018790774047374725, 0.09057794511318207, -0.09910058230161667, 0.04203961789608002, -0.052767712622880936, -0.015940262004733086, 0.02692289650440216, 0.04383065924048424, -0.050141312181949615, -0.015245148912072182, -0.03806135803461075, -0.029992898926138878, -0.01976708695292473, -0.04279938340187073, 0.07982569932937622, -0.03326844796538353, 0.054974839091300964, 0.09330765902996063, -0.04281504452228546, -0.1068699061870575, -0.02866380289196968, 0.1169556975364685, -0.06789138913154602, -0.0959186777472496, -2.3405936744325118e-08, 0.036460861563682556, -0.0042439959943294525, 0.04665812849998474, -0.01253411266952753, -0.02130223624408245, 0.059872761368751526, -0.04762685298919678, -0.006677389610558748, -0.05935946851968765, -0.11004717648029327, -0.07259699702262878, 0.08611802011728287, 0.11579207330942154, 0.01353936642408371, 0.021818093955516815, 0.017175203189253807, -0.0069490354508161545, -0.036031074821949005, 0.04859035462141037, 0.004685347434133291, 0.06572225689888, 0.04329982027411461, 0.018164919689297676, 0.0073591903783380985, -0.019279561936855316, -0.022703394293785095, -0.07210037857294083, -0.03131157532334328, -0.0012517026625573635, 0.059290118515491486, 0.015366986393928528, 0.01893792115151882, 0.02128838375210762, -0.005522442981600761, 0.02346622385084629, -0.04453418403863907, -0.01810438185930252, -0.03969534859061241, 0.08037061244249344, -0.008218933828175068, 0.024367433041334152, -0.07005681842565536, -0.09631907939910889, 0.0019947034306824207, -0.07065091282129288, 0.002880664309486747, 0.011840823106467724, -0.05482812598347664, 0.019291827455163002, 0.009034243412315845, -0.017066342756152153, 0.043894268572330475, 0.0752321109175682, -0.01425752229988575, 0.027719493955373764, -0.003354440676048398, -0.05976181849837303, -0.007303840015083551, 0.0163979884237051, 0.04880338907241821, -0.042779359966516495, -0.01888767071068287, 0.033320069313049316, 0.07383094727993011], 'CommentCount': 0, 'CreationDate': '2008-11-16 15:05:48.403'}}, {'_index': 'semantic_html_posts', '_id': '293972', '_score': 1.0, '_source': {'Body': '<p>There\\'s a HTML:</p>\\n\\n<pre><code>&lt;div class=\"test\"&gt;\\n&lt;ul&gt;\\n    &lt;li&gt;Item 1&lt;/li&gt;\\n    &lt;li&gt;Item 2&lt;/li&gt;\\n&lt;/ul&gt;\\n&lt;/div&gt;\\n</code></pre>\\n\\n<p>And a bit of JS:</p>\\n\\n<pre><code>$(document).ready(function() {\\n    // do stuff when DOM is ready\\n    $(\".test ul\").append(\\'&lt;li&gt;Foo&lt;/li&gt;\\');\\n});\\n</code></pre>\\n\\n<p>Why does it add nothing, but if I remove html from append\\'s argument string,</p>\\n\\n<pre><code>.append(\\'Foo\\')\\n</code></pre>\\n\\n<p>it works - but that\\'s not the point - new text is added as anonymous block, not li item as I wanted.</p>\\n\\n<p>Anu suggestions?</p>\\n\\n<p><em>edit:</em>\\nArgh, I\\'ve found the problem. I modified a file saved from Firefox\\'s \"Save page\" option, the extension was .xhtml - and here\\'s the problem. I renamed it and it works fine.</p>\\n\\n<p>Thanks :)</p>\\n', 'Title': 'Adding element to node', 'Semantic_Title': [0.008274061605334282, 0.022707436233758926, -0.027147939428687096, 0.06792072206735611, 0.05470588430762291, 0.03027479164302349, 0.08138112723827362, -0.018802450969815254, 0.02315966784954071, 0.0037789414636790752, 0.03270663693547249, -0.023195983842015266, 0.009458230808377266, -0.0909530445933342, 0.05873895436525345, -0.007290542591363192, -0.05685974285006523, 0.01694563776254654, 0.03052268736064434, -0.10520728677511215, -0.00016867564409039915, -0.05131852254271507, 0.008096786215901375, 0.021279174834489822, 0.046071648597717285, 0.01302622351795435, -0.014205646701157093, 0.029539989307522774, 0.054743122309446335, 0.012890424579381943, 0.016867129132151604, -0.006833343300968409, 0.07541514188051224, 0.03412719443440437, -0.1145588681101799, 0.07417845726013184, -0.011468353681266308, 0.04763864725828171, -0.06962103396654129, 0.01945267617702484, 0.029439575970172882, -0.01993044652044773, 0.040740929543972015, 0.0017920646350830793, -0.017462847754359245, -0.08345735818147659, -0.0026247429195791483, -0.05361468344926834, 0.08323682099580765, 0.03505965694785118, 0.033265307545661926, -0.03702619671821594, -0.036767248064279556, -0.009737381711602211, -0.0753897875547409, 0.13231626152992249, -0.014194357208907604, 0.024306301027536392, -0.022865623235702515, -0.05707668885588646, 0.06807288527488708, -0.03189067542552948, 0.09979286789894104, 0.011021220125257969, 0.10352182388305664, -0.003925758879631758, -0.10874521732330322, 0.04799463972449303, -0.09999044984579086, 0.043030548840761185, 0.10618740320205688, -0.003013306763023138, 0.051198866218328476, 0.049450092017650604, -0.008331201039254665, -0.01780981570482254, -0.0017281604232266545, 0.02814941480755806, 0.0018808459863066673, 0.08664155751466751, -0.017960255965590477, 0.00496847415342927, -0.028026863932609558, 0.003265948034822941, -0.004610652569681406, 0.1206231415271759, 0.022131919860839844, -0.06613479554653168, -0.08270429819822311, -0.031289443373680115, 0.013995163142681122, 0.06768465787172318, -0.06170744076371193, -0.03488100692629814, 0.05327584594488144, 0.061011902987957, 0.050669945776462555, -0.04105420038104057, -0.12725551426410675, 0.04937517270445824, 0.05991699546575546, 0.019897041842341423, -0.13227781653404236, -0.02732846513390541, 0.005551972892135382, -0.024851873517036438, -0.07025013118982315, -0.03770623728632927, -0.08919058740139008, 0.004141482058912516, 0.0494365431368351, 0.08303073793649673, -0.08055181056261063, -0.04669829457998276, -0.0587393157184124, -0.08468020707368851, 0.061846598982810974, -0.08267228305339813, -0.004596369341015816, -0.03144213557243347, 0.1355968415737152, -0.0005672224797308445, -0.04592088609933853, -0.0025234187487512827, -0.004126603249460459, -0.07047690451145172, -0.03236754238605499, -2.4447937018531705e-33, 0.0002403116668574512, -0.02336706966161728, -0.008053960278630257, -0.005258144810795784, 0.0049827611073851585, 0.0670710876584053, -0.0220944844186306, -0.01819487288594246, -0.09876011312007904, -0.06677088886499405, -0.06651245057582855, -0.03403080254793167, -0.008129023015499115, -0.06578119099140167, 0.022387783974409103, -0.06055031344294548, -0.0041713532991707325, 0.020353036001324654, 0.03232685104012489, -0.023224497213959694, -0.05389311537146568, -0.06594544649124146, -0.011033394373953342, 0.009804343804717064, -0.003663034178316593, 0.048683978617191315, -0.04372476413846016, -0.06559041142463684, -0.026228515431284904, -0.032347120344638824, 0.02779475599527359, 0.03684438019990921, 0.010710857808589935, 0.10093539953231812, 0.0222860686480999, 0.023511122912168503, 0.05076267197728157, -0.006380597595125437, -0.017564693465828896, -0.08308897167444229, 0.060424573719501495, -0.028434107080101967, 0.05167319253087044, -0.0019842199981212616, 0.012120835483074188, -0.01674470864236355, -0.007084086537361145, -0.02575092762708664, -0.012919099070131779, -0.0005710723926313221, -0.05613842234015465, -0.006613762583583593, 0.025173908099532127, -0.045267775654792786, -0.0633392259478569, 0.10759694874286652, -0.030314214527606964, 0.022252393886446953, 0.00882371049374342, -0.023000743240118027, 0.06741335242986679, 0.0625717043876648, 0.00347138405777514, 0.04661807417869568, -0.014746425673365593, 0.03641905635595322, 0.001579549047164619, 0.011742724105715752, 0.06859903037548065, -0.055258337408304214, 0.016811048611998558, 0.02695581316947937, 0.02087300270795822, 0.12172261625528336, 0.006224450655281544, -0.0002013572520809248, -0.1176610141992569, -0.09511945396661758, -0.07647564262151718, 0.034847717732191086, -0.023789172992110252, -0.09432324022054672, -0.011712562292814255, 0.001986135495826602, 0.11600381135940552, -0.010424560867249966, -0.05938795581459999, 0.0424494743347168, 0.08358775079250336, 0.004152412060648203, 0.04821198061108589, -0.03476196900010109, -0.029958227649331093, -0.025223221629858017, -0.012542900629341602, 3.6966654766958996e-34, -0.058247119188308716, 0.03013235703110695, 0.023678051307797432, 0.0340704508125782, 0.04164992645382881, -0.04428838938474655, -0.05849677696824074, -0.12062767148017883, 0.03298700973391533, 0.037300217896699905, -0.01719820499420166, 0.0010979390935972333, 0.0046929181553423405, -0.03826165571808815, 0.026235658675432205, 0.07231360673904419, -0.07537999749183655, 0.04120044782757759, 0.024570327252149582, -0.022493431344628334, 0.0004900642670691013, -0.04109511896967888, 0.07756182551383972, -0.06113722547888756, -0.015809642150998116, -0.024493621662259102, 0.0478765144944191, 0.015867488458752632, -0.061296992003917694, -0.13818520307540894, -0.00435662129893899, 0.05669621005654335, 0.010465673170983791, 0.0780320093035698, 0.0886346846818924, -0.014334009028971195, 0.07095150649547577, 0.0059299408458173275, 0.04308048635721207, -0.029351824894547462, -0.007757014129310846, -0.03928058594465256, -0.0001046977995429188, 0.030735770240426064, 0.04137333109974861, -0.014320624060928822, 0.04299675300717354, 0.05031007528305054, -0.009853300638496876, 0.02423582784831524, -0.05089616775512695, -0.0941464900970459, -0.05347568169236183, 0.007714197505265474, 0.0490419939160347, 0.030941402539610863, -0.05666253715753555, 0.06819068640470505, 0.16303350031375885, -0.046074990183115005, 0.00025355961406603456, -0.043061792850494385, -0.030334917828440666, -0.006646407768130302, 0.011052214540541172, -0.015051910653710365, -0.09188297390937805, -0.03232928365468979, -0.048028528690338135, -0.015594814904034138, -0.017337821424007416, 0.07025641202926636, 0.005563444457948208, -0.01430334709584713, 0.004605441819876432, -0.031146354973316193, 0.05218091607093811, 0.00029705866472795606, 0.017041286453604698, -0.07238716632127762, -0.07787846773862839, 0.01855229027569294, -0.05642176792025566, -0.020826317369937897, 0.02843361347913742, -0.05946298688650131, 0.010176747106015682, 0.10808154195547104, -0.04664870351552963, -0.017400668933987617, -0.049364298582077026, 0.11244150251150131, -0.08812934160232544, -0.012743975035846233, -0.08559704571962357, -1.5035535483320928e-08, -0.0636376291513443, -0.009663740172982216, -0.08198874443769455, -0.06014434993267059, 0.0657392144203186, 0.02263179048895836, 0.07028846442699432, -0.03661792725324631, -0.006847171112895012, -0.048899877816438675, 0.047636937350034714, -0.003942836541682482, 0.03840646520256996, -0.03825977072119713, 0.002236665226519108, -0.025505756959319115, -0.026545923203229904, 0.001211242750287056, 0.021755428984761238, 0.0011716732988134027, 0.07725508511066437, 0.034339968115091324, 0.011137379333376884, 0.060090966522693634, 0.01128579955548048, 0.0042450809851288795, -0.016156496480107307, -0.026757391169667244, 0.017248237505555153, 0.07488914579153061, 0.039356645196676254, -0.004306680057197809, 0.01757955178618431, 0.09275621920824051, 0.030076460912823677, -0.03290069103240967, 0.04633248969912529, 0.007170046214014292, 0.017869532108306885, -0.03234067186713219, -0.006520452443510294, 0.017541704699397087, 0.023478582501411438, -0.007664267905056477, 0.015189648605883121, 0.009669283404946327, -0.07123152166604996, -0.030835868790745735, 0.0466466024518013, -0.005652321502566338, 0.09246223419904709, -0.06847843527793884, 0.0573495477437973, -0.06862685829401016, 0.019069770351052284, 0.014524897560477257, 0.05203893035650253, 0.02667686901986599, -0.020261060446500778, 0.1027233824133873, -0.08324522525072098, -0.006880882661789656, 0.08407492935657501, -0.03337909281253815], 'CommentCount': 0, 'CreationDate': '2008-11-16 15:18:10.343'}}, {'_index': 'semantic_html_posts', '_id': '293989', '_score': 1.0, '_source': {'Body': '<p>I have a visual studio solution with the following projects:</p>\\n\\n<ol>\\n<li>UI</li>\\n<li>DataAccess</li>\\n<li>BusiessLogic</li>\\n<li>BusinessObjects</li>\\n</ol>\\n\\n<p>I now have a bunch of code that generates reports that are sent out via email or saved as csv files.</p>\\n\\n<p>These ReportGenerators classes take in business objects and output either files or strings.</p>\\n\\n<p>which project would you put them in?  I am leaning toward an answer but wanted to see what others thought?</p>\\n', 'Title': 'where would report generation code go . ', 'Semantic_Title': [-0.07644817233085632, 0.011464735493063927, -0.1465025544166565, 0.03965848684310913, 0.0008509266190230846, 0.06408009678125381, -0.10704216361045837, 0.008626512251794338, -0.0472918376326561, 0.01903456076979637, 0.06407210230827332, 0.03224743530154228, 0.06880906969308853, -0.05230248346924782, -0.04252886772155762, 0.01111571118235588, -0.03011959232389927, -0.01273022685199976, 0.04599465802311897, -0.06771605461835861, 0.10729620605707169, 0.05447198450565338, 0.01917530596256256, 0.029933873564004898, 0.014154954813420773, 0.024623870849609375, -0.04021894559264183, 0.05405772477388382, 0.0415145680308342, -0.02299579232931137, -0.0019944205414503813, 0.10545077919960022, 0.029085159301757812, 0.06592776626348495, 0.0394427664577961, 0.050438523292541504, 0.04809125140309334, 0.05543800815939903, 0.04923761636018753, -0.052879441529512405, -0.0559408999979496, -0.02411818318068981, 0.04151226580142975, 0.03523389250040054, -0.02130633406341076, -0.0676027312874794, -0.07664118707180023, -0.0612843818962574, -0.08564180135726929, -0.010464772582054138, -0.028405148535966873, -0.0022276092786341906, 0.01841118559241295, -0.038650427013635635, -0.002970767905935645, -0.07102254033088684, 0.0596357025206089, -0.0672389417886734, -0.045709896832704544, 0.03134328871965408, -0.03249672055244446, 0.0040723420679569244, -0.07519302517175674, -0.007325419224798679, 0.06826460361480713, 0.0907297432422638, -0.004403362516313791, 0.06957390159368515, -0.012238929979503155, -0.13422101736068726, -0.11120595037937164, -0.06168649345636368, -0.05951274558901787, 0.0945366844534874, 0.026697121560573578, 0.11977092921733856, 0.017749976366758347, 0.0335393100976944, 0.022562149912118912, -0.12765735387802124, -0.009855944663286209, -0.0032591591589152813, 0.03712135925889015, 0.11272887140512466, 0.04576771333813667, 0.05626332014799118, 0.16385841369628906, 0.07386063784360886, 0.06418587267398834, 0.07388906925916672, -0.073093481361866, -0.009346947073936462, 0.06650418043136597, 0.038785170763731, -0.13500094413757324, 0.03125277906656265, -0.037917349487543106, -0.12552852928638458, 0.08753754198551178, 0.02805153653025627, 0.034676674753427505, 0.011641738936305046, 0.07242569327354431, -0.0470561683177948, -0.05218666419386864, -0.04233940690755844, 0.04314713552594185, 0.08882319927215576, -0.013565403409302235, 0.0024085992481559515, 0.016956306993961334, 0.04926229268312454, 0.01405066903680563, -0.0713573768734932, 0.0625414028763771, 0.02762703038752079, -0.043907638639211655, 0.044875938445329666, 0.07602662593126297, 0.01180527824908495, 0.01452281791716814, 0.028742115944623947, -0.04105604439973831, 0.0586647130548954, -0.007573545444756746, 0.019513027742505074, -0.03745105862617493, -4.2009104466236725e-33, -0.02019081450998783, 0.0005119532579556108, 0.012296194210648537, 0.06146053969860077, 0.05041634291410446, 0.0502115935087204, 0.0020575853995978832, 0.021682078018784523, 0.021152278408408165, -0.0529172457754612, 0.018423868343234062, -0.026564840227365494, -0.011936678551137447, 0.06865876913070679, 0.015458648093044758, -0.005184695590287447, -0.04583822190761566, 0.055901192128658295, -0.07392997294664383, 0.036869198083877563, 0.013385610654950142, -0.07110495865345001, 0.06724260002374649, 0.011712790466845036, 0.10805128514766693, 0.1347590833902359, -0.019127774983644485, -0.012850291095674038, 0.007159392815083265, 0.01582483947277069, -0.017348580062389374, -0.01945113018155098, 0.024258900433778763, 0.010513704270124435, 0.013673503883183002, 0.07343658059835434, 0.005528946872800589, -0.002094714902341366, 0.004059240221977234, 0.04019886627793312, -0.0022602675016969442, 0.04310782253742218, -0.06366380304098129, 0.017786240205168724, 0.07692220062017441, -0.034250058233737946, 0.0031099352054297924, 0.0161629356443882, 0.06500417739152908, 0.006201098207384348, -0.016604438424110413, 0.08175750821828842, -0.01901945471763611, -0.03442888334393501, 0.021238042041659355, -0.008612481877207756, -0.01913503371179104, -0.09509185701608658, 0.08506729453802109, 0.023306123912334442, 0.04839976876974106, 0.0416446328163147, -0.01654678024351597, -0.05719345062971115, -0.01798069290816784, -0.07117816805839539, 0.045403383672237396, -0.020754065364599228, 0.03968377411365509, -0.04173702746629715, 0.030064264312386513, -0.06616684049367905, -0.01591842994093895, -0.011237162165343761, -0.06418731063604355, -0.04779040440917015, -0.023217858746647835, 0.02338961884379387, -0.07064419984817505, -0.061491698026657104, 0.04546569660305977, 0.010630420409142971, -0.07007034122943878, 0.012455837801098824, 0.0960075631737709, 0.027138523757457733, 0.015377209521830082, 0.02200743556022644, -0.08723275363445282, 0.02894112654030323, -0.016361428424715996, -0.0682162493467331, 0.025446252897381783, 0.024028092622756958, 0.03615197539329529, 1.5273223814172906e-33, -0.07249732315540314, 0.005217583384364843, -0.02645820379257202, -0.032616086304187775, -0.07291653007268906, -0.053014229983091354, -0.021846983581781387, -0.039781298488378525, 0.014076344668865204, 0.08773574233055115, -0.02747034654021263, -0.03650680184364319, -0.0407743826508522, 0.004219562280923128, -0.01370866596698761, -0.02916569821536541, -0.011975038796663284, -0.010007482022047043, -0.02820117399096489, 0.08746229857206345, 0.05381457880139351, 0.07916181534528732, -0.007356738671660423, 0.04465380311012268, -0.02163556218147278, 0.025758538395166397, 0.06861678510904312, 0.030809776857495308, -0.003269513603299856, -0.03314943239092827, 0.028264297172427177, -0.01797417365014553, -0.08562326431274414, 0.049827318638563156, -0.06570692360401154, -0.06080107018351555, 0.0584011934697628, -0.019163671880960464, 0.017120828852057457, 0.06646116822957993, 0.034579988569021225, 0.02024553343653679, -0.04346950352191925, 0.09503289312124252, -0.09098891913890839, 0.05520797148346901, -0.017086539417505264, -0.03210776299238205, 0.02880423702299595, -0.0464184433221817, -0.04678456485271454, 0.016045957803726196, -0.012019949965178967, -0.06488345563411713, -0.12815088033676147, -0.0008179740398190916, -0.0012791079934686422, -0.017063798382878304, -0.04209331050515175, 0.0791754275560379, -0.05673377588391304, -0.007928679697215557, 0.00639097997918725, -0.08461664617061615, -0.04403446242213249, -0.08223311603069305, 0.015604190528392792, 0.06028824672102928, -0.030658205971121788, 0.016277259215712547, 0.06914529204368591, -0.005550571251660585, -0.041932158172130585, -0.05859402194619179, 0.01521335169672966, 0.02803468331694603, 0.02060243859887123, 0.022820768877863884, -0.03051358088850975, -0.007870164699852467, 0.03554077446460724, 0.006677467375993729, -0.008098459802567959, -0.03867596760392189, -0.010010046884417534, -0.12695921957492828, 0.048324912786483765, 0.014545176178216934, -0.015732713043689728, -0.03430688753724098, -0.06801655888557434, 0.0138362692669034, -0.07782556116580963, -0.028304539620876312, 0.03713468462228775, -1.501950741555902e-08, 0.03048175759613514, -0.002753191627562046, 0.0592530257999897, 0.004687019158154726, 0.09273000061511993, 0.08217140287160873, -0.02764056995511055, 0.04052690416574478, 0.01822059601545334, -0.0002752635919023305, -0.029482698068022728, -0.04489960893988609, -0.040684912353754044, -0.016353163868188858, -0.004634514916688204, -0.03856278210878372, -0.03865215554833412, 0.012585991993546486, -0.06085822731256485, 0.009455215185880661, -0.06945216655731201, 0.05638549476861954, 0.04171996936202049, -0.018520092591643333, -0.03255539759993553, -0.059643570333719254, 0.0612308606505394, 0.0409761518239975, 0.02403360791504383, -0.005692934151738882, 0.03563003987073898, 0.0726509764790535, 0.01704893633723259, -0.04081052541732788, 0.008962444961071014, -0.005842873360961676, -0.06386087834835052, 0.03070961870253086, 0.05583762750029564, -0.06759580969810486, 0.019240178167819977, 0.0003902808530256152, -0.043364640325307846, 0.02440951205790043, -0.02015445940196514, 0.014935643412172794, -0.058357737958431244, -0.11443700641393661, -0.0480550080537796, -0.055838655680418015, -0.0682600662112236, -0.05748366937041283, 0.003704336704686284, 0.05050582438707352, 0.01106333453208208, 0.07653196156024933, -0.04392559453845024, -0.09432878345251083, 0.024405719712376595, 0.04269269108772278, 0.0027199743781238794, 0.05757564306259155, 0.013394840992987156, 0.0022159942891448736], 'CommentCount': 0, 'CreationDate': '2008-11-16 15:28:16.203'}}, {'_index': 'semantic_html_posts', '_id': '294077', '_score': 1.0, '_source': {'Body': '<p>I have a large amount of rows in the database from which I need to create an XML document. I am using hibernate 3. The basic list() method in Criteria and Query interfaces looks dangerous: I quess it pretty much has to read all the records into memory even if I only iterate over them. Or is there some lazy loading magic? If not, I seem to have two options left: using scroll() or iterate() from Query (scroll is also present in Criteria). iterate doesn\\'t look all that great either if I want to have minimal SQL roundtrips: \"The first SQL query returns identifiers only\". So am I right, do I have to use scroll() for this?</p>\\n', 'Title': 'Hibernate: Avoiding reading all the records to memory at once', 'Semantic_Title': [0.061999332159757614, 0.09380917251110077, -0.10462355613708496, 0.08367466181516647, -0.054888468235731125, 0.051627177745103836, 0.04560389742255211, -0.006257055327296257, -0.03177464380860329, 0.019547268748283386, 0.011295394040644169, 0.07948408275842667, 0.0537000335752964, -0.08001168072223663, -0.06460879743099213, 0.032009903341531754, -0.026263445615768433, 0.14546120166778564, -0.005983899813145399, -0.039827391505241394, 0.05466242507100105, 0.014913740567862988, 0.034054141491651535, 0.058695122599601746, -0.05325434356927872, 0.01843036524951458, -0.028062472119927406, -0.02843940258026123, -0.026787111535668373, -0.047047242522239685, 0.003150303615257144, 0.030408017337322235, -0.07305656373500824, 0.06766140460968018, 0.03739912062883377, 0.020174778997898102, -0.09584428369998932, 0.042930833995342255, -0.0361236073076725, -0.02290060929954052, 0.04276594892144203, 0.05828576907515526, -0.025093359872698784, 0.08327826112508774, 0.010952186770737171, -0.00223954813554883, -0.02146627940237522, -0.04714967682957649, 0.056587740778923035, -0.002153318375349045, -0.07466109842061996, 0.04057652875781059, 0.005194677505642176, 0.04567813128232956, 0.03359824791550636, 0.04728170484304428, 0.01728801429271698, -0.04663701355457306, -0.09868143498897552, -0.018278803676366806, -0.07751086354255676, -0.04376419261097908, -0.007397612556815147, -0.0373433455824852, -0.07263940572738647, -0.026018310338258743, 0.12551602721214294, 0.04524395987391472, 0.06318282335996628, 0.013575384393334389, 0.00500209117308259, 0.0794777050614357, -0.048221517354249954, -0.010300546884536743, -0.04212677478790283, -0.00431575533002615, -0.04318870231509209, 0.03678901866078377, 0.01194117683917284, 0.018857404589653015, -0.008150576613843441, 0.01385173387825489, 0.03509301692247391, -0.09933477640151978, 0.02032708190381527, -0.02738066203892231, 0.0697786882519722, -0.06598805636167526, -0.0018805565778166056, 0.0030960096046328545, -0.07806014269590378, -0.008505499921739101, 0.07162807881832123, 0.01975756697356701, -0.07017950713634491, 0.03615821897983551, 0.05794331058859825, -0.007865410298109055, 0.025454621762037277, 0.012609283439815044, 0.06360747665166855, 0.10530991852283478, -0.015557380393147469, 0.0770026221871376, -0.06594166904687881, -0.11656039953231812, 0.020704001188278198, -0.0006058926228433847, -0.024818070232868195, -0.011933576315641403, 0.04169945791363716, 0.06726928055286407, 0.057033319026231766, 0.06057507544755936, 0.0017555963713675737, -0.017419401556253433, 0.00705318246036768, 0.022305015474557877, -0.019761208444833755, -0.00047678963164798915, -0.02322213165462017, -0.012920675799250603, 0.035768941044807434, 0.017177801579236984, -0.05639556422829628, -0.016531262546777725, -0.020517723634839058, -5.777489990266752e-34, 0.08155795931816101, -0.02616378664970398, -0.012098006904125214, 0.017093583941459656, -0.11347637325525284, 0.00010374550038250163, -0.028957627713680267, 0.08688978850841522, -0.013505728915333748, 0.005363253876566887, -0.008844736963510513, -0.04542277753353119, -0.009211746975779533, -0.04695116728544235, -0.027253208681941032, 0.0032184559386223555, -0.06403530389070511, 0.049554403871297836, 0.024730360135436058, -0.018766701221466064, -0.05678164213895798, 0.0007877688622102141, 0.0029050190933048725, -0.026960765942931175, 0.026925940066576004, -0.018369633704423904, -0.014335976913571358, 0.018165692687034607, -0.03152080625295639, 0.021524038165807724, 0.026080863550305367, -0.005241000093519688, -0.049997057765722275, -0.01695266366004944, 0.04244958981871605, -0.016265150159597397, 0.021743077784776688, -0.0031809278298169374, 0.010914264246821404, -0.07764589786529541, -0.04422588273882866, 0.0023978115059435368, 0.08972223848104477, -0.07595443725585938, -0.04732494056224823, -0.05479462072253227, -0.04214809834957123, 0.031082820147275925, -0.04819922894239426, 0.05507418140769005, -0.009103027172386646, 0.010618426837027073, -0.07086499035358429, 0.0023637162521481514, -0.033853013068437576, -0.07035469263792038, -0.014750874601304531, 0.008442327380180359, 0.02513200230896473, 0.13432838022708893, -0.07390542328357697, -0.01421665120869875, 0.016666794195771217, 0.049826979637145996, 0.04303664714097977, 0.08913499116897583, -0.09299047291278839, -0.024022022262215614, 0.033234287053346634, -0.08159374445676804, 0.04014190658926964, -0.06878919154405594, -0.0006368384347297251, -0.03606609255075455, -0.03377353399991989, 0.01614570803940296, 0.078040711581707, -0.024441469460725784, -0.0019759777933359146, -0.019185271114110947, 0.15626826882362366, -0.00929137784987688, 0.0016148833092302084, 0.035115618258714676, -0.03936149179935455, 0.012516987510025501, 0.050966519862413406, -0.061842236667871475, -0.013988327234983444, 0.07378122210502625, -0.004404605831950903, 0.023427942767739296, 0.1208232194185257, -0.09987228363752365, -0.03559372201561928, -1.354126903435932e-34, 0.05764824524521828, -0.05146583169698715, -0.04073113948106766, -0.023759815841913223, 0.0332745760679245, 0.002945597982034087, -0.03991427645087242, -0.0015404573641717434, -0.1534765362739563, -0.0770513042807579, -7.57575107854791e-05, -0.05131033807992935, 0.02277519181370735, 0.017975009977817535, -0.03344406560063362, -0.032143838703632355, 0.10915174335241318, -0.039789438247680664, -0.041414059698581696, 0.11333657056093216, -0.0674675703048706, 0.02532091736793518, 0.043104346841573715, 0.01198921911418438, -0.005959362257272005, 0.050527144223451614, -0.06559409946203232, 0.02172691747546196, -0.05042482167482376, -0.007092880550771952, 0.01433279737830162, -0.020489703863859177, 0.03731653466820717, -0.09540722519159317, -0.03362741321325302, -0.06283819675445557, 0.007516884710639715, 0.015275979414582253, -0.03218178451061249, 0.0529944933950901, 0.006931752432137728, -0.0330856516957283, -0.0429256446659565, -0.06879348307847977, 0.019745390862226486, -0.013022799044847488, -0.10633619129657745, 0.055302269756793976, -0.029929405078291893, 0.1331261396408081, -0.06526430696249008, 0.013502185232937336, -0.04843047633767128, -0.05052100867033005, 0.03082822449505329, -0.08853484690189362, 0.002540449146181345, -0.007730863522738218, 0.0217722337692976, 0.00014786777319386601, 0.011531970463693142, 0.06181579455733299, -0.016737520694732666, 0.017086848616600037, 0.03820270672440529, 0.03190058842301369, 0.08250251412391663, -0.02793339639902115, -0.016919273883104324, 0.007949450053274632, 0.00464295782148838, 0.008370778523385525, 0.001191385556012392, 0.009224493987858295, 0.09868250787258148, 0.02891879342496395, -0.060111887753009796, -0.04221699759364128, -0.021256564185023308, 0.015312728472054005, -0.08069686591625214, 0.004470283165574074, 0.033582691103219986, 0.047148045152425766, -0.021824585273861885, -0.007013942115008831, -0.027129359543323517, -0.08370712399482727, 0.005804561544209719, 0.016369935125112534, 0.012476062402129173, -0.04776712507009506, 0.018225761130452156, -0.01564508117735386, -0.03409678488969803, -1.5237008099688865e-08, 0.00727589288726449, -0.07623833417892456, 0.06434985250234604, 0.0816970095038414, 0.038353901356458664, -0.13819478452205658, -0.024559086188673973, 0.11583218723535538, -0.013492542318999767, -0.03495537489652634, 0.09308821707963943, 0.03750741854310036, 0.012860827147960663, -0.005504771135747433, 0.07101978361606598, -0.02373792789876461, 0.11066646128892899, -0.01965041644871235, -0.08159949630498886, 0.04112676903605461, -0.006266293581575155, 0.016416475176811218, -0.010727849788963795, 0.06338882446289062, 0.1453329175710678, -0.04245322570204735, 0.09582442790269852, 0.007074686232954264, 0.09897054731845856, -0.03574018180370331, -0.017311519011855125, -0.026722921058535576, 0.031766414642333984, 0.06373230367898941, -0.053089439868927, 0.021208439022302628, 0.07350128144025803, 0.0050569078885018826, -0.013742269948124886, -0.03545065224170685, -0.03165688365697861, 0.008290044963359833, -0.019174886867403984, 0.09288930147886276, -0.012345202267169952, -0.0036488317418843508, -0.015211022458970547, -0.015674598515033722, 0.01776592805981636, -0.025802962481975555, -0.12470104545354843, 0.03294192999601364, 0.052676599472761154, 0.0055340058170259, -0.01802102103829384, 0.06359468400478363, 0.05113311484456062, -0.00018997411825694144, 0.02071259915828705, -0.0035801269114017487, 0.07118817418813705, -0.0381259024143219, -0.09997192770242691, 0.045034945011138916], 'CommentCount': 1, 'CreationDate': '2008-11-16 16:41:24.980'}}, {'_index': 'semantic_html_posts', '_id': '294092', '_score': 1.0, '_source': {'Body': '<p>I\\'ve just written a small XBox 360 Wireless Controller managed interface that basically\\nwraps around the low-lever <a href=\"http://slimdx.mdxinfo.com/wiki/index.php?title=Main_Page\" rel=\"nofollow noreferrer\">SlimDX</a> wrapper library and provides a easy, managed API for the XBOX 360 controller.</p>\\n\\n<p>Internally, the class polls the gamepad every N ms, and shoots events as it detects changes in the underlying state of the controller.</p>\\n\\n<p>I\\'m experiencing some what dead end with timers that is basiclly forcing to choose between the lesser of two evils:</p>\\n\\n<ul>\\n<li><p>Either make my XBox360GamePad class UI framework specific (i.e. support WPF/WinForms will be hard-coded in the class, and the class has to reference these frameworks...)</p></li>\\n<li><p>Make the class completely framework agnostic, but force the users to sprinkle their code with Dispatcher.Invoke / Invoke() calls to be able to update UI according to the events generated.</p></li>\\n</ul>\\n\\n<p>If I choose the latter option (of making the code UI agnostic), then I basically use the \"generic\" System.Timers.Timer or any timer that has no UI dependency.\\nIn that case I end up having events generated/called from a thread that is incapable of directly updating the UI, i.e. in  WPF, I would have to issue every update originated form the 360 controller class through the (ugly) use of Dispatcher.Invoke.</p>\\n\\n<p>On the other hand, If I use DispatcherTimer inside the XBox 360 Controller class I have a working component that can update the UI directly with no fuss, but now my whole controller class is coupled to WPF, and it can\\'t be used without being dependent on WPF (i.e. in a pure console app)</p>\\n\\n<p>What I\\'m kind of looking is a some sort  solution that would allow me to be both framework agnostic and also update UI without having to resort to all kinds of Dispatcher.Invoke() techniques...\\nIf for example there was a shared base class for all timers, I could somehow inject the timer as a dependency according to the relevant scenario..\\nHas anyone ever dealt successfully with this sort of problem?</p>\\n', 'Title': 'Timers, UI Frameworks and bad coupling - Any Ideas?', 'Semantic_Title': [-0.028864726424217224, -0.040063533931970596, -0.005272743757814169, 0.06599733233451843, -0.07784325629472733, 0.003438580082729459, -0.0047630853950977325, 0.051142942160367966, 0.042610496282577515, -0.07888790965080261, 0.03939490020275116, -0.02538035623729229, -0.07715717703104019, 0.03219309449195862, 0.04136180132627487, -0.02994859218597412, 0.07500828057527542, -0.06014125049114227, -0.02557632513344288, -0.021573381498456, -0.05357607826590538, -0.022814862430095673, -0.020350530743598938, 0.10516908764839172, -0.029821427538990974, -0.007667443715035915, -0.004952586255967617, -0.07426286488771439, 0.02079017087817192, 0.0053578210063278675, -0.013988368213176727, 0.009811915457248688, -0.14288996160030365, -0.06656089425086975, -0.02183120884001255, 0.07484441250562668, 0.05905639007687569, -0.011697999201714993, -0.01992068625986576, -0.054118815809488297, 0.009914622642099857, 0.00012452102964743972, 0.03734736517071724, 0.022974776104092598, -0.011876918375492096, -0.0344279520213604, 4.1909803258022293e-05, -0.03004702739417553, -0.07779227942228317, -0.03652727231383324, -0.004012507852166891, 0.040701039135456085, 0.07825462520122528, -0.08957522362470627, 0.08725923299789429, 0.09276043623685837, 0.053331173956394196, 0.10611617565155029, -0.011744971387088299, 0.00857175886631012, -0.030765384435653687, -0.01119908969849348, -0.06120964512228966, 0.0061540743336081505, 0.019222130998969078, 0.07208101451396942, -0.006774818059056997, -0.005274797324091196, 0.037375032901763916, -0.023088566958904266, -0.035271335393190384, 0.013383920304477215, 0.02345038205385208, 0.02625810168683529, -0.01773291826248169, -0.05712894722819328, -0.08659325540065765, -0.049842581152915955, -0.002560674212872982, -0.08879327774047852, 0.04172998294234276, -0.01551056932657957, -0.01571797952055931, -0.010163874365389347, 0.11918334662914276, -0.014756324701011181, 0.13003747165203094, 0.020566610619425774, -0.027374185621738434, -0.02381233312189579, 0.02326594479382038, 0.04245578125119209, 0.07285545021295547, 0.0607411153614521, 0.008068903349339962, 0.03939347714185715, 0.046644747257232666, 0.03455634415149689, -0.04129497706890106, 0.05989360436797142, -0.007694121915847063, -0.02261408604681492, -0.01455638837069273, 0.041380107402801514, 0.010549848899245262, 0.023436440154910088, -0.0607142448425293, 0.011704606004059315, -0.05713040009140968, -0.005120025482028723, 0.016286548227071762, 0.020653098821640015, -0.03690384328365326, -0.027316033840179443, 0.09861703962087631, -0.0021520445588976145, -0.008337234146893024, -0.029717260971665382, 0.04449393227696419, 0.01809900999069214, -0.020586444064974785, 0.029849721118807793, -0.09035303443670273, -0.042069025337696075, 0.020106500014662743, 0.0930662527680397, 0.005430592689663172, -2.7283499389073767e-33, -0.05890726298093796, -0.045042455196380615, -0.07023460417985916, 0.060479674488306046, 0.1102641373872757, -0.022586317732930183, 0.010247841477394104, 0.05904801934957504, 0.09601034224033356, 0.007985751144587994, 0.07335031777620316, 0.01739819161593914, -0.046183839440345764, -0.04340752959251404, 0.11230572313070297, -0.10547194629907608, 0.04616726562380791, 0.029049497097730637, 0.047345615923404694, -0.0630713626742363, 0.028887053951621056, -0.02454664744436741, -0.08502716571092606, -0.03943473473191261, 0.032435398548841476, 0.07423876225948334, 0.002186900470405817, 0.05846629664301872, -0.03539133071899414, 0.004471450112760067, 0.033704884350299835, 0.038867104798555374, -0.02318531833589077, 0.04613681137561798, -0.01265693362802267, -0.07921083271503448, 0.029568469151854515, 0.02026384137570858, 0.008074243552982807, -0.027408558875322342, -0.135194793343544, 0.029438788071274757, -0.05088328197598457, -0.0025163227692246437, 0.05312424898147583, -0.09493104368448257, 0.04237038642168045, 0.04502909630537033, -0.02524799294769764, 0.007580201141536236, 0.018825585022568703, 0.05720198154449463, 0.009152947925031185, 0.05006776005029678, 0.0020337053574621677, -0.015055228024721146, -0.007053133565932512, -0.039570003747940063, -0.00903391931205988, 0.11110872775316238, 0.005241718143224716, -0.007855759933590889, -0.06378035992383957, -0.05981411784887314, 0.04299749433994293, 0.06194547191262245, 0.00039535685209557414, -0.010793107561767101, -0.029521841555833817, -0.010917359963059425, -0.01568518579006195, 0.03396736457943916, 0.014642023481428623, -0.037248771637678146, 0.05962906777858734, -0.013672556728124619, 0.018572039902210236, -0.011005101725459099, -0.06782874464988708, -0.03962063789367676, 0.06402964144945145, 0.007840991951525211, 0.05284205079078674, 0.033829525113105774, 0.008627372793853283, -0.03244614973664284, 0.009430180303752422, 0.05411158874630928, -0.07836288958787918, 0.09247475862503052, -0.007276760879904032, 0.031125297769904137, 0.11355491727590561, 0.025761311873793602, -0.012881014496088028, 8.446985773928837e-34, 0.06012341380119324, -0.06248997896909714, 0.007762698922306299, -0.013411995023488998, 0.07339786738157272, -0.0041098506189882755, -0.07837007194757462, -0.007196278776973486, -0.04874851927161217, 0.0012935197446495295, 0.03188839927315712, 0.009329762309789658, -0.023757832124829292, -0.01519263070076704, -0.0698215514421463, -0.03152105584740639, 0.0460403747856617, -0.03989526629447937, 0.056285541504621506, -0.04800877720117569, 0.0649256557226181, 0.0624084547162056, -0.1047360971570015, -0.1091776117682457, -0.016056997701525688, 0.051338206976652145, -0.09806063026189804, -0.004659231752157211, 0.04482567682862282, 0.021638648584485054, -0.01668347232043743, -0.024168221279978752, 0.05552873760461807, -0.06599181145429611, 0.08546289056539536, 0.06296777725219727, -0.03785841166973114, -0.015314406715333462, -0.06832831352949142, -0.06257732212543488, 0.051536839455366135, 0.012352808378636837, -0.00890419539064169, -0.006128618028014898, 0.009550133720040321, 0.07118703424930573, -0.11414448171854019, 0.03497971221804619, -0.06693915277719498, 0.018952947109937668, -0.004180049989372492, -0.07975801080465317, -0.0045914133079349995, -0.016997847706079483, -0.11445607244968414, 0.00493616284802556, 0.08724799007177353, -0.11998753249645233, 0.014420539140701294, 0.0861116573214531, 0.03243407607078552, -0.06678304821252823, 0.00030719226924702525, -0.040972862392663956, 0.04620800167322159, 0.019446581602096558, -0.033077843487262726, -0.025487838312983513, 0.13058066368103027, -0.01745796576142311, 0.051387593150138855, -0.018913520500063896, -0.029778407886624336, -0.06198972836136818, -0.03256408870220184, 0.028417542576789856, -0.002191306324675679, -0.019628383219242096, -0.03844977915287018, -0.017130816355347633, 0.011206432245671749, 0.027888691052794456, 0.07351717352867126, -0.029238875955343246, -0.08135953545570374, 0.009389664977788925, -0.0046793925575912, -0.025900954380631447, 0.06669678539037704, 0.018303081393241882, -0.07877608388662338, 0.0313335619866848, 0.015122535638511181, 0.14446444809436798, 0.013272366486489773, -1.9441925402929883e-08, -0.024351801723241806, 0.07794003933668137, -0.009931166656315327, -0.013806900009512901, -0.024468539282679558, -0.030990373343229294, -0.035723283886909485, -0.03413601964712143, 0.054996177554130554, 0.04604626074433327, -0.014516732655465603, -0.011030216701328754, 0.017601436004042625, 0.015062324702739716, 0.0349380299448967, -0.05209086462855339, -0.045738112181425095, -0.01677839085459709, -0.03356263041496277, -0.043916966766119, 0.029876679182052612, 0.0043490431271493435, 0.07546515762805939, -0.08693674206733704, -0.024481670930981636, -0.006255015730857849, 0.035000938922166824, 0.11350783705711365, 0.022977206856012344, 0.06860994547605515, -0.049134235829114914, 0.04382065683603287, -0.04223021864891052, 0.07351143658161163, -0.04981053248047829, -0.02646576799452305, -0.12235280126333237, -0.0384967215359211, -0.007529384922236204, -0.028360283002257347, -0.01945444755256176, -0.10222038626670837, -0.14363041520118713, 0.06317374855279922, 0.06980793923139572, -0.050625029951334, -0.01977989636361599, -0.0647413358092308, 0.027326347306370735, 0.03402617573738098, -0.08412741869688034, 0.06850969046354294, 0.005044919438660145, -0.006813602987676859, 0.05636697635054588, -0.01826850324869156, 0.03798680379986763, -0.06565062701702118, -0.04741610586643219, 0.04411499574780464, -0.04563025012612343, -0.003656588727608323, -0.032372571527957916, 0.027280960232019424], 'CommentCount': 0, 'CreationDate': '2008-11-16 16:52:18.623'}}]}}\n"
     ]
    }
   ],
   "source": [
    "resp = es.search(\n",
    "    index=\"semantic_html_posts\",\n",
    "    query={\n",
    "        \"match_all\": {}\n",
    "    }\n",
    ")\n",
    "\n",
    "print(resp)"
   ]
  },
  {
   "cell_type": "code",
   "execution_count": 53,
   "metadata": {},
   "outputs": [
    {
     "data": {
      "text/html": [
       "<div>\n",
       "<style scoped>\n",
       "    .dataframe tbody tr th:only-of-type {\n",
       "        vertical-align: middle;\n",
       "    }\n",
       "\n",
       "    .dataframe tbody tr th {\n",
       "        vertical-align: top;\n",
       "    }\n",
       "\n",
       "    .dataframe thead th {\n",
       "        text-align: right;\n",
       "    }\n",
       "</style>\n",
       "<table border=\"1\" class=\"dataframe\">\n",
       "  <thead>\n",
       "    <tr style=\"text-align: right;\">\n",
       "      <th></th>\n",
       "      <th>syntactic_hits</th>\n",
       "      <th>semantic_hits</th>\n",
       "    </tr>\n",
       "  </thead>\n",
       "  <tbody>\n",
       "    <tr>\n",
       "      <th>0</th>\n",
       "      <td>What is the best quick-read Python book out there?</td>\n",
       "      <td>What is the best quick-read Python book out there?</td>\n",
       "    </tr>\n",
       "    <tr>\n",
       "      <th>1</th>\n",
       "      <td>Microsoft CryptoAPI Book</td>\n",
       "      <td>Which Python book would you recommend for a Linux Sysadmin?</td>\n",
       "    </tr>\n",
       "    <tr>\n",
       "      <th>2</th>\n",
       "      <td>Online Java Book</td>\n",
       "      <td>Learning Python</td>\n",
       "    </tr>\n",
       "    <tr>\n",
       "      <th>3</th>\n",
       "      <td>Which Python book would you recommend for a Linux Sysadmin?</td>\n",
       "      <td>Python, beyond the basics</td>\n",
       "    </tr>\n",
       "    <tr>\n",
       "      <th>4</th>\n",
       "      <td>Book Store Database Design</td>\n",
       "      <td>Blender- python</td>\n",
       "    </tr>\n",
       "    <tr>\n",
       "      <th>5</th>\n",
       "      <td>boolean algebra article/book</td>\n",
       "      <td>Resources for Python Programmer</td>\n",
       "    </tr>\n",
       "    <tr>\n",
       "      <th>6</th>\n",
       "      <td>Advanced LaTeX Tutorial/Book</td>\n",
       "      <td>Python Version for a Newbie</td>\n",
       "    </tr>\n",
       "    <tr>\n",
       "      <th>7</th>\n",
       "      <td>Test driven development book</td>\n",
       "      <td>Introducing Python</td>\n",
       "    </tr>\n",
       "    <tr>\n",
       "      <th>8</th>\n",
       "      <td>Recommendations for IIS book</td>\n",
       "      <td>Python for mathematics students?</td>\n",
       "    </tr>\n",
       "    <tr>\n",
       "      <th>9</th>\n",
       "      <td>Address book DB schema</td>\n",
       "      <td>Python code that needs some overview</td>\n",
       "    </tr>\n",
       "  </tbody>\n",
       "</table>\n",
       "</div>"
      ],
      "text/plain": [
       "                                                syntactic_hits                                                semantic_hits\n",
       "0           What is the best quick-read Python book out there?           What is the best quick-read Python book out there?\n",
       "1                                     Microsoft CryptoAPI Book  Which Python book would you recommend for a Linux Sysadmin?\n",
       "2                                             Online Java Book                                              Learning Python\n",
       "3  Which Python book would you recommend for a Linux Sysadmin?                                    Python, beyond the basics\n",
       "4                                   Book Store Database Design                                              Blender- python\n",
       "5                                 boolean algebra article/book                              Resources for Python Programmer\n",
       "6                                 Advanced LaTeX Tutorial/Book                                  Python Version for a Newbie\n",
       "7                                 Test driven development book                                           Introducing Python\n",
       "8                                 Recommendations for IIS book                             Python for mathematics students?\n",
       "9                                       Address book DB schema                         Python code that needs some overview"
      ]
     },
     "metadata": {},
     "output_type": "display_data"
    },
    {
     "name": "stdout",
     "output_type": "stream",
     "text": [
      "Score: 10.8966255\n",
      "Title: What is the best quick-read Python book out there?\n",
      "\n",
      "Score: 10.573095\n",
      "Title: Microsoft CryptoAPI Book\n",
      "\n",
      "Score: 10.573095\n",
      "Title: Online Java Book\n",
      "\n",
      "Score: 10.473805\n",
      "Title: Which Python book would you recommend for a Linux Sysadmin?\n",
      "\n",
      "Score: 9.916881\n",
      "Title: Book Store Database Design\n",
      "\n",
      "Score: 9.548436\n",
      "Title: boolean algebra article/book\n",
      "\n",
      "Score: 9.548436\n",
      "Title: Advanced LaTeX Tutorial/Book\n",
      "\n",
      "Score: 9.548436\n",
      "Title: Test driven development book\n",
      "\n",
      "Score: 9.474089\n",
      "Title: Recommendations for IIS book\n",
      "\n",
      "Score: 9.32983\n",
      "Title: Address book DB schema\n",
      "\n",
      "\n",
      "-----------------------------------------\n",
      "\n",
      "\n",
      "Score: 0.89620376\n",
      "Title: What is the best quick-read Python book out there?\n",
      "\n",
      "Score: 0.89540124\n",
      "Title: Which Python book would you recommend for a Linux Sysadmin?\n",
      "\n",
      "Score: 0.86950064\n",
      "Title: Learning Python\n",
      "\n",
      "Score: 0.8596411\n",
      "Title: Python, beyond the basics\n",
      "\n",
      "Score: 0.8564217\n",
      "Title: Blender- python\n",
      "\n",
      "Score: 0.85617137\n",
      "Title: Resources for Python Programmer\n",
      "\n",
      "Score: 0.8541765\n",
      "Title: Python Version for a Newbie\n",
      "\n",
      "Score: 0.84984756\n",
      "Title: Introducing Python\n",
      "\n",
      "Score: 0.84556127\n",
      "Title: Python for mathematics students?\n",
      "\n",
      "Score: 0.8424916\n",
      "Title: Python code that needs some overview\n",
      "\n"
     ]
    }
   ],
   "source": [
    "#query = \"Search engines\"\n",
    "query = \"Python book\"\n",
    "\n",
    "synt_resp = es.search(\n",
    "    index=\"semantic_html_posts\",\n",
    "    size=10,\n",
    "    query={\n",
    "        \"match\": {\n",
    "            \"Title\": {\n",
    "                \"query\": query\n",
    "            }\n",
    "        }\n",
    "    }\n",
    ")\n",
    "\n",
    "sem_resp = es.search(\n",
    "    index=\"semantic_html_posts\",\n",
    "    knn={\n",
    "        \"field\": \"Semantic_Title\",\n",
    "        \"query_vector\": model.encode(query),\n",
    "        \"k\": 10,\n",
    "        \"num_candidates\": 10000,\n",
    "    },\n",
    "    size=10\n",
    ")\n",
    "\n",
    "synt_hits = [hit[\"_source\"][\"Title\"] for hit in synt_resp['hits']['hits']]\n",
    "sem_hits = [hit[\"_source\"][\"Title\"] for hit in sem_resp['hits']['hits']]\n",
    "dict = {\"syntactic_hits\": synt_hits, \"semantic_hits\": sem_hits}\n",
    "query_results = pd.DataFrame(dict)\n",
    "pd.set_option('display.width', 10000)\n",
    "pd.set_option('max_colwidth', 1000)\n",
    "display(query_results)\n",
    "\n",
    "pretty_search_response_semantic(synt_resp)\n",
    "print()\n",
    "print('-----------------------------------------')\n",
    "print()\n",
    "print()\n",
    "pretty_search_response_semantic(sem_resp)"
   ]
  }
 ],
 "metadata": {
  "kernelspec": {
   "display_name": "Python 3",
   "language": "python",
   "name": "python3"
  },
  "language_info": {
   "codemirror_mode": {
    "name": "ipython",
    "version": 3
   },
   "file_extension": ".py",
   "mimetype": "text/x-python",
   "name": "python",
   "nbconvert_exporter": "python",
   "pygments_lexer": "ipython3",
   "version": "3.10.7"
  }
 },
 "nbformat": 4,
 "nbformat_minor": 2
}

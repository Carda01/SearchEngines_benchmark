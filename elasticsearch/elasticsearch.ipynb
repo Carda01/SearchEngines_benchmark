{
 "cells": [
  {
   "cell_type": "code",
   "execution_count": 1,
   "metadata": {},
   "outputs": [],
   "source": [
    "from elasticsearch import Elasticsearch, helpers\n",
    "from pprint import pp\n",
    "from dotenv import load_dotenv\n",
    "import pandas as pd\n",
    "from tqdm import tqdm\n",
    "import os\n",
    "load_dotenv()\n",
    "#load_dotenv(\"elastic-start-local/.env\")\n",
    "ES_LOCAL_API_KEY = os.environ.get(\"ES_LOCAL_API_KEY\")\n",
    "ES_LOCAL_USER= os.environ.get(\"ES_LOCAL_USER\")\n",
    "ES_LOCAL_PASSWORD= os.environ.get(\"ES_LOCAL_PASSWORD\")\n",
    "ES_LOCAL_URL = os.environ.get(\"ES_LOCAL_URL\")\n",
    "\n",
    "def ppr(resp):\n",
    "    pp(resp.raw)"
   ]
  },
  {
   "cell_type": "code",
   "execution_count": 2,
   "metadata": {},
   "outputs": [],
   "source": [
    "def pretty_search_response(response):\n",
    "    if len(response[\"hits\"][\"hits\"]) == 0:\n",
    "        print(\"Your search returned no results.\")\n",
    "    else:\n",
    "        for hit in response[\"hits\"][\"hits\"]:\n",
    "            id = hit[\"_id\"]\n",
    "            score = hit[\"_score\"]\n",
    "            body = hit[\"_source\"][\"Body\"]\n",
    "            comment_count = hit[\"_source\"][\"CommentCount\"]\n",
    "            creation_date = hit[\"_source\"][\"CreationDate\"]\n",
    "\n",
    "            pretty_output = f\"\\nID: {id}\\nScore: {score}\\nBody: {body}\\nCommentCount: {comment_count}\\nCreationDate: {creation_date}\"\n",
    "\n",
    "            print(pretty_output)"
   ]
  },
  {
   "cell_type": "code",
   "execution_count": 3,
   "metadata": {},
   "outputs": [],
   "source": [
    "es = Elasticsearch([ES_LOCAL_URL], api_key=ES_LOCAL_API_KEY)"
   ]
  },
  {
   "cell_type": "code",
   "execution_count": 4,
   "metadata": {},
   "outputs": [],
   "source": [
    "es = Elasticsearch(\n",
    "    hosts=[\n",
    "        ES_LOCAL_URL\n",
    "    ],\n",
    "    verify_certs=False,\n",
    ")"
   ]
  },
  {
   "cell_type": "code",
   "execution_count": 5,
   "metadata": {},
   "outputs": [
    {
     "name": "stdout",
     "output_type": "stream",
     "text": [
      "Connected to Elasticsearch!\n"
     ]
    }
   ],
   "source": [
    "if es.ping():\n",
    "    print(\"Connected to Elasticsearch!\")\n",
    "else:\n",
    "    print(\"Could not connect to Elasticsearch.\")"
   ]
  },
  {
   "cell_type": "code",
   "execution_count": 6,
   "metadata": {},
   "outputs": [
    {
     "data": {
      "text/plain": [
       "TextApiResponse('epoch      timestamp cluster           status node.total node.data shards pri relo init unassign unassign.pri pending_tasks max_task_wait_time active_shards_percent\\n1734252472 08:47:52  es-docker-cluster green           3         3      6   6    0    0        0            0             0                  -                100.0%\\n')"
      ]
     },
     "execution_count": 6,
     "metadata": {},
     "output_type": "execute_result"
    }
   ],
   "source": [
    "es.cat.health(v=True)"
   ]
  },
  {
   "cell_type": "code",
   "execution_count": 7,
   "metadata": {},
   "outputs": [
    {
     "data": {
      "text/plain": [
       "ObjectApiResponse({'acknowledged': True, 'shards_acknowledged': True, 'index': 'html_posts'})"
      ]
     },
     "execution_count": 7,
     "metadata": {},
     "output_type": "execute_result"
    }
   ],
   "source": [
    "es.indices.delete(index='html_posts')\n",
    "\n",
    "es.indices.create(\n",
    "    index='html_posts',\n",
    "    settings={\n",
    "        \"number_of_shards\": 6,\n",
    "        \"number_of_replicas\": 0,\n",
    "        \"analysis\": {\n",
    "            \"analyzer\": {\n",
    "                \"html_analyzer\": {\n",
    "                    \"type\": \"custom\",\n",
    "                    \"tokenizer\": \"standard\",\n",
    "                    \"char_filter\": [\n",
    "                        \"html_strip\"\n",
    "                    ]\n",
    "                }\n",
    "            }\n",
    "        }\n",
    "    }, \n",
    "    mappings={\n",
    "        \"properties\": {\n",
    "            \"Body\": {\n",
    "                \"type\": \"text\",\n",
    "                \"analyzer\": \"html_analyzer\"\n",
    "            },\n",
    "            \"CommentCount\": {\n",
    "                \"type\": \"integer\"\n",
    "            },\n",
    "            \"CreationDate\": {\n",
    "                \"type\": \"date\",\n",
    "                \"format\": \"yyyy-MM-dd HH:mm:ss.SSS\"\n",
    "            }\n",
    "        }\n",
    "    }\n",
    ")"
   ]
  },
  {
   "cell_type": "code",
   "execution_count": 8,
   "metadata": {},
   "outputs": [],
   "source": [
    "def generator(json_chunk):\n",
    "    for line in json_chunk:\n",
    "        yield {\n",
    "            \"_index\": \"html_posts\",\n",
    "            \"_id\": line.get('Id'),\n",
    "            \"_source\": {\n",
    "                \"Body\": line.get(\"Body\",\"\"),\n",
    "                \"CommentCount\": line.get(\"CommentCount\",\"\"),\n",
    "                \"CreationDate\": line.get(\"CreationDate\",\"\")\n",
    "            }\n",
    "        }\n",
    "\n",
    "\n",
    "def from_chunk_to_es(chunk):\n",
    "    json_chunk = chunk.to_dict(\"records\")\n",
    "    return generator(json_chunk)"
   ]
  },
  {
   "cell_type": "code",
   "execution_count": 9,
   "metadata": {},
   "outputs": [
    {
     "name": "stderr",
     "output_type": "stream",
     "text": [
      "1566it [02:03, 12.73it/s]\n"
     ]
    }
   ],
   "source": [
    "from matplotlib import animation\n",
    "from matplotlib import pyplot as plt\n",
    "columns = ['Id', 'Body', 'CommentCount', \"CreationDate\"]\n",
    "\n",
    "for chunk in tqdm(pd.read_csv('../data/StackOverflowMini_dbo_Posts.csv', chunksize=1000)):\n",
    "    gen = from_chunk_to_es(chunk[columns])\n",
    "    res = helpers.bulk(es, gen)"
   ]
  },
  {
   "cell_type": "code",
   "execution_count": 10,
   "metadata": {},
   "outputs": [
    {
     "name": "stdout",
     "output_type": "stream",
     "text": [
      "{'docs': {'count': 508626, 'deleted': 0, 'total_size_in_bytes': 356398904}, 'shard_stats': {'total_count': 2}, 'store': {'size_in_bytes': 362759669, 'total_data_set_size_in_bytes': 362759669, 'reserved_in_bytes': 0}, 'indexing': {'index_total': 1567392, 'index_time_in_millis': 130707, 'index_current': 0, 'index_failed': 0, 'delete_total': 0, 'delete_time_in_millis': 0, 'delete_current': 0, 'noop_update_total': 0, 'is_throttled': False, 'throttle_time_in_millis': 0, 'write_load': 0.04884564405932249}, 'get': {'total': 0, 'time_in_millis': 0, 'exists_total': 0, 'exists_time_in_millis': 0, 'missing_total': 0, 'missing_time_in_millis': 0, 'current': 0}, 'search': {'open_contexts': 0, 'query_total': 0, 'query_time_in_millis': 0, 'query_current': 0, 'query_failure': 0, 'fetch_total': 0, 'fetch_time_in_millis': 0, 'fetch_current': 0, 'fetch_failure': 0, 'scroll_total': 0, 'scroll_time_in_millis': 0, 'scroll_current': 0, 'suggest_total': 0, 'suggest_time_in_millis': 0, 'suggest_current': 0}, 'merges': {'current': 0, 'current_docs': 0, 'current_size_in_bytes': 0, 'total': 4, 'total_time_in_millis': 6511, 'total_docs': 93844, 'total_size_in_bytes': 66925988, 'total_stopped_time_in_millis': 0, 'total_throttled_time_in_millis': 0, 'total_auto_throttle_in_bytes': 167772160}, 'refresh': {'total': 92, 'total_time_in_millis': 4023, 'external_total': 76, 'external_total_time_in_millis': 3808, 'listeners': 0}, 'flush': {'total': 16, 'periodic': 16, 'total_time_in_millis': 4708, 'total_time_excluding_waiting_on_lock_in_millis': 4707}, 'warmer': {'current': 0, 'total': 54, 'total_time_in_millis': 2}, 'query_cache': {'memory_size_in_bytes': 0, 'total_count': 0, 'hit_count': 0, 'miss_count': 0, 'cache_size': 0, 'cache_count': 0, 'evictions': 0}, 'fielddata': {'memory_size_in_bytes': 0, 'evictions': 0, 'global_ordinals': {'build_time_in_millis': 0}}, 'completion': {'size_in_bytes': 0}, 'segments': {'count': 32, 'memory_in_bytes': 0, 'terms_memory_in_bytes': 0, 'stored_fields_memory_in_bytes': 0, 'term_vectors_memory_in_bytes': 0, 'norms_memory_in_bytes': 0, 'points_memory_in_bytes': 0, 'doc_values_memory_in_bytes': 0, 'index_writer_memory_in_bytes': 10899176, 'version_map_memory_in_bytes': 1660680, 'fixed_bit_set_memory_in_bytes': 0, 'max_unsafe_auto_id_timestamp': -1, 'file_sizes': {}}, 'translog': {'operations': 15030, 'size_in_bytes': 12769714, 'uncommitted_operations': 15030, 'uncommitted_size_in_bytes': 12769714, 'earliest_last_modified_age': 27}, 'request_cache': {'memory_size_in_bytes': 0, 'evictions': 0, 'hit_count': 0, 'miss_count': 0}, 'recovery': {'current_as_source': 0, 'current_as_target': 0, 'throttle_time_in_millis': 0}, 'bulk': {'total_operations': 18786, 'total_time_in_millis': 145653, 'total_size_in_bytes': 1203576615, 'avg_time_in_millis': 6, 'avg_size_in_bytes': 68200}, 'mappings': {'total_count': 18, 'total_estimated_overhead_in_bytes': 18432, 'total_segments': 30, 'total_segment_fields': 540, 'average_fields_per_segment': 18}, 'dense_vector': {'value_count': 0}, 'sparse_vector': {'value_count': 0}}\n"
     ]
    }
   ],
   "source": [
    "print(list(es.nodes.stats()['nodes'].values())[2]['indices'])"
   ]
  },
  {
   "cell_type": "code",
   "execution_count": 18,
   "metadata": {},
   "outputs": [
    {
     "data": {
      "image/png": "[encoded data removed]",
      "text/plain": [
       "<Figure size 640x480 with 1 Axes>"
      ]
     },
     "metadata": {},
     "output_type": "display_data"
    }
   ],
   "source": [
    "import matplotlib.pyplot as plt\n",
    "plt.style.use(\"default\")\n",
    "\n",
    "counts = []\n",
    "sizes = []\n",
    "colors = ['tab:blue', 'tab:green', 'tab:red']\n",
    "for node in es.nodes.stats()['nodes'].values():\n",
    "    counts.append(node['indices']['docs']['count'])\n",
    "    sizes.append(node['indices']['docs']['total_size_in_bytes'])\n",
    "\n",
    "plt.bar(x=[\"es01\", \"es02\", \"es03\"], height=sizes, color=colors)\n",
    "plt.xlabel(\"Nodes\")\n",
    "plt.ylabel(\"Size in bytes\")\n",
    "plt.savefig(\"load_balancing.png\")\n",
    "plt.show()"
   ]
  },
  {
   "cell_type": "code",
   "execution_count": 12,
   "metadata": {},
   "outputs": [
    {
     "name": "stdout",
     "output_type": "stream",
     "text": [
      "\n",
      "ID: 884652\n",
      "Score: 8.397677\n",
      "Body: <p>It works for me (it gets the total number of 'string here' found in each file). However, it does not display the total for ALL files searched. Here is how you can get it:</p>\n",
      "\n",
      "<pre><code>grep -c -r 'string' file &gt; out &amp;&amp; \\\n",
      "    awk -F : '{total += $2} END { print \"Total:\", total }' out\n",
      "</code></pre>\n",
      "\n",
      "<p>The list will be in out and the total will be sent to STDOUT.</p>\n",
      "\n",
      "<p>Here is the output on the Python2.5.4 directory tree:</p>\n",
      "\n",
      "<pre><code>grep -c -r 'import' Python-2.5.4/ &gt; out &amp;&amp; \\\n",
      "    awk -F : '{total += $2} END { print \"Total:\", total }' out\n",
      "Total: 11500\n",
      "\n",
      "$ head out\n",
      "Python-2.5.4/Python/import.c:155\n",
      "Python-2.5.4/Python/thread.o:0\n",
      "Python-2.5.4/Python/pyarena.c:0\n",
      "Python-2.5.4/Python/getargs.c:0\n",
      "Python-2.5.4/Python/thread_solaris.h:0\n",
      "Python-2.5.4/Python/dup2.c:0\n",
      "Python-2.5.4/Python/getplatform.c:0\n",
      "Python-2.5.4/Python/frozenmain.c:0\n",
      "Python-2.5.4/Python/pyfpe.c:0\n",
      "Python-2.5.4/Python/getmtime.c:0\n",
      "</code></pre>\n",
      "\n",
      "<p>If you just want to get lines with occurrences of 'string', change to this:</p>\n",
      "\n",
      "<pre><code>grep -c -r 'import' Python-2.5.4/ | \\\n",
      "    awk -F : '{total += $2; print $1, $2} END { print \"Total:\", total }'\n",
      "</code></pre>\n",
      "\n",
      "<p>That will output:</p>\n",
      "\n",
      "<pre><code>[... snipped]\n",
      "Python-2.5.4/Lib/dis.py 4\n",
      "Python-2.5.4/Lib/mhlib.py 10\n",
      "Python-2.5.4/Lib/decimal.py 8\n",
      "Python-2.5.4/Lib/new.py 6\n",
      "Python-2.5.4/Lib/stringold.py 3\n",
      "Total: 11500\n",
      "</code></pre>\n",
      "\n",
      "<p>You can change how the files ($1) and the count per file ($2) is printed.</p>\n",
      "\n",
      "CommentCount: 4\n",
      "CreationDate: 2009-05-19 19:40:27.490\n",
      "\n",
      "ID: 173562\n",
      "Score: 8.313118\n",
      "Body: <p>I like to program in Python so I have created a portable Python programming environment on a thumbdrive.</p>\n",
      "\n",
      "<ul>\n",
      "<li><a href=\"http://www.portablepython.com/\" rel=\"nofollow noreferrer\">Portable Python 1.0</a></li>\n",
      "<li><a href=\"http://pythonide.blogspot.com\" rel=\"nofollow noreferrer\">SPE Python editor</a></li>\n",
      "<li>wxPython in Action ebook</li>\n",
      "<li>Python How to Program ebook</li>\n",
      "<li>Several Python ebooks from O'Reilly</li>\n",
      "<li>Various tutorials for Python tools I don't use often</li>\n",
      "</ul>\n",
      "\n",
      "CommentCount: 0\n",
      "CreationDate: 2008-10-06 08:13:34.693\n",
      "\n",
      "ID: 1231340\n",
      "Score: 8.257515\n",
      "Body: <p>You use triple quotes for this.</p>\n",
      "\n",
      "<pre><code>s = \"\"\"\n",
      "Python is awesome.\n",
      "Python is cool.\n",
      "I use Python.\n",
      "And so should you.\n",
      "\"\"\"\n",
      "\n",
      "print s\n",
      "\n",
      "Python is awesome.\n",
      "Python is cool.\n",
      "I use Python.\n",
      "And so should you.\n",
      "</code></pre>\n",
      "\n",
      "CommentCount: 2\n",
      "CreationDate: 2009-08-05 05:27:23.563\n",
      "Your search returned no results.\n"
     ]
    }
   ],
   "source": [
    "# effects of analyzer\n",
    "resp = es.search(\n",
    "    index=\"html_posts\",\n",
    "    size=\"3\",\n",
    "    query={\n",
    "        \"match\": {\n",
    "            \"Body\": {\n",
    "                \"query\": \"Python\"\n",
    "            }\n",
    "        }\n",
    "    }\n",
    ")\n",
    "\n",
    "pretty_search_response(resp)\n",
    "\n",
    "resp = es.search(\n",
    "    index=\"html_posts\",\n",
    "    size=\"1\",\n",
    "    query={\n",
    "        \"match\": {\n",
    "            \"Body\": {\n",
    "                \"query\": \"<p>\"\n",
    "            }\n",
    "        }\n",
    "    }\n",
    ")\n",
    "\n",
    "pretty_search_response(resp)"
   ]
  }
 ],
 "metadata": {
  "kernelspec": {
   "display_name": "Python 3",
   "language": "python",
   "name": "python3"
  },
  "language_info": {
   "codemirror_mode": {
    "name": "ipython",
    "version": 3
   },
   "file_extension": ".py",
   "mimetype": "text/x-python",
   "name": "python",
   "nbconvert_exporter": "python",
   "pygments_lexer": "ipython3",
   "version": "3.10.7"
  }
 },
 "nbformat": 4,
 "nbformat_minor": 2
}

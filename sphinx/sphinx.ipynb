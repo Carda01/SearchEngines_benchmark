{
 "cells": [
  {
   "cell_type": "code",
   "execution_count": 38,
   "metadata": {},
   "outputs": [
    {
     "name": "stdout",
     "output_type": "stream",
     "text": [
      "c:\\Users\\josub\\Desktop\\BDMA\\Brussels\\Advanced Databases\\PROJECT\n"
     ]
    }
   ],
   "source": [
    "%cd .. "
   ]
  },
  {
   "cell_type": "code",
   "execution_count": 39,
   "metadata": {},
   "outputs": [
    {
     "name": "stdout",
     "output_type": "stream",
     "text": [
      "Defaulting to user installation because normal site-packages is not writeable\n",
      "Requirement already satisfied: pymysql in c:\\users\\josub\\appdata\\roaming\\python\\python312\\site-packages (1.1.1)\n"
     ]
    }
   ],
   "source": [
    "!pip install pymysql\n",
    "import pymysql\n",
    "import time\n",
    "import pandas as pd\n",
    "import matplotlib.pyplot as plt\n",
    "import seaborn as sns\n"
   ]
  },
  {
   "cell_type": "code",
   "execution_count": 70,
   "metadata": {},
   "outputs": [
    {
     "data": {
      "text/plain": [
       "{1: \"\\n            SELECT id, Score \\n            FROM comments \\n            WHERE MATCH('@text Python')\\n            ORDER BY Score DESC\\n            \",\n",
       " 2: \"\\n            SELECT id, Score\\n            FROM posts \\n            WHERE MATCH('@title Python') AND ClosedDate!=0\\n            ORDER BY Score DESC\\n            \",\n",
       " 3: \"\\n            SELECT AccountId, Reputation, LastAccessDate \\n            FROM users\\n            WHERE MATCH('@AboutMe Python SQL (Java | Javascript)')\\n            ORDER BY Reputation DESC, LastAccessDate DESC\\n\",\n",
       " 4: \"\\n            SELECT id\\n            FROM posts \\n            WHERE MATCH('@body Python | SQL') AND FavoriteCount>3\\n            \",\n",
       " 5: \"\\n            SELECT id, CreationDate\\n            FROM comments \\n            WHERE MATCH('@text Python -SQL') AND CreationDate=2008\\n            \",\n",
       " 6: \"\\n            SELECT id, DownVotes\\n            FROM users \\n            WHERE MATCH('@AboutMe Python | SQL^2') and Downvotes=0\\n            ORDER BY DownVotes ASC\\n    \\n            \",\n",
       " 7: \"\\n            SELECT *\\n            FROM posts \\n            WHERE MATCH('@body ^<p> @title sql$ @tags sql')\\n            \",\n",
       " 8: \"\\n            SELECT id, WEIGHT()\\n            FROM users\\n            WHERE MATCH('@aboutme python sql MAYBE ( c++ || r || ruby || php || java || javascript)')  \\n            \",\n",
       " 9: \"\\n            SELECT id, Score\\n            FROM posts \\n            WHERE MATCH('@title python @body sql @tags c++')\\n            ORDER BY Score DESC\\n        \",\n",
       " 10: \"\\n            SELECT id, Score\\n            FROM comments\\n            WHERE MATCH('@text sql NEAR/3 python')\\n            ORDER BY Score DESC\\n        \",\n",
       " 11: '   \\n            SELECT id, Score\\n            FROM comments\\n            WHERE MATCH(\\'\"sql python c++ r ruby php java javascript\"/2\\')\\n            ORDER BY Score DESC               \\n        ',\n",
       " 12: \"\\n            SELECT id\\n            FROM users \\n            WHERE MATCH('@AboutMe[50] python | sql @location USA') \\n\",\n",
       " 13: \"CALL KEYWORDS('sql python  R  java javascript c++ ruby php', 'posts', 1)\",\n",
       " 14: \"CALL KEYWORDS('sql python  R  java javascript c++ ruby php', 'comments', 1)\"}"
      ]
     },
     "execution_count": 70,
     "metadata": {},
     "output_type": "execute_result"
    }
   ],
   "source": [
    "from src import queries_sphinx\n",
    "import importlib\n",
    "\n",
    "# Reload the specific module\n",
    "importlib.reload(queries_sphinx)\n",
    "\n",
    "# Access the updated query_dictionary\n",
    "query_dictionary = queries_sphinx.query_dictionary\n",
    "query_dictionary"
   ]
  },
  {
   "cell_type": "markdown",
   "metadata": {},
   "source": [
    "Write the following command in the terminal (PowerShell): sphinx-3.7.1\\bin\\searchd --config sphinx-min.conf.dist"
   ]
  },
  {
   "cell_type": "code",
   "execution_count": 71,
   "metadata": {},
   "outputs": [
    {
     "name": "stdout",
     "output_type": "stream",
     "text": [
      "Executing: 1\n",
      "Executing: 2\n",
      "Executing: 3\n",
      "Executing: 4\n",
      "Executing: 5\n",
      "Executing: 6\n",
      "Executing: 7\n",
      "Executing: 8\n",
      "Executing: 9\n",
      "Executing: 10\n",
      "Executing: 11\n",
      "Executing: 12\n",
      "Executing: 13\n",
      "Executing: 14\n"
     ]
    },
    {
     "data": {
      "text/html": [
       "<div>\n",
       "<style scoped>\n",
       "    .dataframe tbody tr th:only-of-type {\n",
       "        vertical-align: middle;\n",
       "    }\n",
       "\n",
       "    .dataframe tbody tr th {\n",
       "        vertical-align: top;\n",
       "    }\n",
       "\n",
       "    .dataframe thead th {\n",
       "        text-align: right;\n",
       "    }\n",
       "</style>\n",
       "<table border=\"1\" class=\"dataframe\">\n",
       "  <thead>\n",
       "    <tr style=\"text-align: right;\">\n",
       "      <th></th>\n",
       "      <th>query_id</th>\n",
       "      <th>query</th>\n",
       "      <th>execution_time</th>\n",
       "      <th>num_rows</th>\n",
       "      <th>num_columns</th>\n",
       "    </tr>\n",
       "  </thead>\n",
       "  <tbody>\n",
       "    <tr>\n",
       "      <th>0</th>\n",
       "      <td>1</td>\n",
       "      <td>\\n            SELECT id, Score \\n            F...</td>\n",
       "      <td>0.137221</td>\n",
       "      <td>20</td>\n",
       "      <td>2</td>\n",
       "    </tr>\n",
       "    <tr>\n",
       "      <th>1</th>\n",
       "      <td>2</td>\n",
       "      <td>\\n            SELECT id, Score\\n            FR...</td>\n",
       "      <td>0.176276</td>\n",
       "      <td>20</td>\n",
       "      <td>2</td>\n",
       "    </tr>\n",
       "    <tr>\n",
       "      <th>2</th>\n",
       "      <td>3</td>\n",
       "      <td>\\n            SELECT AccountId, Reputation, La...</td>\n",
       "      <td>0.057697</td>\n",
       "      <td>20</td>\n",
       "      <td>3</td>\n",
       "    </tr>\n",
       "    <tr>\n",
       "      <th>3</th>\n",
       "      <td>4</td>\n",
       "      <td>\\n            SELECT id\\n            FROM post...</td>\n",
       "      <td>1.014113</td>\n",
       "      <td>20</td>\n",
       "      <td>1</td>\n",
       "    </tr>\n",
       "    <tr>\n",
       "      <th>4</th>\n",
       "      <td>5</td>\n",
       "      <td>\\n            SELECT id, CreationDate\\n       ...</td>\n",
       "      <td>0.187486</td>\n",
       "      <td>20</td>\n",
       "      <td>2</td>\n",
       "    </tr>\n",
       "    <tr>\n",
       "      <th>5</th>\n",
       "      <td>6</td>\n",
       "      <td>\\n            SELECT id, DownVotes\\n          ...</td>\n",
       "      <td>0.083565</td>\n",
       "      <td>20</td>\n",
       "      <td>2</td>\n",
       "    </tr>\n",
       "    <tr>\n",
       "      <th>6</th>\n",
       "      <td>7</td>\n",
       "      <td>\\n            SELECT *\\n            FROM posts...</td>\n",
       "      <td>2.020408</td>\n",
       "      <td>20</td>\n",
       "      <td>16</td>\n",
       "    </tr>\n",
       "    <tr>\n",
       "      <th>7</th>\n",
       "      <td>8</td>\n",
       "      <td>\\n            SELECT id, WEIGHT()\\n           ...</td>\n",
       "      <td>0.130365</td>\n",
       "      <td>20</td>\n",
       "      <td>2</td>\n",
       "    </tr>\n",
       "    <tr>\n",
       "      <th>8</th>\n",
       "      <td>9</td>\n",
       "      <td>\\n            SELECT id, Score\\n            FR...</td>\n",
       "      <td>0.284316</td>\n",
       "      <td>2</td>\n",
       "      <td>2</td>\n",
       "    </tr>\n",
       "    <tr>\n",
       "      <th>9</th>\n",
       "      <td>10</td>\n",
       "      <td>\\n            SELECT id, Score\\n            FR...</td>\n",
       "      <td>0.116233</td>\n",
       "      <td>10</td>\n",
       "      <td>2</td>\n",
       "    </tr>\n",
       "    <tr>\n",
       "      <th>10</th>\n",
       "      <td>11</td>\n",
       "      <td>\\n            SELECT id, Score\\n           ...</td>\n",
       "      <td>0.939816</td>\n",
       "      <td>20</td>\n",
       "      <td>2</td>\n",
       "    </tr>\n",
       "    <tr>\n",
       "      <th>11</th>\n",
       "      <td>12</td>\n",
       "      <td>\\n            SELECT id\\n            FROM user...</td>\n",
       "      <td>0.062290</td>\n",
       "      <td>20</td>\n",
       "      <td>1</td>\n",
       "    </tr>\n",
       "    <tr>\n",
       "      <th>12</th>\n",
       "      <td>13</td>\n",
       "      <td>CALL KEYWORDS('sql python  R  java javascript ...</td>\n",
       "      <td>0.058176</td>\n",
       "      <td>8</td>\n",
       "      <td>12</td>\n",
       "    </tr>\n",
       "    <tr>\n",
       "      <th>13</th>\n",
       "      <td>14</td>\n",
       "      <td>CALL KEYWORDS('sql python  R  java javascript ...</td>\n",
       "      <td>0.051642</td>\n",
       "      <td>8</td>\n",
       "      <td>12</td>\n",
       "    </tr>\n",
       "  </tbody>\n",
       "</table>\n",
       "</div>"
      ],
      "text/plain": [
       "    query_id                                              query  \\\n",
       "0          1  \\n            SELECT id, Score \\n            F...   \n",
       "1          2  \\n            SELECT id, Score\\n            FR...   \n",
       "2          3  \\n            SELECT AccountId, Reputation, La...   \n",
       "3          4  \\n            SELECT id\\n            FROM post...   \n",
       "4          5  \\n            SELECT id, CreationDate\\n       ...   \n",
       "5          6  \\n            SELECT id, DownVotes\\n          ...   \n",
       "6          7  \\n            SELECT *\\n            FROM posts...   \n",
       "7          8  \\n            SELECT id, WEIGHT()\\n           ...   \n",
       "8          9  \\n            SELECT id, Score\\n            FR...   \n",
       "9         10  \\n            SELECT id, Score\\n            FR...   \n",
       "10        11     \\n            SELECT id, Score\\n           ...   \n",
       "11        12  \\n            SELECT id\\n            FROM user...   \n",
       "12        13  CALL KEYWORDS('sql python  R  java javascript ...   \n",
       "13        14  CALL KEYWORDS('sql python  R  java javascript ...   \n",
       "\n",
       "    execution_time  num_rows  num_columns  \n",
       "0         0.137221        20            2  \n",
       "1         0.176276        20            2  \n",
       "2         0.057697        20            3  \n",
       "3         1.014113        20            1  \n",
       "4         0.187486        20            2  \n",
       "5         0.083565        20            2  \n",
       "6         2.020408        20           16  \n",
       "7         0.130365        20            2  \n",
       "8         0.284316         2            2  \n",
       "9         0.116233        10            2  \n",
       "10        0.939816        20            2  \n",
       "11        0.062290        20            1  \n",
       "12        0.058176         8           12  \n",
       "13        0.051642         8           12  "
      ]
     },
     "execution_count": 71,
     "metadata": {},
     "output_type": "execute_result"
    }
   ],
   "source": [
    "conn = pymysql.connect(host=\"127.0.0.1\", port=9306)\n",
    "cursor = conn.cursor()\n",
    "# Initialize a list to hold query metrics\n",
    "query_metrics = []\n",
    "TIMES=50\n",
    "# Run benchmarks\n",
    "for i in range(len(query_dictionary)):\n",
    "    query = query_dictionary[i+1]\n",
    "    \n",
    "    print(f\"Executing: {i+1}\")\n",
    "    start_time = time.time()\n",
    "    for j in range(TIMES):\n",
    "        cursor.execute(query)\n",
    "        results = cursor.fetchall()\n",
    "    end_time = time.time()\n",
    "    \n",
    "    # Collect execution time\n",
    "    execution_time = end_time - start_time\n",
    "    \n",
    "    # Get number of rows and columns\n",
    "    columns = [column[0] for column in cursor.description]  # Get column names\n",
    "    num_rows = len(results)\n",
    "    num_columns = len(columns)\n",
    "    \n",
    "    # Append metrics to the list\n",
    "    query_metrics.append({\n",
    "        'query_id':i+1,\n",
    "        'query': query,\n",
    "        'execution_time': execution_time,\n",
    "        'num_rows': num_rows,\n",
    "        'num_columns': num_columns\n",
    "    })\n",
    "\n",
    "# Convert to pandas DataFrame\n",
    "\n",
    "df = pd.DataFrame(query_metrics)\n",
    "df\n"
   ]
  },
  {
   "cell_type": "code",
   "execution_count": 72,
   "metadata": {},
   "outputs": [
    {
     "data": {
      "image/png": "[encoded data removed]",
      "text/plain": [
       "<Figure size 1000x600 with 1 Axes>"
      ]
     },
     "metadata": {},
     "output_type": "display_data"
    }
   ],
   "source": [
    " plt.figure(figsize=(10, 6))  # Set figure size\n",
    " sns.set(style=\"whitegrid\")  # Set the style for the plot\n",
    " sns.barplot(data=df, x='query_id', y='execution_time')\n",
    " # Add title and labels\n",
    " plt.title(\"Execution time by Query (Sphinx)\", fontsize=16)\n",
    " plt.xlabel(\"Query ID\", fontsize=12)\n",
    " plt.ylabel(\"Execution time (in seconds)\", fontsize=12)\n",
    " # Show the plot\n",
    " plt.show()"
   ]
  }
 ],
 "metadata": {
  "kernelspec": {
   "display_name": "base",
   "language": "python",
   "name": "python3"
  },
  "language_info": {
   "codemirror_mode": {
    "name": "ipython",
    "version": 3
   },
   "file_extension": ".py",
   "mimetype": "text/x-python",
   "name": "python",
   "nbconvert_exporter": "python",
   "pygments_lexer": "ipython3",
   "version": "3.12.7"
  }
 },
 "nbformat": 4,
 "nbformat_minor": 2
}

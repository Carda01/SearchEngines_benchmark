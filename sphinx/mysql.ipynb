{
 "cells": [
  {
   "cell_type": "code",
   "execution_count": 2,
   "metadata": {},
   "outputs": [
    {
     "name": "stdout",
     "output_type": "stream",
     "text": [
      "Requirement already satisfied: pymysql in c:\\users\\josub\\appdata\\local\\packages\\pythonsoftwarefoundation.python.3.11_qbz5n2kfra8p0\\localcache\\local-packages\\python311\\site-packages (1.1.1)\n",
      "Requirement already satisfied: mysql-connector-python in c:\\users\\josub\\appdata\\local\\packages\\pythonsoftwarefoundation.python.3.11_qbz5n2kfra8p0\\localcache\\local-packages\\python311\\site-packages (9.1.0)\n"
     ]
    }
   ],
   "source": [
    "!pip install pymysql mysql-connector-python\n",
    "import pandas as pd\n",
    "import pymysql\n",
    "from sqlalchemy import create_engine\n",
    "import os\n",
    "import mysql.connector"
   ]
  },
  {
   "cell_type": "code",
   "execution_count": 3,
   "metadata": {},
   "outputs": [],
   "source": [
    "username = 'test'\n",
    "password = '123456789'\n",
    "host = 'localhost' \n",
    "port = '3306'      \n",
    "database = 'sphinx'"
   ]
  },
  {
   "cell_type": "code",
   "execution_count": 4,
   "metadata": {},
   "outputs": [
    {
     "name": "stdout",
     "output_type": "stream",
     "text": [
      "Table 'badges' has been truncated.\n",
      "Table 'comments' has been truncated.\n",
      "Table 'linktypes' has been truncated.\n",
      "Table 'postlinks' has been truncated.\n",
      "Table 'posts' has been truncated.\n",
      "Table 'posttypes' has been truncated.\n",
      "Table 'users' has been truncated.\n",
      "Table 'votes' has been truncated.\n",
      "Table 'votetypes' has been truncated.\n"
     ]
    }
   ],
   "source": [
    "connection = mysql.connector.connect(\n",
    "    host=host,\n",
    "    user=username,\n",
    "    password=password,\n",
    "    database=database\n",
    ")\n",
    "cursor = connection.cursor()\n",
    "\n",
    "# Get a list of all tables in the database\n",
    "cursor.execute(\"SHOW TABLES;\")\n",
    "tables = cursor.fetchall()\n",
    "\n",
    "# Iterate over each table and delete all rows\n",
    "for (table_name,) in tables:\n",
    "    try:\n",
    "        # Delete or truncate the table\n",
    "        truncate_query = f\"TRUNCATE TABLE {table_name};\"\n",
    "        cursor.execute(truncate_query)\n",
    "        print(f\"Table '{table_name}' has been truncated.\")\n",
    "    except Exception as e:\n",
    "        print(f\"Failed to truncate table '{table_name}': {e}\")\n",
    "\n",
    "# Commit the changes\n",
    "connection.commit()\n",
    "\n",
    "# Close the cursor and connection\n",
    "cursor.close()\n",
    "connection.close()"
   ]
  },
  {
   "cell_type": "code",
   "execution_count": 6,
   "metadata": {},
   "outputs": [
    {
     "name": "stdout",
     "output_type": "stream",
     "text": [
      "Reading file: Comments.csv\n",
      "Dataframe will be inserted in chunks: Comments.csv\n",
      "Reading file: Posts.csv\n",
      "Dataframe will be inserted in chunks: Posts.csv\n",
      "Reading file: Users.csv\n",
      "Dataframe will be inserted in chunks: Users.csv\n",
      "Reading file: Comments.csv\n",
      "Dataframe will be inserted in chunks: Comments.csv\n",
      "Reading file: Posts.csv\n",
      "Dataframe will be inserted in chunks: Posts.csv\n",
      "Reading file: Users.csv\n",
      "Dataframe ready for MySQL: Users.csv\n",
      "Reading file: Comments.csv\n",
      "Dataframe will be inserted in chunks: Comments.csv\n",
      "Reading file: Posts.csv\n",
      "Dataframe will be inserted in chunks: Posts.csv\n",
      "Reading file: Users.csv\n",
      "Dataframe ready for MySQL: Users.csv\n"
     ]
    }
   ],
   "source": [
    "engine = create_engine(f'mysql+mysqlconnector://{username}:{password}@{host}:{port}/{database}')\n",
    "for i in [1,2,3]:\n",
    "    folder_path = \"../data_\"+str(i)\n",
    "    for file_name in os.listdir(folder_path):\n",
    "        # Check if the file is a CSV\n",
    "        if file_name.endswith('.csv'):\n",
    "            file_path = os.path.join(folder_path, file_name)\n",
    "            table_name=(file_name.split(\".\")[0]).lower()+str(i)\n",
    "            print(f\"Reading file: {file_name}\")\n",
    "            file_size = os.path.getsize(file_path)  # Size in bytes \n",
    "            \n",
    "            if file_size / (1024 ** 2)>15:\n",
    "                chunksize = 10000  \n",
    "                try:\n",
    "                    with engine.connect() as connection:\n",
    "                        print(f\"Dataframe will be inserted in chunks: {file_name}\")\n",
    "                        for chunk in pd.read_csv(file_path, chunksize=chunksize, index_col=False):\n",
    "                            chunk = chunk.iloc[:, ~chunk.columns.str.contains('^Unnamed')]\n",
    "                            chunk.to_sql(name=table_name, con=engine, if_exists='append', index=False)\n",
    "                            \n",
    "                except Exception as e:\n",
    "                    print(f\"An error occurred: {e}\")\n",
    "                    # Explicit rollback if the connection supports transactions\n",
    "                    connection.rollback()\n",
    "                finally:\n",
    "                    engine.dispose()\n",
    "            else:\n",
    "                df = pd.read_csv(file_path, index_col=False)\n",
    "                df = df.iloc[:, ~df.columns.str.contains('^Unnamed')]\n",
    "                print(f\"Dataframe ready for MySQL: {file_name}\")\n",
    "                \n",
    "                try:\n",
    "                    with engine.connect() as connection:\n",
    "                        df.to_sql(table_name, con=connection, if_exists='replace', index=False)\n",
    "                except Exception as e:\n",
    "                    print(f\"An error occurred: {e}\")\n",
    "                    # Explicit rollback if the connection supports transactions\n",
    "                    connection.rollback()\n",
    "                finally:\n",
    "                    engine.dispose()\n",
    "                "
   ]
  },
  {
   "cell_type": "markdown",
   "metadata": {},
   "source": [
    "You should install sphinx and put the binaries folder in this folder."
   ]
  },
  {
   "cell_type": "code",
   "execution_count": 7,
   "metadata": {},
   "outputs": [
    {
     "name": "stdout",
     "output_type": "stream",
     "text": [
      "Sphinx 3.7.1-dev (commit da9f8a4e7)\n",
      "Copyright (c) 2001-2024, Andrew Aksyonoff\n",
      "Copyright (c) 2008-2016, Sphinx Technologies Inc (http://sphinxsearch.com)\n",
      "\n",
      "using config file 'sphinx-min.conf.dist'...\n",
      "indexing index 'comments1'...\n",
      "collected 1373756 docs, 203.7 MB\n",
      "sorted 37.2 Mhits, 100.0% done\n",
      "total 1373756 docs, 203.7 Mb\n",
      "total 24.8 sec, 8.198 Mb/sec, 55290 docs/sec\n",
      "indexing index 'posts1'...\n",
      "collected 1565425 docs, 1101.4 MB\n",
      "sorted 183.3 Mhits, 100.0% done\n",
      "total 1565425 docs, 1.101 Gb\n",
      "total 121.1 sec, 9.098 Mb/sec, 12930 docs/sec\n",
      "indexing index 'users1'...\n",
      "collected 99869 docs, 9.2 MB\n",
      "sorted 1.5 Mhits, 100.0% done\n",
      "total 99869 docs, 9.171 Mb\n",
      "total 1.5 sec, 6.199 Mb/sec, 67507 docs/sec\n",
      "indexing index 'usersjoincomments1'...\n",
      "collected 831529 docs, 215.5 MB\n",
      "sorted 37.5 Mhits, 100.0% done\n",
      "total 831529 docs, 215.5 Mb\n",
      "total 35.4 sec, 6.088 Mb/sec, 23489 docs/sec\n",
      "indexing index 'usersjoinposts1'...\n",
      "collected 948342 docs, 770.1 MB\n",
      "sorted 128.6 Mhits, 100.0% done\n",
      "total 948342 docs, 770.1 Mb\n",
      "total 86.8 sec, 8.873 Mb/sec, 10927 docs/sec\n",
      "indexing index 'comments2'...\n",
      "collected 686878 docs, 98.6 MB\n",
      "sorted 18.1 Mhits, 100.0% done\n",
      "total 686878 docs, 98.62 Mb\n",
      "total 10.5 sec, 9.402 Mb/sec, 65481 docs/sec\n",
      "indexing index 'posts2'...\n",
      "collected 782712 docs, 537.6 MB\n",
      "sorted 90.4 Mhits, 100.0% done\n",
      "total 782712 docs, 537.6 Mb\n",
      "total 68.5 sec, 7.845 Mb/sec, 11422 docs/sec\n",
      "indexing index 'users2'...\n",
      "collected 49934 docs, 5.7 MB\n",
      "sorted 0.9 Mhits, 100.0% done\n",
      "total 49934 docs, 5.659 Mb\n",
      "total 1.2 sec, 4.836 Mb/sec, 42670 docs/sec\n",
      "indexing index 'comments3'...\n",
      "collected 457918 docs, 63.4 MB\n",
      "sorted 11.6 Mhits, 100.0% done\n",
      "total 457918 docs, 63.36 Mb\n",
      "total 8.2 sec, 7.735 Mb/sec, 55904 docs/sec\n",
      "indexing index 'posts3'...\n",
      "collected 521808 docs, 354.4 MB\n",
      "sorted 59.9 Mhits, 100.0% done\n",
      "total 521808 docs, 354.4 Mb\n",
      "total 33.5 sec, 10.59 Mb/sec, 15598 docs/sec\n",
      "indexing index 'users3'...\n",
      "collected 33289 docs, 4.0 MB\n",
      "sorted 0.6 Mhits, 100.0% done\n",
      "total 33289 docs, 3.960 Mb\n",
      "total 0.5 sec, 7.892 Mb/sec, 66341 docs/sec\n",
      "\n",
      "\n"
     ]
    }
   ],
   "source": [
    "import subprocess\n",
    "\n",
    "result = subprocess.run(\n",
    "    [\"sphinx-3.7.1\\\\bin\\\\indexer\", \"--config\", \"sphinx-min.conf.dist\", \"--all\"],\n",
    "    capture_output=True,\n",
    "    text=True\n",
    ")\n",
    "print(result.stdout) \n",
    "print(result.stderr) \n"
   ]
  }
 ],
 "metadata": {
  "kernelspec": {
   "display_name": "Python 3",
   "language": "python",
   "name": "python3"
  },
  "language_info": {
   "codemirror_mode": {
    "name": "ipython",
    "version": 3
   },
   "file_extension": ".py",
   "mimetype": "text/x-python",
   "name": "python",
   "nbconvert_exporter": "python",
   "pygments_lexer": "ipython3",
   "version": "3.11.9"
  }
 },
 "nbformat": 4,
 "nbformat_minor": 2
}

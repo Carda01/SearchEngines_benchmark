{
 "cells": [
  {
   "cell_type": "markdown",
   "metadata": {},
   "source": [
    "# Open search data generator"
   ]
  },
  {
   "cell_type": "code",
   "execution_count": 1,
   "metadata": {},
   "outputs": [
    {
     "name": "stderr",
     "output_type": "stream",
     "text": [
      "c:\\ulb\\SearchEngines_benchmark\\venv\\Lib\\site-packages\\IPython\\core\\magics\\osm.py:417: UserWarning: This is now an optional IPython functionality, setting dhist requires you to install the `pickleshare` library.\n",
      "  self.shell.db['dhist'] = compress_dhist(dhist)[-100:]\n"
     ]
    },
    {
     "name": "stdout",
     "output_type": "stream",
     "text": [
      "c:\\ulb\\SearchEngines_benchmark\n"
     ]
    }
   ],
   "source": [
    "%cd ..\n",
    "from opensearchpy import OpenSearch, helpers\n",
    "import pandas as pd\n",
    "from pprint import pp\n",
    "from dotenv import load_dotenv\n",
    "from tqdm import tqdm\n",
    "import os\n",
    "def ppr(resp):\n",
    "    pp(resp.raw)"
   ]
  },
  {
   "cell_type": "code",
   "execution_count": 2,
   "metadata": {},
   "outputs": [
    {
     "name": "stdout",
     "output_type": "stream",
     "text": [
      "Password caricata con successo.\n"
     ]
    }
   ],
   "source": [
    "load_dotenv()\n",
    "\n",
    "# Recupera la variabile della password dall'ambiente\n",
    "OPENSEARCH_INITIAL_ADMIN_PASSWORD = os.getenv(\"OPENSEARCH_INITIAL_ADMIN_PASSWORD\")\n",
    "OPENSEARCH_URL = os.getenv(\"OPENSEARCH_URL\")  # Ad esempio http://localhost:9200\n",
    "\n",
    "# Verifica che la password sia stata caricata correttamente\n",
    "if OPENSEARCH_INITIAL_ADMIN_PASSWORD:\n",
    "    print(\"Password caricata con successo.\")\n",
    "else:\n",
    "    print(\"Errore nel caricare la password.\")"
   ]
  },
  {
   "cell_type": "code",
   "execution_count": 3,
   "metadata": {},
   "outputs": [
    {
     "name": "stdout",
     "output_type": "stream",
     "text": [
      "https://localhost:9200\n",
      "<a123456789A.>\n"
     ]
    }
   ],
   "source": [
    "print(OPENSEARCH_URL)\n",
    "print(OPENSEARCH_INITIAL_ADMIN_PASSWORD)"
   ]
  },
  {
   "cell_type": "code",
   "execution_count": 4,
   "metadata": {},
   "outputs": [],
   "source": [
    "#OPENSEARCH_URL='https://localhost:9200'"
   ]
  },
  {
   "cell_type": "code",
   "execution_count": 6,
   "metadata": {},
   "outputs": [
    {
     "name": "stdout",
     "output_type": "stream",
     "text": [
      "Connessione a OpenSearch avvenuta con successo!\n"
     ]
    }
   ],
   "source": [
    "client = OpenSearch(\n",
    "    hosts=[OPENSEARCH_URL],\n",
    "    http_auth=(\"admin\", OPENSEARCH_INITIAL_ADMIN_PASSWORD),\n",
    "    use_ssl=False,\n",
    "    verify_certs=False,\n",
    "    ssl_assert_hostname=False,\n",
    "    ssl_show_warn=False\n",
    ")\n",
    "try:\n",
    "    info = client.info()\n",
    "    print(\"Connessione a OpenSearch avvenuta con successo!\")\n",
    "except Exception as e:\n",
    "    print(f\"Errore nella connessione: {e}\")"
   ]
  },
  {
   "cell_type": "markdown",
   "metadata": {},
   "source": [
    "## Uploading post data"
   ]
  },
  {
   "cell_type": "code",
   "execution_count": 18,
   "metadata": {},
   "outputs": [
    {
     "data": {
      "text/plain": [
       "{'acknowledged': True}"
      ]
     },
     "execution_count": 18,
     "metadata": {},
     "output_type": "execute_result"
    }
   ],
   "source": [
    "client.indices.delete(index='html_posts', ignore=[400, 404])"
   ]
  },
  {
   "cell_type": "code",
   "execution_count": 19,
   "metadata": {},
   "outputs": [
    {
     "data": {
      "text/plain": [
       "{'acknowledged': True, 'shards_acknowledged': True, 'index': 'html_posts'}"
      ]
     },
     "execution_count": 19,
     "metadata": {},
     "output_type": "execute_result"
    }
   ],
   "source": [
    "client.indices.create(\n",
    "    index='html_posts',\n",
    "    body = \n",
    "    {\n",
    "    'settings':{\n",
    "        \"analysis\": {\n",
    "            \"analyzer\": {\n",
    "                \"html_analyzer\": {\n",
    "                    \"type\": \"custom\",\n",
    "                    \"tokenizer\": \"standard\",\n",
    "                    \"char_filter\": [\n",
    "                        \"html_strip\"\n",
    "                    ]\n",
    "                }\n",
    "            }\n",
    "        }\n",
    "    }, \n",
    "    'mappings':{\n",
    "            \"properties\": {\n",
    "                \"Body\": {\n",
    "                    \"type\": \"text\",\n",
    "                    \"analyzer\": \"html_analyzer\"\n",
    "                },\n",
    "                \"CommentCount\": {\n",
    "                    \"type\": \"integer\"\n",
    "                },\n",
    "                \"CreationDate\": {\n",
    "                    \"type\": \"date\",\n",
    "                    \"format\": \"yyyy-MM-dd HH:mm:ss.SSS\"\n",
    "                },\n",
    "                \"OwnerUserId\": {\n",
    "                    \"type\": \"integer\"\n",
    "                }\n",
    "            }\n",
    "        }\n",
    "    }\n",
    ")\n"
   ]
  },
  {
   "cell_type": "code",
   "execution_count": 20,
   "metadata": {},
   "outputs": [],
   "source": [
    "def generator(json_chunk):\n",
    "    for line in json_chunk:\n",
    "        yield {\n",
    "            \"_index\": \"html_posts\",\n",
    "            \"_id\": line.get('Id'),\n",
    "            \"_source\": {\n",
    "                \"Body\": line.get(\"Body\",\"\"),\n",
    "                \"CommentCount\": line.get(\"CommentCount\",\"\"),\n",
    "                \"CreationDate\": line.get(\"CreationDate\",\"\"),\n",
    "                \"OwnerUserId\": line.get(\"OwnerUserId\",\"\")\n",
    "            }\n",
    "        }\n",
    "\n",
    "\n",
    "def from_chunk_to_client(chunk):\n",
    "    json_chunk = chunk.to_dict(\"records\")\n",
    "    return generator(json_chunk)"
   ]
  },
  {
   "cell_type": "code",
   "execution_count": 22,
   "metadata": {},
   "outputs": [
    {
     "name": "stderr",
     "output_type": "stream",
     "text": [
      "0it [00:00, ?it/s]"
     ]
    },
    {
     "name": "stderr",
     "output_type": "stream",
     "text": [
      "1566it [12:16,  2.13it/s]\n"
     ]
    }
   ],
   "source": [
    "columns = ['Id', 'OwnerUserId','Body', 'CommentCount', \"CreationDate\"]\n",
    "for chunk in tqdm(pd.read_csv('data/Posts.csv', chunksize=1000)):\n",
    "    gen = from_chunk_to_client(chunk[columns])\n",
    "    res = helpers.bulk(client, gen)"
   ]
  },
  {
   "cell_type": "markdown",
   "metadata": {},
   "source": [
    "## Trying some quieries"
   ]
  },
  {
   "cell_type": "code",
   "execution_count": 23,
   "metadata": {},
   "outputs": [
    {
     "name": "stdout",
     "output_type": "stream",
     "text": [
      "{'took': 2548,\n",
      " 'timed_out': False,\n",
      " '_shards': {'total': 1, 'successful': 1, 'skipped': 0, 'failed': 0},\n",
      " 'hits': {'total': {'value': 10000, 'relation': 'gte'},\n",
      "          'max_score': 5.2720766,\n",
      "          'hits': [{'_index': 'html_posts',\n",
      "                    '_id': '1859507',\n",
      "                    '_score': 5.2720766,\n",
      "                    '_source': {'Body': '<p>I want to display a number in a '\n",
      "                                        'report, however I only want to show '\n",
      "                                        'any decimal points if they are '\n",
      "                                        'present and the I only want to show 1 '\n",
      "                                        'decimal space.</p>\\n'\n",
      "                                        '\\n'\n",
      "                                        '<p>e.g. if the number is 12 then I '\n",
      "                                        'want to show 12</p>\\n'\n",
      "                                        '\\n'\n",
      "                                        '<p>If the number is 12.1 then I want '\n",
      "                                        'to show 12.1</p>\\n'\n",
      "                                        '\\n'\n",
      "                                        '<p>If the number is 12.11 then I want '\n",
      "                                        'to show 12.1</p>\\n',\n",
      "                                'CommentCount': 0,\n",
      "                                'CreationDate': '2009-12-07 11:46:03.600',\n",
      "                                'OwnerUserId': 226305}},\n",
      "                   {'_index': 'html_posts',\n",
      "                    '_id': '395230',\n",
      "                    '_score': 5.2332306,\n",
      "                    '_source': {'Body': '<p>I want to have a datepicker where '\n",
      "                                        'you can also just type basically I '\n",
      "                                        'want to have the jQuery UI Datepicker '\n",
      "                                        'and datejs in one. I want to type '\n",
      "                                        '\"tomorrow\" and I want it to select '\n",
      "                                        'the right day. I want to be able to '\n",
      "                                        'type \"saturday\" and it actually '\n",
      "                                        'getting the date right.</p>\\n',\n",
      "                                'CommentCount': 0,\n",
      "                                'CreationDate': '2008-12-27 18:10:56.930',\n",
      "                                'OwnerUserId': 19929}},\n",
      "                   {'_index': 'html_posts',\n",
      "                    '_id': '1174947',\n",
      "                    '_score': 5.2004814,\n",
      "                    '_source': {'Body': '<p>For example,</p>\\n'\n",
      "                                        '\\n'\n",
      "                                        '<ol>\\n'\n",
      "                                        \"<li>I don't want to use \"\n",
      "                                        '<code>org.testng.v6.Maps</code>, (I '\n",
      "                                        'want '\n",
      "                                        '<code>com.google.common.collect.Maps</code>)</li>\\n'\n",
      "                                        \"<li>I don't want to use \"\n",
      "                                        '<code>org.hibernate.mapping.List</code>, '\n",
      "                                        '(I want <code>java.util.List</code> '\n",
      "                                        'like everyone else!)</li>\\n'\n",
      "                                        '</ol>\\n'\n",
      "                                        '\\n'\n",
      "                                        '<p>Is there a way to tell Eclipse not '\n",
      "                                        'to suggest these in the autocomplete '\n",
      "                                        'box?</p>\\n',\n",
      "                                'CommentCount': 0,\n",
      "                                'CreationDate': '2009-07-23 22:53:56.887',\n",
      "                                'OwnerUserId': 11858}},\n",
      "                   {'_index': 'html_posts',\n",
      "                    '_id': '1187970',\n",
      "                    '_score': 5.1930804,\n",
      "                    '_source': {'Body': '<p>I would like to know how to I exit '\n",
      "                                        'from Python without having an '\n",
      "                                        'traceback dump on the output. </p>\\n'\n",
      "                                        '\\n'\n",
      "                                        '<p>I still want want to be able to '\n",
      "                                        'return an error code but I do not '\n",
      "                                        'want to display the traceback '\n",
      "                                        'log.</p>\\n'\n",
      "                                        '\\n'\n",
      "                                        '<p>I want to be able to exit using '\n",
      "                                        '<code>exit(number)</code> without '\n",
      "                                        'trace but in case of an Exception '\n",
      "                                        '(not an exit) I want the trace.</p>\\n',\n",
      "                                'CommentCount': 5,\n",
      "                                'CreationDate': '2009-07-27 12:44:15.817',\n",
      "                                'OwnerUserId': 99834}},\n",
      "                   {'_index': 'html_posts',\n",
      "                    '_id': '1083527',\n",
      "                    '_score': 5.152898,\n",
      "                    '_source': {'Body': '<p>I want to block calls from few '\n",
      "                                        'numbers, for that I want to write a '\n",
      "                                        'app of my own.\\n'\n",
      "                                        'So what are the APIs which I should '\n",
      "                                        'be using?</p>\\n'\n",
      "                                        '\\n'\n",
      "                                        '<p>Basically I want to get notified '\n",
      "                                        'when a call comes, i want to compare '\n",
      "                                        'numbers if it is what i want to '\n",
      "                                        'block, i want to cut the call or mute '\n",
      "                                        'it or if possible mute it and record '\n",
      "                                        'it.</p>\\n',\n",
      "                                'CommentCount': 4,\n",
      "                                'CreationDate': '2009-07-05 05:52:06.420',\n",
      "                                'OwnerUserId': 6946}},\n",
      "                   {'_index': 'html_posts',\n",
      "                    '_id': '1185225',\n",
      "                    '_score': 5.1510305,\n",
      "                    '_source': {'Body': '<p>I have a document containing ahref '\n",
      "                                        'links I want to extract. The link I '\n",
      "                                        'want can be identified by part of  '\n",
      "                                        'the url they link to. There are other '\n",
      "                                        'links that are similar which I want '\n",
      "                                        'to discard.</p>\\n'\n",
      "                                        '\\n'\n",
      "                                        '<p>The urls  of the links I want are '\n",
      "                                        'of the format</p>\\n'\n",
      "                                        '\\n'\n",
      "                                        '<p><a '\n",
      "                                        'href=\"http://www.xxxxxxxxxxxxxxxxxxx.com/index.php?showtopic=44&amp;hl=\" '\n",
      "                                        'rel=\"nofollow '\n",
      "                                        'noreferrer\">http://www.xxxxxxxxxxxxxxxxxxx.com/index.php?showtopic=44&amp;hl=</a></p>\\n'\n",
      "                                        '\\n'\n",
      "                                        '<p>I want to search for links '\n",
      "                                        'containing  the h1=. Is this '\n",
      "                                        'possible?</p>\\n',\n",
      "                                'CommentCount': 0,\n",
      "                                'CreationDate': '2009-07-26 18:37:31.260',\n",
      "                                'OwnerUserId': 0}},\n",
      "                   {'_index': 'html_posts',\n",
      "                    '_id': '987260',\n",
      "                    '_score': 5.1132603,\n",
      "                    '_source': {'Body': '<p>I want to have a particular CSS '\n",
      "                                        'style different for IE6. Basically I '\n",
      "                                        'am using CSS sprites with a PNG file. '\n",
      "                                        'But for IE6 I want to use the .gif '\n",
      "                                        'version.</p>\\n'\n",
      "                                        '\\n'\n",
      "                                        '<p>I dont want to use the '\n",
      "                                        '<code>&lt;!-- if lte IE6</code> '\n",
      "                                        'statement. I want to include it '\n",
      "                                        'within my CSS file itself.</p>\\n'\n",
      "                                        '\\n'\n",
      "                                        '<p>How do I do that?</p>\\n'\n",
      "                                        '\\n'\n",
      "                                        '<hr>\\n'\n",
      "                                        '\\n'\n",
      "                                        '<h3>Edit:</h3>\\n'\n",
      "                                        '\\n'\n",
      "                                        '<p>I need this because I want my '\n",
      "                                        'users to include a single CSS file '\n",
      "                                        'and not 4 lines of code. My users are '\n",
      "                                        \"absolute newbies. I don't want to \"\n",
      "                                        'confuse them. Plus the only change I '\n",
      "                                        'want is to use .gif instead of the '\n",
      "                                        'current .png.</p>\\n'\n",
      "                                        '\\n'\n",
      "                                        '<hr>\\n'\n",
      "                                        '\\n'\n",
      "                                        '<h3>Edit:</h3>\\n'\n",
      "                                        '\\n'\n",
      "                                        '<p>How does '\n",
      "                                        '<code>_background-image:</code> '\n",
      "                                        'sound? Is there anything wrong with '\n",
      "                                        'that?<br>\\n'\n",
      "                                        'Alternatively, can I use a '\n",
      "                                        'conditional statement inside a CSS '\n",
      "                                        'file? </p>\\n',\n",
      "                                'CommentCount': 9,\n",
      "                                'CreationDate': '2009-06-12 15:23:18.050',\n",
      "                                'OwnerUserId': 426996}},\n",
      "                   {'_index': 'html_posts',\n",
      "                    '_id': '1965441',\n",
      "                    '_score': 5.10984,\n",
      "                    '_source': {'Body': '<p>I know that I can use Query '\n",
      "                                        'language to find the record I want. I '\n",
      "                                        'am doing a login page, I want to find '\n",
      "                                        'the record which match the user name '\n",
      "                                        \"and password, but I don't want to \"\n",
      "                                        'loop all the elements to find out the '\n",
      "                                        'user I want (&lt;% @users.each do '\n",
      "                                        '|user| %>), wt should I do in RoR, '\n",
      "                                        'except typing SQL.</p>\\n',\n",
      "                                'CommentCount': 0,\n",
      "                                'CreationDate': '2009-12-27 07:31:49.947',\n",
      "                                'OwnerUserId': 148978}},\n",
      "                   {'_index': 'html_posts',\n",
      "                    '_id': '1157167',\n",
      "                    '_score': 5.1020093,\n",
      "                    '_source': {'Body': '<p>I want set a line of text link in '\n",
      "                                        'rich text box of vb.net. Like for '\n",
      "                                        'example: I want to know you</p>\\n'\n",
      "                                        '\\n'\n",
      "                                        '<p>The word want, I want to set a '\n",
      "                                        'link word.</p>\\n'\n",
      "                                        '\\n'\n",
      "                                        '<p>Can I do that? If can, please help '\n",
      "                                        'me!</p>\\n'\n",
      "                                        '\\n'\n",
      "                                        '<p>Thanks,\\n'\n",
      "                                        'Sopolin</p>\\n',\n",
      "                                'CommentCount': 1,\n",
      "                                'CreationDate': '2009-07-21 03:30:58.483',\n",
      "                                'OwnerUserId': 78493}},\n",
      "                   {'_index': 'html_posts',\n",
      "                    '_id': '957821',\n",
      "                    '_score': 5.0997105,\n",
      "                    '_source': {'Body': '<p>I am using <code>UITextView</code> '\n",
      "                                        'to edit text. I want to use two '\n",
      "                                        '<code>UIButtons</code> Edit and Save. '\n",
      "                                        'Initially I want to show edit '\n",
      "                                        '<code>UIButton</code>, when the user '\n",
      "                                        'click on edit I want to show save '\n",
      "                                        '<code>UIButton</code>. when the '\n",
      "                                        'content successfully saved I dont '\n",
      "                                        'want to show save button any '\n",
      "                                        'more.</p>\\n'\n",
      "                                        '\\n'\n",
      "                                        '<p>I am a c# coder, in c# I used to '\n",
      "                                        'do like this </p>\\n'\n",
      "                                        '\\n'\n",
      "                                        '<pre><code>C# code\\n'\n",
      "                                        'btnedit.visible=true;\\n'\n",
      "                                        '</code></pre>\\n'\n",
      "                                        '\\n'\n",
      "                                        '<p>Now I want to know how to make a '\n",
      "                                        'button visible and not visible from '\n",
      "                                        'objective c code.</p>\\n'\n",
      "                                        '\\n'\n",
      "                                        '<p>Thanks,</p>\\n',\n",
      "                                'CommentCount': 0,\n",
      "                                'CreationDate': '2009-06-05 19:52:55.603',\n",
      "                                'OwnerUserId': 92242}}]}}\n"
     ]
    }
   ],
   "source": [
    "resp = client.search(\n",
    "    index='html_posts',\n",
    "    body={ \n",
    "        \"query\": {\n",
    "            \"match\": {\n",
    "                \"Body\": \"I want to\"  \n",
    "            }\n",
    "        }\n",
    "    }\n",
    ")\n",
    "\n",
    "pp(resp)"
   ]
  },
  {
   "cell_type": "code",
   "execution_count": 24,
   "metadata": {},
   "outputs": [
    {
     "name": "stdout",
     "output_type": "stream",
     "text": [
      "{'took': 9,\n",
      " 'timed_out': False,\n",
      " '_shards': {'total': 1, 'successful': 1, 'skipped': 0, 'failed': 0},\n",
      " 'hits': {'total': {'value': 0, 'relation': 'eq'},\n",
      "          'max_score': None,\n",
      "          'hits': []}}\n"
     ]
    }
   ],
   "source": [
    "resp = client.search(\n",
    "    index='html_posts',\n",
    "    body={ \n",
    "        \"query\": {\n",
    "            \"match\": {\n",
    "                \"Body\": \"<p>\"  \n",
    "            }\n",
    "        }\n",
    "    }\n",
    ")\n",
    "pp(resp)"
   ]
  },
  {
   "cell_type": "code",
   "execution_count": 25,
   "metadata": {},
   "outputs": [],
   "source": [
    "resp = client.search(\n",
    "    index='html_posts',\n",
    "    body={\n",
    "        \"size\": 0,  # We're aggregating, not fetching individual documents\n",
    "        \"query\": {\n",
    "            \"bool\": {\n",
    "                \"should\": [\n",
    "                    {\"match_phrase\": {\"Body\": \"sql\"}},\n",
    "                    {\"match_phrase\": {\"Body\": \"python\"}},\n",
    "                    {\"match_phrase\": {\"Body\": \" R \"}},\n",
    "                    {\"match_phrase\": {\"Body\": \"java\"}},\n",
    "                    {\"match_phrase\": {\"Body\": \"javascript\"}},\n",
    "                    {\"match_phrase\": {\"Body\": \"c++\"}},\n",
    "                    {\"match_phrase\": {\"Body\": \"ruby\"}},\n",
    "                    {\"match_phrase\": {\"Body\": \"php\"}}\n",
    "                ]\n",
    "            }\n",
    "        },\n",
    "        \"aggs\": {\n",
    "            \"Programming_Language\": {\n",
    "                \"filters\": {\n",
    "                    \"filters\": {\n",
    "                        \"SQL\": {\"match_phrase\": {\"Body\": \"sql\"}},\n",
    "                        \"Python\": {\"match_phrase\": {\"Body\": \"python\"}},\n",
    "                        \"R\": {\"match_phrase\": {\"Body\": \" R \"}},\n",
    "                        \"Java\": {\"match_phrase\": {\"Body\": \"java\"}},\n",
    "                        \"JavaScript\": {\"match_phrase\": {\"Body\": \"javascript\"}},\n",
    "                        \"C++\": {\"match_phrase\": {\"Body\": \"c++\"}},\n",
    "                        \"Ruby\": {\"match_phrase\": {\"Body\": \"ruby\"}},\n",
    "                        \"PHP\": {\"match_phrase\": {\"Body\": \"php\"}}\n",
    "                    }\n",
    "                }\n",
    "            }\n",
    "        }\n",
    "    }\n",
    ")"
   ]
  },
  {
   "cell_type": "code",
   "execution_count": 26,
   "metadata": {},
   "outputs": [
    {
     "name": "stdout",
     "output_type": "stream",
     "text": [
      "{'took': 260,\n",
      " 'timed_out': False,\n",
      " '_shards': {'total': 1, 'successful': 1, 'skipped': 0, 'failed': 0},\n",
      " 'hits': {'total': {'value': 10000, 'relation': 'gte'},\n",
      "          'max_score': None,\n",
      "          'hits': []},\n",
      " 'aggregations': {'Programming_Language': {'buckets': {'C++': {'doc_count': 41095},\n",
      "                                                       'Java': {'doc_count': 15747},\n",
      "                                                       'JavaScript': {'doc_count': 28595},\n",
      "                                                       'PHP': {'doc_count': 20003},\n",
      "                                                       'Python': {'doc_count': 14099},\n",
      "                                                       'R': {'doc_count': 6677},\n",
      "                                                       'Ruby': {'doc_count': 5360},\n",
      "                                                       'SQL': {'doc_count': 12617}}}}}\n"
     ]
    }
   ],
   "source": [
    "pp(resp)"
   ]
  },
  {
   "cell_type": "code",
   "execution_count": 57,
   "metadata": {},
   "outputs": [
    {
     "name": "stdout",
     "output_type": "stream",
     "text": [
      "        OwnerUserId Programming_Language  Post_Count\n",
      "0                 0                  C++        2545\n",
      "1                 0                 Java        1140\n",
      "2                 0           JavaScript        1736\n",
      "3                 0                Other           0\n",
      "4                 0                  PHP        1470\n",
      "...             ...                  ...         ...\n",
      "301072      8571118                  PHP           0\n",
      "301073      8571118               Python           0\n",
      "301074      8571118                    R           0\n",
      "301075      8571118                 Ruby           0\n",
      "301076      8571118                  SQL           0\n",
      "\n",
      "[301077 rows x 3 columns]\n"
     ]
    }
   ],
   "source": [
    "all_buckets = []\n",
    "after_key = None  # Pagination key starts as None\n",
    "\n",
    "while True:\n",
    "    # Build the query\n",
    "    body = {\n",
    "        \"size\": 0,  # No document hits, just aggregations\n",
    "        \"query\": {\n",
    "            \"bool\": {\n",
    "                \"should\": [\n",
    "                    {\"match\": {\"Body\": \"sql\"}},\n",
    "                    {\"match\": {\"Body\": \"python\"}},\n",
    "                    {\"match\": {\"Body\": \" R \"}},\n",
    "                    {\"match\": {\"Body\": \"java\"}},\n",
    "                    {\"match\": {\"Body\": \"javascript\"}},\n",
    "                    {\"match\": {\"Body\": \"c++\"}},\n",
    "                    {\"match\": {\"Body\": \"ruby\"}},\n",
    "                    {\"match\": {\"Body\": \"php\"}}\n",
    "                ]\n",
    "            }\n",
    "        },\n",
    "        \"aggs\": {\n",
    "            \"OwnerUserId\": {\n",
    "                \"composite\": {\n",
    "                    \"sources\": [\n",
    "                        {\"OwnerUserId\": {\"terms\": {\"field\": \"OwnerUserId\"}}}\n",
    "                    ],\n",
    "                    \"size\": 5000  # Fetch 1000 buckets per page\n",
    "                },\n",
    "                \"aggs\": {\n",
    "                    \"Programming_Language\": {\n",
    "                        \"filters\": {\n",
    "                            \"filters\": {\n",
    "                                \"SQL\": {\"match\": {\"Body\": \"sql\"}},\n",
    "                                \"Python\": {\"match\": {\"Body\": \"python\"}},\n",
    "                                \"R\": {\"match\": {\"Body\": \" R \"}},\n",
    "                                \"Java\": {\"match\": {\"Body\": \"java\"}},\n",
    "                                \"JavaScript\": {\"match\": {\"Body\": \"javascript\"}},\n",
    "                                \"C++\": {\"match\": {\"Body\": \"c++\"}},\n",
    "                                \"Ruby\": {\"match\": {\"Body\": \"ruby\"}},\n",
    "                                \"PHP\": {\"match\": {\"Body\": \"php\"}},\n",
    "                                \"Other\": {\n",
    "                                    \"bool\": {\n",
    "                                        \"must_not\": [\n",
    "                                            {\"match\": {\"Body\": \"sql\"}},\n",
    "                                            {\"match\": {\"Body\": \"python\"}},\n",
    "                                            {\"match\": {\"Body\": \" R \"}},\n",
    "                                            {\"match\": {\"Body\": \"java\"}},\n",
    "                                            {\"match\": {\"Body\": \"javascript\"}},\n",
    "                                            {\"match\": {\"Body\": \"c++\"}},\n",
    "                                            {\"match\": {\"Body\": \"ruby\"}},\n",
    "                                            {\"match\": {\"Body\": \"php\"}}\n",
    "                                        ]\n",
    "                                    }\n",
    "                                }\n",
    "                            }\n",
    "                        },\n",
    "                        \"aggs\": {\n",
    "                            \"Post_Count\": {\n",
    "                                \"value_count\": {\"field\": \"_id\"}\n",
    "                            }\n",
    "                        }\n",
    "                    }\n",
    "                }\n",
    "            }\n",
    "        }\n",
    "    }\n",
    "\n",
    "    # Add the after_key to the composite aggregation if it's set\n",
    "    if after_key:\n",
    "        body[\"aggs\"][\"OwnerUserId\"][\"composite\"][\"after\"] = after_key\n",
    "\n",
    "    # Execute the search\n",
    "    resp = client.search(index=\"html_posts\", body=body)\n",
    "\n",
    "    # Extract buckets\n",
    "    buckets = resp[\"aggregations\"][\"OwnerUserId\"][\"buckets\"]\n",
    "    all_buckets.extend(buckets)\n",
    "\n",
    "    # Check if there's more data to fetch\n",
    "    if \"after_key\" in resp[\"aggregations\"][\"OwnerUserId\"]:\n",
    "        after_key = resp[\"aggregations\"][\"OwnerUserId\"][\"after_key\"]\n",
    "    else:\n",
    "        break\n",
    "\n",
    "# Prepare data for DataFrame\n",
    "data = []\n",
    "for bucket in all_buckets:\n",
    "    owner_id = bucket[\"key\"][\"OwnerUserId\"]\n",
    "    for lang, lang_bucket in bucket[\"Programming_Language\"][\"buckets\"].items():\n",
    "        post_count = lang_bucket[\"Post_Count\"][\"value\"]\n",
    "        data.append({\n",
    "            \"OwnerUserId\": owner_id,\n",
    "            \"Programming_Language\": lang,\n",
    "            \"Post_Count\": post_count\n",
    "        })\n",
    "\n",
    "# Convert to DataFrame\n",
    "df = pd.DataFrame(data)\n",
    "print(df)\n",
    "\n"
   ]
  },
  {
   "cell_type": "code",
   "execution_count": 58,
   "metadata": {},
   "outputs": [],
   "source": [
    "df = df[df['Post_Count']>0]"
   ]
  },
  {
   "cell_type": "code",
   "execution_count": 59,
   "metadata": {},
   "outputs": [
    {
     "data": {
      "text/plain": [
       "33453"
      ]
     },
     "execution_count": 59,
     "metadata": {},
     "output_type": "execute_result"
    }
   ],
   "source": [
    "df.OwnerUserId.nunique()"
   ]
  },
  {
   "cell_type": "code",
   "execution_count": 61,
   "metadata": {},
   "outputs": [
    {
     "data": {
      "text/html": [
       "<div>\n",
       "<style scoped>\n",
       "    .dataframe tbody tr th:only-of-type {\n",
       "        vertical-align: middle;\n",
       "    }\n",
       "\n",
       "    .dataframe tbody tr th {\n",
       "        vertical-align: top;\n",
       "    }\n",
       "\n",
       "    .dataframe thead th {\n",
       "        text-align: right;\n",
       "    }\n",
       "</style>\n",
       "<table border=\"1\" class=\"dataframe\">\n",
       "  <thead>\n",
       "    <tr style=\"text-align: right;\">\n",
       "      <th></th>\n",
       "      <th>OwnerUserId</th>\n",
       "      <th>Programming_Language</th>\n",
       "      <th>Post_Count</th>\n",
       "    </tr>\n",
       "  </thead>\n",
       "  <tbody>\n",
       "    <tr>\n",
       "      <th>0</th>\n",
       "      <td>0</td>\n",
       "      <td>C++</td>\n",
       "      <td>2545</td>\n",
       "    </tr>\n",
       "    <tr>\n",
       "      <th>1</th>\n",
       "      <td>0</td>\n",
       "      <td>Java</td>\n",
       "      <td>1140</td>\n",
       "    </tr>\n",
       "    <tr>\n",
       "      <th>2</th>\n",
       "      <td>0</td>\n",
       "      <td>JavaScript</td>\n",
       "      <td>1736</td>\n",
       "    </tr>\n",
       "    <tr>\n",
       "      <th>8</th>\n",
       "      <td>0</td>\n",
       "      <td>SQL</td>\n",
       "      <td>923</td>\n",
       "    </tr>\n",
       "    <tr>\n",
       "      <th>4</th>\n",
       "      <td>0</td>\n",
       "      <td>PHP</td>\n",
       "      <td>1470</td>\n",
       "    </tr>\n",
       "    <tr>\n",
       "      <th>...</th>\n",
       "      <td>...</td>\n",
       "      <td>...</td>\n",
       "      <td>...</td>\n",
       "    </tr>\n",
       "    <tr>\n",
       "      <th>301047</th>\n",
       "      <td>5696608</td>\n",
       "      <td>R</td>\n",
       "      <td>5</td>\n",
       "    </tr>\n",
       "    <tr>\n",
       "      <th>301051</th>\n",
       "      <td>5759201</td>\n",
       "      <td>Java</td>\n",
       "      <td>1</td>\n",
       "    </tr>\n",
       "    <tr>\n",
       "      <th>301050</th>\n",
       "      <td>5759201</td>\n",
       "      <td>C++</td>\n",
       "      <td>1</td>\n",
       "    </tr>\n",
       "    <tr>\n",
       "      <th>301059</th>\n",
       "      <td>6258565</td>\n",
       "      <td>C++</td>\n",
       "      <td>1</td>\n",
       "    </tr>\n",
       "    <tr>\n",
       "      <th>301070</th>\n",
       "      <td>8571118</td>\n",
       "      <td>JavaScript</td>\n",
       "      <td>1</td>\n",
       "    </tr>\n",
       "  </tbody>\n",
       "</table>\n",
       "<p>59495 rows × 3 columns</p>\n",
       "</div>"
      ],
      "text/plain": [
       "        OwnerUserId Programming_Language  Post_Count\n",
       "0                 0                  C++        2545\n",
       "1                 0                 Java        1140\n",
       "2                 0           JavaScript        1736\n",
       "8                 0                  SQL         923\n",
       "4                 0                  PHP        1470\n",
       "...             ...                  ...         ...\n",
       "301047      5696608                    R           5\n",
       "301051      5759201                 Java           1\n",
       "301050      5759201                  C++           1\n",
       "301059      6258565                  C++           1\n",
       "301070      8571118           JavaScript           1\n",
       "\n",
       "[59495 rows x 3 columns]"
      ]
     },
     "execution_count": 61,
     "metadata": {},
     "output_type": "execute_result"
    }
   ],
   "source": [
    "df.sort_values(by='OwnerUserId')"
   ]
  },
  {
   "cell_type": "code",
   "execution_count": null,
   "metadata": {},
   "outputs": [],
   "source": []
  }
 ],
 "metadata": {
  "kernelspec": {
   "display_name": "venv",
   "language": "python",
   "name": "python3"
  },
  "language_info": {
   "codemirror_mode": {
    "name": "ipython",
    "version": 3
   },
   "file_extension": ".py",
   "mimetype": "text/x-python",
   "name": "python",
   "nbconvert_exporter": "python",
   "pygments_lexer": "ipython3",
   "version": "3.13.0"
  }
 },
 "nbformat": 4,
 "nbformat_minor": 4
}

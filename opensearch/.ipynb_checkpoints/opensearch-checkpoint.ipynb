{
 "cells": [
  {
   "cell_type": "markdown",
   "metadata": {},
   "source": [
    "# Open search data generator"
   ]
  },
  {
   "cell_type": "code",
   "execution_count": 1,
   "metadata": {},
   "outputs": [
    {
     "name": "stderr",
     "output_type": "stream",
     "text": [
      "c:\\ulb\\SearchEngines_benchmark\\venv\\Lib\\site-packages\\IPython\\core\\magics\\osm.py:417: UserWarning: This is now an optional IPython functionality, setting dhist requires you to install the `pickleshare` library.\n",
      "  self.shell.db['dhist'] = compress_dhist(dhist)[-100:]\n"
     ]
    },
    {
     "name": "stdout",
     "output_type": "stream",
     "text": [
      "c:\\ulb\\SearchEngines_benchmark\n"
     ]
    }
   ],
   "source": [
    "%cd ..\n",
    "from opensearchpy import OpenSearch, helpers\n",
    "import pandas as pd\n",
    "from pprint import pp\n",
    "from dotenv import load_dotenv\n",
    "from tqdm import tqdm\n",
    "import os\n",
    "def ppr(resp):\n",
    "    pp(resp.raw)"
   ]
  },
  {
   "cell_type": "code",
   "execution_count": 2,
   "metadata": {},
   "outputs": [
    {
     "name": "stdout",
     "output_type": "stream",
     "text": [
      "Password caricata con successo.\n"
     ]
    }
   ],
   "source": [
    "load_dotenv()\n",
    "\n",
    "# Recupera la variabile della password dall'ambiente\n",
    "OPENSEARCH_INITIAL_ADMIN_PASSWORD = os.getenv(\"OPENSEARCH_INITIAL_ADMIN_PASSWORD\")\n",
    "OPENSEARCH_URL = os.getenv(\"OPENSEARCH_URL\")  # Ad esempio http://localhost:9200\n",
    "\n",
    "# Verifica che la password sia stata caricata correttamente\n",
    "if OPENSEARCH_INITIAL_ADMIN_PASSWORD:\n",
    "    print(\"Password caricata con successo.\")\n",
    "else:\n",
    "    print(\"Errore nel caricare la password.\")"
   ]
  },
  {
   "cell_type": "code",
   "execution_count": 3,
   "metadata": {},
   "outputs": [
    {
     "name": "stdout",
     "output_type": "stream",
     "text": [
      "https://localhost:9200\n",
      ".a123456789A.\n"
     ]
    }
   ],
   "source": [
    "print(OPENSEARCH_URL)\n",
    "print(OPENSEARCH_INITIAL_ADMIN_PASSWORD)"
   ]
  },
  {
   "cell_type": "code",
   "execution_count": 10,
   "metadata": {},
   "outputs": [],
   "source": [
    "OPENSEARCH_URL='https://localhost:9200'"
   ]
  },
  {
   "cell_type": "code",
   "execution_count": 11,
   "metadata": {},
   "outputs": [
    {
     "name": "stdout",
     "output_type": "stream",
     "text": [
      "Errore nella connessione: AuthenticationException(401, 'Unauthorized')\n"
     ]
    }
   ],
   "source": [
    "client = OpenSearch(\n",
    "    hosts=[OPENSEARCH_URL],\n",
    "    http_auth=(\"admin\", OPENSEARCH_INITIAL_ADMIN_PASSWORD),\n",
    "    use_ssl=False,\n",
    "    verify_certs=False,\n",
    "    ssl_assert_hostname=False,\n",
    "    ssl_show_warn=False\n",
    ")\n",
    "try:\n",
    "    info = client.info()\n",
    "    print(\"Connessione a OpenSearch avvenuta con successo!\")\n",
    "except Exception as e:\n",
    "    print(f\"Errore nella connessione: {e}\")"
   ]
  },
  {
   "cell_type": "code",
   "execution_count": 38,
   "metadata": {},
   "outputs": [
    {
     "ename": "RequestError",
     "evalue": "RequestError(400, 'resource_already_exists_exception', 'index [html_posts/86uIO-wmRyiqUGrLuBj32A] already exists')",
     "output_type": "error",
     "traceback": [
      "\u001b[0;31m---------------------------------------------------------------------------\u001b[0m",
      "\u001b[0;31mRequestError\u001b[0m                              Traceback (most recent call last)",
      "Cell \u001b[0;32mIn[38], line 1\u001b[0m\n\u001b[0;32m----> 1\u001b[0m \u001b[43mclient\u001b[49m\u001b[38;5;241;43m.\u001b[39;49m\u001b[43mindices\u001b[49m\u001b[38;5;241;43m.\u001b[39;49m\u001b[43mcreate\u001b[49m\u001b[43m(\u001b[49m\n\u001b[1;32m      2\u001b[0m \u001b[43m    \u001b[49m\u001b[43mindex\u001b[49m\u001b[38;5;241;43m=\u001b[39;49m\u001b[38;5;124;43m'\u001b[39;49m\u001b[38;5;124;43mhtml_posts\u001b[39;49m\u001b[38;5;124;43m'\u001b[39;49m\u001b[43m,\u001b[49m\n\u001b[1;32m      3\u001b[0m \u001b[43m    \u001b[49m\u001b[43mbody\u001b[49m\u001b[43m \u001b[49m\u001b[38;5;241;43m=\u001b[39;49m\u001b[43m \u001b[49m\n\u001b[1;32m      4\u001b[0m \u001b[43m    \u001b[49m\u001b[43m{\u001b[49m\n\u001b[1;32m      5\u001b[0m \u001b[43m    \u001b[49m\u001b[38;5;124;43m'\u001b[39;49m\u001b[38;5;124;43msettings\u001b[39;49m\u001b[38;5;124;43m'\u001b[39;49m\u001b[43m:\u001b[49m\u001b[43m{\u001b[49m\n\u001b[1;32m      6\u001b[0m \u001b[43m        \u001b[49m\u001b[38;5;124;43m\"\u001b[39;49m\u001b[38;5;124;43manalysis\u001b[39;49m\u001b[38;5;124;43m\"\u001b[39;49m\u001b[43m:\u001b[49m\u001b[43m \u001b[49m\u001b[43m{\u001b[49m\n\u001b[1;32m      7\u001b[0m \u001b[43m            \u001b[49m\u001b[38;5;124;43m\"\u001b[39;49m\u001b[38;5;124;43manalyzer\u001b[39;49m\u001b[38;5;124;43m\"\u001b[39;49m\u001b[43m:\u001b[49m\u001b[43m \u001b[49m\u001b[43m{\u001b[49m\n\u001b[1;32m      8\u001b[0m \u001b[43m                \u001b[49m\u001b[38;5;124;43m\"\u001b[39;49m\u001b[38;5;124;43mhtml_analyzer\u001b[39;49m\u001b[38;5;124;43m\"\u001b[39;49m\u001b[43m:\u001b[49m\u001b[43m \u001b[49m\u001b[43m{\u001b[49m\n\u001b[1;32m      9\u001b[0m \u001b[43m                    \u001b[49m\u001b[38;5;124;43m\"\u001b[39;49m\u001b[38;5;124;43mtype\u001b[39;49m\u001b[38;5;124;43m\"\u001b[39;49m\u001b[43m:\u001b[49m\u001b[43m \u001b[49m\u001b[38;5;124;43m\"\u001b[39;49m\u001b[38;5;124;43mcustom\u001b[39;49m\u001b[38;5;124;43m\"\u001b[39;49m\u001b[43m,\u001b[49m\n\u001b[1;32m     10\u001b[0m \u001b[43m                    \u001b[49m\u001b[38;5;124;43m\"\u001b[39;49m\u001b[38;5;124;43mtokenizer\u001b[39;49m\u001b[38;5;124;43m\"\u001b[39;49m\u001b[43m:\u001b[49m\u001b[43m \u001b[49m\u001b[38;5;124;43m\"\u001b[39;49m\u001b[38;5;124;43mstandard\u001b[39;49m\u001b[38;5;124;43m\"\u001b[39;49m\u001b[43m,\u001b[49m\n\u001b[1;32m     11\u001b[0m \u001b[43m                    \u001b[49m\u001b[38;5;124;43m\"\u001b[39;49m\u001b[38;5;124;43mchar_filter\u001b[39;49m\u001b[38;5;124;43m\"\u001b[39;49m\u001b[43m:\u001b[49m\u001b[43m \u001b[49m\u001b[43m[\u001b[49m\n\u001b[1;32m     12\u001b[0m \u001b[43m                        \u001b[49m\u001b[38;5;124;43m\"\u001b[39;49m\u001b[38;5;124;43mhtml_strip\u001b[39;49m\u001b[38;5;124;43m\"\u001b[39;49m\n\u001b[1;32m     13\u001b[0m \u001b[43m                    \u001b[49m\u001b[43m]\u001b[49m\n\u001b[1;32m     14\u001b[0m \u001b[43m                \u001b[49m\u001b[43m}\u001b[49m\n\u001b[1;32m     15\u001b[0m \u001b[43m            \u001b[49m\u001b[43m}\u001b[49m\n\u001b[1;32m     16\u001b[0m \u001b[43m        \u001b[49m\u001b[43m}\u001b[49m\n\u001b[1;32m     17\u001b[0m \u001b[43m    \u001b[49m\u001b[43m}\u001b[49m\u001b[43m,\u001b[49m\u001b[43m \u001b[49m\n\u001b[1;32m     18\u001b[0m \u001b[43m    \u001b[49m\u001b[38;5;124;43m'\u001b[39;49m\u001b[38;5;124;43mmappings\u001b[39;49m\u001b[38;5;124;43m'\u001b[39;49m\u001b[43m:\u001b[49m\u001b[43m{\u001b[49m\n\u001b[1;32m     19\u001b[0m \u001b[43m            \u001b[49m\u001b[38;5;124;43m\"\u001b[39;49m\u001b[38;5;124;43mproperties\u001b[39;49m\u001b[38;5;124;43m\"\u001b[39;49m\u001b[43m:\u001b[49m\u001b[43m \u001b[49m\u001b[43m{\u001b[49m\n\u001b[1;32m     20\u001b[0m \u001b[43m                \u001b[49m\u001b[38;5;124;43m\"\u001b[39;49m\u001b[38;5;124;43mBody\u001b[39;49m\u001b[38;5;124;43m\"\u001b[39;49m\u001b[43m:\u001b[49m\u001b[43m \u001b[49m\u001b[43m{\u001b[49m\n\u001b[1;32m     21\u001b[0m \u001b[43m                    \u001b[49m\u001b[38;5;124;43m\"\u001b[39;49m\u001b[38;5;124;43mtype\u001b[39;49m\u001b[38;5;124;43m\"\u001b[39;49m\u001b[43m:\u001b[49m\u001b[43m \u001b[49m\u001b[38;5;124;43m\"\u001b[39;49m\u001b[38;5;124;43mtext\u001b[39;49m\u001b[38;5;124;43m\"\u001b[39;49m\u001b[43m,\u001b[49m\n\u001b[1;32m     22\u001b[0m \u001b[43m                    \u001b[49m\u001b[38;5;124;43m\"\u001b[39;49m\u001b[38;5;124;43manalyzer\u001b[39;49m\u001b[38;5;124;43m\"\u001b[39;49m\u001b[43m:\u001b[49m\u001b[43m \u001b[49m\u001b[38;5;124;43m\"\u001b[39;49m\u001b[38;5;124;43mhtml_analyzer\u001b[39;49m\u001b[38;5;124;43m\"\u001b[39;49m\n\u001b[1;32m     23\u001b[0m \u001b[43m                \u001b[49m\u001b[43m}\u001b[49m\u001b[43m,\u001b[49m\n\u001b[1;32m     24\u001b[0m \u001b[43m                \u001b[49m\u001b[38;5;124;43m\"\u001b[39;49m\u001b[38;5;124;43mCommentCount\u001b[39;49m\u001b[38;5;124;43m\"\u001b[39;49m\u001b[43m:\u001b[49m\u001b[43m \u001b[49m\u001b[43m{\u001b[49m\n\u001b[1;32m     25\u001b[0m \u001b[43m                    \u001b[49m\u001b[38;5;124;43m\"\u001b[39;49m\u001b[38;5;124;43mtype\u001b[39;49m\u001b[38;5;124;43m\"\u001b[39;49m\u001b[43m:\u001b[49m\u001b[43m \u001b[49m\u001b[38;5;124;43m\"\u001b[39;49m\u001b[38;5;124;43minteger\u001b[39;49m\u001b[38;5;124;43m\"\u001b[39;49m\n\u001b[1;32m     26\u001b[0m \u001b[43m                \u001b[49m\u001b[43m}\u001b[49m\u001b[43m,\u001b[49m\n\u001b[1;32m     27\u001b[0m \u001b[43m                \u001b[49m\u001b[38;5;124;43m\"\u001b[39;49m\u001b[38;5;124;43mCreationDate\u001b[39;49m\u001b[38;5;124;43m\"\u001b[39;49m\u001b[43m:\u001b[49m\u001b[43m \u001b[49m\u001b[43m{\u001b[49m\n\u001b[1;32m     28\u001b[0m \u001b[43m                    \u001b[49m\u001b[38;5;124;43m\"\u001b[39;49m\u001b[38;5;124;43mtype\u001b[39;49m\u001b[38;5;124;43m\"\u001b[39;49m\u001b[43m:\u001b[49m\u001b[43m \u001b[49m\u001b[38;5;124;43m\"\u001b[39;49m\u001b[38;5;124;43mdate\u001b[39;49m\u001b[38;5;124;43m\"\u001b[39;49m\u001b[43m,\u001b[49m\n\u001b[1;32m     29\u001b[0m \u001b[43m                    \u001b[49m\u001b[38;5;124;43m\"\u001b[39;49m\u001b[38;5;124;43mformat\u001b[39;49m\u001b[38;5;124;43m\"\u001b[39;49m\u001b[43m:\u001b[49m\u001b[43m \u001b[49m\u001b[38;5;124;43m\"\u001b[39;49m\u001b[38;5;124;43myyyy-MM-dd HH:mm:ss.SSS\u001b[39;49m\u001b[38;5;124;43m\"\u001b[39;49m\n\u001b[1;32m     30\u001b[0m \u001b[43m                \u001b[49m\u001b[43m}\u001b[49m\n\u001b[1;32m     31\u001b[0m \u001b[43m            \u001b[49m\u001b[43m}\u001b[49m\n\u001b[1;32m     32\u001b[0m \u001b[43m        \u001b[49m\u001b[43m}\u001b[49m\n\u001b[1;32m     33\u001b[0m \u001b[43m    \u001b[49m\u001b[43m}\u001b[49m\n\u001b[1;32m     34\u001b[0m \u001b[43m)\u001b[49m\n",
      "File \u001b[0;32m/Library/Frameworks/Python.framework/Versions/3.10/lib/python3.10/site-packages/opensearchpy/client/utils.py:176\u001b[0m, in \u001b[0;36mquery_params.<locals>._wrapper.<locals>._wrapped\u001b[0;34m(*args, **kwargs)\u001b[0m\n\u001b[1;32m    173\u001b[0m         \u001b[38;5;28;01mif\u001b[39;00m v \u001b[38;5;129;01mis\u001b[39;00m \u001b[38;5;129;01mnot\u001b[39;00m \u001b[38;5;28;01mNone\u001b[39;00m:\n\u001b[1;32m    174\u001b[0m             params[p] \u001b[38;5;241m=\u001b[39m _escape(v)\n\u001b[0;32m--> 176\u001b[0m \u001b[38;5;28;01mreturn\u001b[39;00m \u001b[43mfunc\u001b[49m\u001b[43m(\u001b[49m\u001b[38;5;241;43m*\u001b[39;49m\u001b[43margs\u001b[49m\u001b[43m,\u001b[49m\u001b[43m \u001b[49m\u001b[43mparams\u001b[49m\u001b[38;5;241;43m=\u001b[39;49m\u001b[43mparams\u001b[49m\u001b[43m,\u001b[49m\u001b[43m \u001b[49m\u001b[43mheaders\u001b[49m\u001b[38;5;241;43m=\u001b[39;49m\u001b[43mheaders\u001b[49m\u001b[43m,\u001b[49m\u001b[43m \u001b[49m\u001b[38;5;241;43m*\u001b[39;49m\u001b[38;5;241;43m*\u001b[39;49m\u001b[43mkwargs\u001b[49m\u001b[43m)\u001b[49m\n",
      "File \u001b[0;32m/Library/Frameworks/Python.framework/Versions/3.10/lib/python3.10/site-packages/opensearchpy/client/indices.py:236\u001b[0m, in \u001b[0;36mIndicesClient.create\u001b[0;34m(self, index, body, params, headers)\u001b[0m\n\u001b[1;32m    233\u001b[0m \u001b[38;5;28;01mif\u001b[39;00m index \u001b[38;5;129;01min\u001b[39;00m SKIP_IN_PATH:\n\u001b[1;32m    234\u001b[0m     \u001b[38;5;28;01mraise\u001b[39;00m \u001b[38;5;167;01mValueError\u001b[39;00m(\u001b[38;5;124m\"\u001b[39m\u001b[38;5;124mEmpty value passed for a required argument \u001b[39m\u001b[38;5;124m'\u001b[39m\u001b[38;5;124mindex\u001b[39m\u001b[38;5;124m'\u001b[39m\u001b[38;5;124m.\u001b[39m\u001b[38;5;124m\"\u001b[39m)\n\u001b[0;32m--> 236\u001b[0m \u001b[38;5;28;01mreturn\u001b[39;00m \u001b[38;5;28;43mself\u001b[39;49m\u001b[38;5;241;43m.\u001b[39;49m\u001b[43mtransport\u001b[49m\u001b[38;5;241;43m.\u001b[39;49m\u001b[43mperform_request\u001b[49m\u001b[43m(\u001b[49m\n\u001b[1;32m    237\u001b[0m \u001b[43m    \u001b[49m\u001b[38;5;124;43m\"\u001b[39;49m\u001b[38;5;124;43mPUT\u001b[39;49m\u001b[38;5;124;43m\"\u001b[39;49m\u001b[43m,\u001b[49m\u001b[43m \u001b[49m\u001b[43m_make_path\u001b[49m\u001b[43m(\u001b[49m\u001b[43mindex\u001b[49m\u001b[43m)\u001b[49m\u001b[43m,\u001b[49m\u001b[43m \u001b[49m\u001b[43mparams\u001b[49m\u001b[38;5;241;43m=\u001b[39;49m\u001b[43mparams\u001b[49m\u001b[43m,\u001b[49m\u001b[43m \u001b[49m\u001b[43mheaders\u001b[49m\u001b[38;5;241;43m=\u001b[39;49m\u001b[43mheaders\u001b[49m\u001b[43m,\u001b[49m\u001b[43m \u001b[49m\u001b[43mbody\u001b[49m\u001b[38;5;241;43m=\u001b[39;49m\u001b[43mbody\u001b[49m\n\u001b[1;32m    238\u001b[0m \u001b[43m\u001b[49m\u001b[43m)\u001b[49m\n",
      "File \u001b[0;32m/Library/Frameworks/Python.framework/Versions/3.10/lib/python3.10/site-packages/opensearchpy/transport.py:455\u001b[0m, in \u001b[0;36mTransport.perform_request\u001b[0;34m(self, method, url, params, body, timeout, ignore, headers)\u001b[0m\n\u001b[1;32m    453\u001b[0m             \u001b[38;5;28;01mraise\u001b[39;00m e\n\u001b[1;32m    454\u001b[0m     \u001b[38;5;28;01melse\u001b[39;00m:\n\u001b[0;32m--> 455\u001b[0m         \u001b[38;5;28;01mraise\u001b[39;00m e\n\u001b[1;32m    457\u001b[0m \u001b[38;5;28;01melse\u001b[39;00m:\n\u001b[1;32m    458\u001b[0m     \u001b[38;5;66;03m# connection didn't fail, confirm its live status\u001b[39;00m\n\u001b[1;32m    459\u001b[0m     \u001b[38;5;28mself\u001b[39m\u001b[38;5;241m.\u001b[39mconnection_pool\u001b[38;5;241m.\u001b[39mmark_live(connection)\n",
      "File \u001b[0;32m/Library/Frameworks/Python.framework/Versions/3.10/lib/python3.10/site-packages/opensearchpy/transport.py:416\u001b[0m, in \u001b[0;36mTransport.perform_request\u001b[0;34m(self, method, url, params, body, timeout, ignore, headers)\u001b[0m\n\u001b[1;32m    413\u001b[0m connection \u001b[38;5;241m=\u001b[39m \u001b[38;5;28mself\u001b[39m\u001b[38;5;241m.\u001b[39mget_connection()\n\u001b[1;32m    415\u001b[0m \u001b[38;5;28;01mtry\u001b[39;00m:\n\u001b[0;32m--> 416\u001b[0m     status, headers_response, data \u001b[38;5;241m=\u001b[39m \u001b[43mconnection\u001b[49m\u001b[38;5;241;43m.\u001b[39;49m\u001b[43mperform_request\u001b[49m\u001b[43m(\u001b[49m\n\u001b[1;32m    417\u001b[0m \u001b[43m        \u001b[49m\u001b[43mmethod\u001b[49m\u001b[43m,\u001b[49m\n\u001b[1;32m    418\u001b[0m \u001b[43m        \u001b[49m\u001b[43murl\u001b[49m\u001b[43m,\u001b[49m\n\u001b[1;32m    419\u001b[0m \u001b[43m        \u001b[49m\u001b[43mparams\u001b[49m\u001b[43m,\u001b[49m\n\u001b[1;32m    420\u001b[0m \u001b[43m        \u001b[49m\u001b[43mbody\u001b[49m\u001b[43m,\u001b[49m\n\u001b[1;32m    421\u001b[0m \u001b[43m        \u001b[49m\u001b[43mheaders\u001b[49m\u001b[38;5;241;43m=\u001b[39;49m\u001b[43mheaders\u001b[49m\u001b[43m,\u001b[49m\n\u001b[1;32m    422\u001b[0m \u001b[43m        \u001b[49m\u001b[43mignore\u001b[49m\u001b[38;5;241;43m=\u001b[39;49m\u001b[43mignore\u001b[49m\u001b[43m,\u001b[49m\n\u001b[1;32m    423\u001b[0m \u001b[43m        \u001b[49m\u001b[43mtimeout\u001b[49m\u001b[38;5;241;43m=\u001b[39;49m\u001b[43mtimeout\u001b[49m\u001b[43m,\u001b[49m\n\u001b[1;32m    424\u001b[0m \u001b[43m    \u001b[49m\u001b[43m)\u001b[49m\n\u001b[1;32m    426\u001b[0m     \u001b[38;5;66;03m# Lowercase all the header names for consistency in accessing them.\u001b[39;00m\n\u001b[1;32m    427\u001b[0m     headers_response \u001b[38;5;241m=\u001b[39m {\n\u001b[1;32m    428\u001b[0m         header\u001b[38;5;241m.\u001b[39mlower(): value \u001b[38;5;28;01mfor\u001b[39;00m header, value \u001b[38;5;129;01min\u001b[39;00m headers_response\u001b[38;5;241m.\u001b[39mitems()\n\u001b[1;32m    429\u001b[0m     }\n",
      "File \u001b[0;32m/Library/Frameworks/Python.framework/Versions/3.10/lib/python3.10/site-packages/opensearchpy/connection/http_urllib3.py:308\u001b[0m, in \u001b[0;36mUrllib3HttpConnection.perform_request\u001b[0;34m(self, method, url, params, body, timeout, ignore, headers)\u001b[0m\n\u001b[1;32m    304\u001b[0m \u001b[38;5;28;01mif\u001b[39;00m \u001b[38;5;129;01mnot\u001b[39;00m (\u001b[38;5;241m200\u001b[39m \u001b[38;5;241m<\u001b[39m\u001b[38;5;241m=\u001b[39m response\u001b[38;5;241m.\u001b[39mstatus \u001b[38;5;241m<\u001b[39m \u001b[38;5;241m300\u001b[39m) \u001b[38;5;129;01mand\u001b[39;00m response\u001b[38;5;241m.\u001b[39mstatus \u001b[38;5;129;01mnot\u001b[39;00m \u001b[38;5;129;01min\u001b[39;00m ignore:\n\u001b[1;32m    305\u001b[0m     \u001b[38;5;28mself\u001b[39m\u001b[38;5;241m.\u001b[39mlog_request_fail(\n\u001b[1;32m    306\u001b[0m         method, full_url, url, orig_body, duration, response\u001b[38;5;241m.\u001b[39mstatus, raw_data\n\u001b[1;32m    307\u001b[0m     )\n\u001b[0;32m--> 308\u001b[0m     \u001b[38;5;28;43mself\u001b[39;49m\u001b[38;5;241;43m.\u001b[39;49m\u001b[43m_raise_error\u001b[49m\u001b[43m(\u001b[49m\n\u001b[1;32m    309\u001b[0m \u001b[43m        \u001b[49m\u001b[43mresponse\u001b[49m\u001b[38;5;241;43m.\u001b[39;49m\u001b[43mstatus\u001b[49m\u001b[43m,\u001b[49m\n\u001b[1;32m    310\u001b[0m \u001b[43m        \u001b[49m\u001b[43mraw_data\u001b[49m\u001b[43m,\u001b[49m\n\u001b[1;32m    311\u001b[0m \u001b[43m        \u001b[49m\u001b[38;5;28;43mself\u001b[39;49m\u001b[38;5;241;43m.\u001b[39;49m\u001b[43mget_response_headers\u001b[49m\u001b[43m(\u001b[49m\u001b[43mresponse\u001b[49m\u001b[43m)\u001b[49m\u001b[38;5;241;43m.\u001b[39;49m\u001b[43mget\u001b[49m\u001b[43m(\u001b[49m\u001b[38;5;124;43m\"\u001b[39;49m\u001b[38;5;124;43mcontent-type\u001b[39;49m\u001b[38;5;124;43m\"\u001b[39;49m\u001b[43m)\u001b[49m\u001b[43m,\u001b[49m\n\u001b[1;32m    312\u001b[0m \u001b[43m    \u001b[49m\u001b[43m)\u001b[49m\n\u001b[1;32m    314\u001b[0m \u001b[38;5;28mself\u001b[39m\u001b[38;5;241m.\u001b[39mlog_request_success(\n\u001b[1;32m    315\u001b[0m     method, full_url, url, orig_body, response\u001b[38;5;241m.\u001b[39mstatus, raw_data, duration\n\u001b[1;32m    316\u001b[0m )\n\u001b[1;32m    318\u001b[0m \u001b[38;5;28;01mreturn\u001b[39;00m response\u001b[38;5;241m.\u001b[39mstatus, response\u001b[38;5;241m.\u001b[39mheaders, raw_data\n",
      "File \u001b[0;32m/Library/Frameworks/Python.framework/Versions/3.10/lib/python3.10/site-packages/opensearchpy/connection/base.py:315\u001b[0m, in \u001b[0;36mConnection._raise_error\u001b[0;34m(self, status_code, raw_data, content_type)\u001b[0m\n\u001b[1;32m    312\u001b[0m \u001b[38;5;28;01mexcept\u001b[39;00m (\u001b[38;5;167;01mValueError\u001b[39;00m, \u001b[38;5;167;01mTypeError\u001b[39;00m) \u001b[38;5;28;01mas\u001b[39;00m err:\n\u001b[1;32m    313\u001b[0m     logger\u001b[38;5;241m.\u001b[39mwarning(\u001b[38;5;124m\"\u001b[39m\u001b[38;5;124mUndecodable raw error response from server: \u001b[39m\u001b[38;5;132;01m%s\u001b[39;00m\u001b[38;5;124m\"\u001b[39m, err)\n\u001b[0;32m--> 315\u001b[0m \u001b[38;5;28;01mraise\u001b[39;00m HTTP_EXCEPTIONS\u001b[38;5;241m.\u001b[39mget(status_code, TransportError)(\n\u001b[1;32m    316\u001b[0m     status_code, error_message, additional_info\n\u001b[1;32m    317\u001b[0m )\n",
      "\u001b[0;31mRequestError\u001b[0m: RequestError(400, 'resource_already_exists_exception', 'index [html_posts/86uIO-wmRyiqUGrLuBj32A] already exists')"
     ]
    }
   ],
   "source": [
    "\n",
    "client.indices.create(\n",
    "    index='html_posts',\n",
    "    body = \n",
    "    {\n",
    "    'settings':{\n",
    "        \"analysis\": {\n",
    "            \"analyzer\": {\n",
    "                \"html_analyzer\": {\n",
    "                    \"type\": \"custom\",\n",
    "                    \"tokenizer\": \"standard\",\n",
    "                    \"char_filter\": [\n",
    "                        \"html_strip\"\n",
    "                    ]\n",
    "                }\n",
    "            }\n",
    "        }\n",
    "    }, \n",
    "    'mappings':{\n",
    "            \"properties\": {\n",
    "                \"Body\": {\n",
    "                    \"type\": \"text\",\n",
    "                    \"analyzer\": \"html_analyzer\"\n",
    "                },\n",
    "                \"CommentCount\": {\n",
    "                    \"type\": \"integer\"\n",
    "                },\n",
    "                \"CreationDate\": {\n",
    "                    \"type\": \"date\",\n",
    "                    \"format\": \"yyyy-MM-dd HH:mm:ss.SSS\"\n",
    "                }\n",
    "            }\n",
    "        }\n",
    "    }\n",
    ")\n"
   ]
  },
  {
   "cell_type": "code",
   "execution_count": 51,
   "metadata": {},
   "outputs": [],
   "source": [
    "def generator(json_chunk):\n",
    "    for line in json_chunk:\n",
    "        yield {\n",
    "            \"_index\": \"html_posts\",\n",
    "            \"_id\": line.get('Id'),\n",
    "            \"_source\": {\n",
    "                \"Body\": line.get(\"Body\",\"\"),\n",
    "                \"CommentCount\": line.get(\"CommentCount\",\"\"),\n",
    "                \"CreationDate\": line.get(\"CreationDate\",\"\")\n",
    "            }\n",
    "        }\n",
    "\n",
    "\n",
    "def from_chunk_to_client(chunk):\n",
    "    json_chunk = chunk.to_dict(\"records\")\n",
    "    return generator(json_chunk)"
   ]
  },
  {
   "cell_type": "code",
   "execution_count": 52,
   "metadata": {},
   "outputs": [
    {
     "name": "stderr",
     "output_type": "stream",
     "text": [
      "0it [00:00, ?it/s]"
     ]
    },
    {
     "name": "stderr",
     "output_type": "stream",
     "text": [
      "1566it [06:04,  4.29it/s]\n"
     ]
    }
   ],
   "source": [
    "\n",
    "columns = ['Id', 'Body', 'CommentCount', \"CreationDate\"]\n",
    "for chunk in tqdm(pd.read_csv('/Users/nicolamambelli/Desktop/docker_opensearc/Posts.csv', chunksize=1000)):\n",
    "    gen = from_chunk_to_client(chunk[columns])\n",
    "    res = helpers.bulk(client, gen)"
   ]
  },
  {
   "cell_type": "code",
   "execution_count": null,
   "metadata": {},
   "outputs": [
    {
     "name": "stdout",
     "output_type": "stream",
     "text": [
      "{'took': 88,\n",
      " 'timed_out': False,\n",
      " '_shards': {'total': 1, 'successful': 1, 'skipped': 0, 'failed': 0},\n",
      " 'hits': {'total': {'value': 10000, 'relation': 'gte'},\n",
      "          'max_score': 5.2732773,\n",
      "          'hits': [{'_index': 'html_posts',\n",
      "                    '_id': '1859507',\n",
      "                    '_score': 5.2732773,\n",
      "                    '_source': {'Body': '<p>I want to display a number in a '\n",
      "                                        'report, however I only want to show '\n",
      "                                        'any decimal points if they are '\n",
      "                                        'present and the I only want to show 1 '\n",
      "                                        'decimal space.</p>\\n'\n",
      "                                        '\\n'\n",
      "                                        '<p>e.g. if the number is 12 then I '\n",
      "                                        'want to show 12</p>\\n'\n",
      "                                        '\\n'\n",
      "                                        '<p>If the number is 12.1 then I want '\n",
      "                                        'to show 12.1</p>\\n'\n",
      "                                        '\\n'\n",
      "                                        '<p>If the number is 12.11 then I want '\n",
      "                                        'to show 12.1</p>\\n',\n",
      "                                'CommentCount': 0,\n",
      "                                'CreationDate': '2009-12-07 11:46:03.600'}},\n",
      "                   {'_index': 'html_posts',\n",
      "                    '_id': '395230',\n",
      "                    '_score': 5.234427,\n",
      "                    '_source': {'Body': '<p>I want to have a datepicker where '\n",
      "                                        'you can also just type basically I '\n",
      "                                        'want to have the jQuery UI Datepicker '\n",
      "                                        'and datejs in one. I want to type '\n",
      "                                        '\"tomorrow\" and I want it to select '\n",
      "                                        'the right day. I want to be able to '\n",
      "                                        'type \"saturday\" and it actually '\n",
      "                                        'getting the date right.</p>\\n',\n",
      "                                'CommentCount': 0,\n",
      "                                'CreationDate': '2008-12-27 18:10:56.930'}},\n",
      "                   {'_index': 'html_posts',\n",
      "                    '_id': '1174947',\n",
      "                    '_score': 5.201653,\n",
      "                    '_source': {'Body': '<p>For example,</p>\\n'\n",
      "                                        '\\n'\n",
      "                                        '<ol>\\n'\n",
      "                                        \"<li>I don't want to use \"\n",
      "                                        '<code>org.testng.v6.Maps</code>, (I '\n",
      "                                        'want '\n",
      "                                        '<code>com.google.common.collect.Maps</code>)</li>\\n'\n",
      "                                        \"<li>I don't want to use \"\n",
      "                                        '<code>org.hibernate.mapping.List</code>, '\n",
      "                                        '(I want <code>java.util.List</code> '\n",
      "                                        'like everyone else!)</li>\\n'\n",
      "                                        '</ol>\\n'\n",
      "                                        '\\n'\n",
      "                                        '<p>Is there a way to tell Eclipse not '\n",
      "                                        'to suggest these in the autocomplete '\n",
      "                                        'box?</p>\\n',\n",
      "                                'CommentCount': 0,\n",
      "                                'CreationDate': '2009-07-23 22:53:56.887'}},\n",
      "                   {'_index': 'html_posts',\n",
      "                    '_id': '1187970',\n",
      "                    '_score': 5.1942997,\n",
      "                    '_source': {'Body': '<p>I would like to know how to I exit '\n",
      "                                        'from Python without having an '\n",
      "                                        'traceback dump on the output. </p>\\n'\n",
      "                                        '\\n'\n",
      "                                        '<p>I still want want to be able to '\n",
      "                                        'return an error code but I do not '\n",
      "                                        'want to display the traceback '\n",
      "                                        'log.</p>\\n'\n",
      "                                        '\\n'\n",
      "                                        '<p>I want to be able to exit using '\n",
      "                                        '<code>exit(number)</code> without '\n",
      "                                        'trace but in case of an Exception '\n",
      "                                        '(not an exit) I want the trace.</p>\\n',\n",
      "                                'CommentCount': 5,\n",
      "                                'CreationDate': '2009-07-27 12:44:15.817'}},\n",
      "                   {'_index': 'html_posts',\n",
      "                    '_id': '1083527',\n",
      "                    '_score': 5.1540604,\n",
      "                    '_source': {'Body': '<p>I want to block calls from few '\n",
      "                                        'numbers, for that I want to write a '\n",
      "                                        'app of my own.\\n'\n",
      "                                        'So what are the APIs which I should '\n",
      "                                        'be using?</p>\\n'\n",
      "                                        '\\n'\n",
      "                                        '<p>Basically I want to get notified '\n",
      "                                        'when a call comes, i want to compare '\n",
      "                                        'numbers if it is what i want to '\n",
      "                                        'block, i want to cut the call or mute '\n",
      "                                        'it or if possible mute it and record '\n",
      "                                        'it.</p>\\n',\n",
      "                                'CommentCount': 4,\n",
      "                                'CreationDate': '2009-07-05 05:52:06.420'}},\n",
      "                   {'_index': 'html_posts',\n",
      "                    '_id': '1185225',\n",
      "                    '_score': 5.152227,\n",
      "                    '_source': {'Body': '<p>I have a document containing ahref '\n",
      "                                        'links I want to extract. The link I '\n",
      "                                        'want can be identified by part of  '\n",
      "                                        'the url they link to. There are other '\n",
      "                                        'links that are similar which I want '\n",
      "                                        'to discard.</p>\\n'\n",
      "                                        '\\n'\n",
      "                                        '<p>The urls  of the links I want are '\n",
      "                                        'of the format</p>\\n'\n",
      "                                        '\\n'\n",
      "                                        '<p><a '\n",
      "                                        'href=\"http://www.xxxxxxxxxxxxxxxxxxx.com/index.php?showtopic=44&amp;hl=\" '\n",
      "                                        'rel=\"nofollow '\n",
      "                                        'noreferrer\">http://www.xxxxxxxxxxxxxxxxxxx.com/index.php?showtopic=44&amp;hl=</a></p>\\n'\n",
      "                                        '\\n'\n",
      "                                        '<p>I want to search for links '\n",
      "                                        'containing  the h1=. Is this '\n",
      "                                        'possible?</p>\\n',\n",
      "                                'CommentCount': 0,\n",
      "                                'CreationDate': '2009-07-26 18:37:31.260'}},\n",
      "                   {'_index': 'html_posts',\n",
      "                    '_id': '987260',\n",
      "                    '_score': 5.114509,\n",
      "                    '_source': {'Body': '<p>I want to have a particular CSS '\n",
      "                                        'style different for IE6. Basically I '\n",
      "                                        'am using CSS sprites with a PNG file. '\n",
      "                                        'But for IE6 I want to use the .gif '\n",
      "                                        'version.</p>\\n'\n",
      "                                        '\\n'\n",
      "                                        '<p>I dont want to use the '\n",
      "                                        '<code>&lt;!-- if lte IE6</code> '\n",
      "                                        'statement. I want to include it '\n",
      "                                        'within my CSS file itself.</p>\\n'\n",
      "                                        '\\n'\n",
      "                                        '<p>How do I do that?</p>\\n'\n",
      "                                        '\\n'\n",
      "                                        '<hr>\\n'\n",
      "                                        '\\n'\n",
      "                                        '<h3>Edit:</h3>\\n'\n",
      "                                        '\\n'\n",
      "                                        '<p>I need this because I want my '\n",
      "                                        'users to include a single CSS file '\n",
      "                                        'and not 4 lines of code. My users are '\n",
      "                                        \"absolute newbies. I don't want to \"\n",
      "                                        'confuse them. Plus the only change I '\n",
      "                                        'want is to use .gif instead of the '\n",
      "                                        'current .png.</p>\\n'\n",
      "                                        '\\n'\n",
      "                                        '<hr>\\n'\n",
      "                                        '\\n'\n",
      "                                        '<h3>Edit:</h3>\\n'\n",
      "                                        '\\n'\n",
      "                                        '<p>How does '\n",
      "                                        '<code>_background-image:</code> '\n",
      "                                        'sound? Is there anything wrong with '\n",
      "                                        'that?<br>\\n'\n",
      "                                        'Alternatively, can I use a '\n",
      "                                        'conditional statement inside a CSS '\n",
      "                                        'file? </p>\\n',\n",
      "                                'CommentCount': 9,\n",
      "                                'CreationDate': '2009-06-12 15:23:18.050'}},\n",
      "                   {'_index': 'html_posts',\n",
      "                    '_id': '1965441',\n",
      "                    '_score': 5.1110716,\n",
      "                    '_source': {'Body': '<p>I know that I can use Query '\n",
      "                                        'language to find the record I want. I '\n",
      "                                        'am doing a login page, I want to find '\n",
      "                                        'the record which match the user name '\n",
      "                                        \"and password, but I don't want to \"\n",
      "                                        'loop all the elements to find out the '\n",
      "                                        'user I want (&lt;% @users.each do '\n",
      "                                        '|user| %>), wt should I do in RoR, '\n",
      "                                        'except typing SQL.</p>\\n',\n",
      "                                'CommentCount': 0,\n",
      "                                'CreationDate': '2009-12-27 07:31:49.947'}},\n",
      "                   {'_index': 'html_posts',\n",
      "                    '_id': '1157167',\n",
      "                    '_score': 5.1031427,\n",
      "                    '_source': {'Body': '<p>I want set a line of text link in '\n",
      "                                        'rich text box of vb.net. Like for '\n",
      "                                        'example: I want to know you</p>\\n'\n",
      "                                        '\\n'\n",
      "                                        '<p>The word want, I want to set a '\n",
      "                                        'link word.</p>\\n'\n",
      "                                        '\\n'\n",
      "                                        '<p>Can I do that? If can, please help '\n",
      "                                        'me!</p>\\n'\n",
      "                                        '\\n'\n",
      "                                        '<p>Thanks,\\n'\n",
      "                                        'Sopolin</p>\\n',\n",
      "                                'CommentCount': 1,\n",
      "                                'CreationDate': '2009-07-21 03:30:58.483'}},\n",
      "                   {'_index': 'html_posts',\n",
      "                    '_id': '957821',\n",
      "                    '_score': 5.1009626,\n",
      "                    '_source': {'Body': '<p>I am using <code>UITextView</code> '\n",
      "                                        'to edit text. I want to use two '\n",
      "                                        '<code>UIButtons</code> Edit and Save. '\n",
      "                                        'Initially I want to show edit '\n",
      "                                        '<code>UIButton</code>, when the user '\n",
      "                                        'click on edit I want to show save '\n",
      "                                        '<code>UIButton</code>. when the '\n",
      "                                        'content successfully saved I dont '\n",
      "                                        'want to show save button any '\n",
      "                                        'more.</p>\\n'\n",
      "                                        '\\n'\n",
      "                                        '<p>I am a c# coder, in c# I used to '\n",
      "                                        'do like this </p>\\n'\n",
      "                                        '\\n'\n",
      "                                        '<pre><code>C# code\\n'\n",
      "                                        'btnedit.visible=true;\\n'\n",
      "                                        '</code></pre>\\n'\n",
      "                                        '\\n'\n",
      "                                        '<p>Now I want to know how to make a '\n",
      "                                        'button visible and not visible from '\n",
      "                                        'objective c code.</p>\\n'\n",
      "                                        '\\n'\n",
      "                                        '<p>Thanks,</p>\\n',\n",
      "                                'CommentCount': 0,\n",
      "                                'CreationDate': '2009-06-05 19:52:55.603'}}]}}\n",
      "{'took': 4,\n",
      " 'timed_out': False,\n",
      " '_shards': {'total': 1, 'successful': 1, 'skipped': 0, 'failed': 0},\n",
      " 'hits': {'total': {'value': 0, 'relation': 'eq'},\n",
      "          'max_score': None,\n",
      "          'hits': []}}\n"
     ]
    }
   ],
   "source": [
    "resp = client.search(\n",
    "    index='html_posts',\n",
    "    body={ \n",
    "        \"query\": {\n",
    "            \"match\": {\n",
    "                \"Body\": \"I want to\"  \n",
    "            }\n",
    "        }\n",
    "    }\n",
    ")\n",
    "\n",
    "pp(resp)"
   ]
  },
  {
   "cell_type": "code",
   "execution_count": null,
   "metadata": {},
   "outputs": [
    {
     "name": "stdout",
     "output_type": "stream",
     "text": [
      "{'took': 7,\n",
      " 'timed_out': False,\n",
      " '_shards': {'total': 1, 'successful': 1, 'skipped': 0, 'failed': 0},\n",
      " 'hits': {'total': {'value': 0, 'relation': 'eq'},\n",
      "          'max_score': None,\n",
      "          'hits': []}}\n"
     ]
    }
   ],
   "source": [
    "resp = client.search(\n",
    "    index='html_posts',\n",
    "    body={ \n",
    "        \"query\": {\n",
    "            \"match\": {\n",
    "                \"Body\": \"<p>\"  \n",
    "            }\n",
    "        }\n",
    "    }\n",
    ")\n",
    "pp(resp)"
   ]
  }
 ],
 "metadata": {
  "kernelspec": {
   "display_name": "venv",
   "language": "python",
   "name": "python3"
  },
  "language_info": {
   "codemirror_mode": {
    "name": "ipython",
    "version": 3
   },
   "file_extension": ".py",
   "mimetype": "text/x-python",
   "name": "python",
   "nbconvert_exporter": "python",
   "pygments_lexer": "ipython3",
   "version": "3.13.0"
  }
 },
 "nbformat": 4,
 "nbformat_minor": 2
}

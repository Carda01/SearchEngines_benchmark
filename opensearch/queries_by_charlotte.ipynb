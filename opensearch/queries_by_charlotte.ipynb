{
 "cells": [
  {
   "cell_type": "markdown",
   "metadata": {},
   "source": [
    "# Transalating queries"
   ]
  },
  {
   "cell_type": "code",
   "execution_count": 1,
   "metadata": {},
   "outputs": [
    {
     "name": "stdout",
     "output_type": "stream",
     "text": [
      "c:\\ulb\\SearchEngines_benchmark\n"
     ]
    },
    {
     "name": "stderr",
     "output_type": "stream",
     "text": [
      "c:\\ulb\\SearchEngines_benchmark\\venv\\Lib\\site-packages\\IPython\\core\\magics\\osm.py:417: UserWarning: This is now an optional IPython functionality, setting dhist requires you to install the `pickleshare` library.\n",
      "  self.shell.db['dhist'] = compress_dhist(dhist)[-100:]\n"
     ]
    }
   ],
   "source": [
    "%cd ..\n",
    "from opensearchpy import OpenSearch, helpers\n",
    "import pandas as pd\n",
    "from pprint import pp\n",
    "from dotenv import load_dotenv\n",
    "from tqdm import tqdm\n",
    "import os\n",
    "def ppr(resp):\n",
    "    pp(resp.raw)\n",
    "import time"
   ]
  },
  {
   "cell_type": "markdown",
   "metadata": {},
   "source": [
    "### Connecting to database"
   ]
  },
  {
   "cell_type": "code",
   "execution_count": 2,
   "metadata": {},
   "outputs": [
    {
     "name": "stdout",
     "output_type": "stream",
     "text": [
      "Password caricata con successo.\n"
     ]
    }
   ],
   "source": [
    "load_dotenv()\n",
    "\n",
    "# Recupera la variabile della password dall'ambiente\n",
    "OPENSEARCH_INITIAL_ADMIN_PASSWORD = os.getenv(\"OPENSEARCH_INITIAL_ADMIN_PASSWORD\")\n",
    "OPENSEARCH_URL = os.getenv(\"OPENSEARCH_URL\")  # Ad esempio http://localhost:9200\n",
    "\n",
    "# Verifica che la password sia stata caricata correttamente\n",
    "if OPENSEARCH_INITIAL_ADMIN_PASSWORD:\n",
    "    print(\"Password caricata con successo.\")\n",
    "else:\n",
    "    print(\"Errore nel caricare la password.\")"
   ]
  },
  {
   "cell_type": "code",
   "execution_count": 3,
   "metadata": {},
   "outputs": [
    {
     "name": "stdout",
     "output_type": "stream",
     "text": [
      "Conection to OpenSearch succeded!\n"
     ]
    }
   ],
   "source": [
    "client = OpenSearch(\n",
    "    hosts=[OPENSEARCH_URL],\n",
    "    http_auth=(\"admin\", OPENSEARCH_INITIAL_ADMIN_PASSWORD),\n",
    "    use_ssl=False,\n",
    "    verify_certs=False,\n",
    "    ssl_assert_hostname=False,\n",
    "    ssl_show_warn=False\n",
    ")\n",
    "try:\n",
    "    info = client.info()\n",
    "    print(\"Conection to OpenSearch succeded!\")\n",
    "except Exception as e:\n",
    "    print(f\"Error when connecting: {e}\")"
   ]
  },
  {
   "cell_type": "markdown",
   "metadata": {},
   "source": [
    "## Example queries"
   ]
  },
  {
   "cell_type": "markdown",
   "metadata": {},
   "source": [
    "Query that counts how many times are mentioned this programming languages on the posts (Sql, python, R, Java, JavaScript, C++, Ruby, PHP)"
   ]
  },
  {
   "cell_type": "markdown",
   "metadata": {},
   "source": [
    "### Post data\n",
    "\n",
    "The query translated is the following:\n",
    "```\n",
    "SELECT \n",
    "    CASE\n",
    "        WHEN Body LIKE '%sql%' THEN 'SQL'\n",
    "        WHEN Body LIKE '%python%' THEN 'Python'\n",
    "        WHEN Body LIKE '% R %' THEN 'R'\n",
    "        WHEN Body LIKE '%java%' THEN 'Java'\n",
    "        WHEN Body LIKE '%javascript%' THEN 'JavaScript'\n",
    "        WHEN Body LIKE '%c++%' THEN 'C++'\n",
    "        WHEN Body LIKE '%ruby%' THEN 'Ruby'\n",
    "        WHEN Body LIKE '%php%' THEN 'PHP'\n",
    "        ELSE 'Other'\n",
    "    END AS Programming_Language,\n",
    "    COUNT(*) AS Post_Count\n",
    "FROM \n",
    "    posts\n",
    "WHERE \n",
    "    Body LIKE '%sql%' \n",
    "    OR Body LIKE '%python%' \n",
    "    OR Body LIKE '% R %'\n",
    "    OR Body LIKE '%java%' \n",
    "    OR Body LIKE '%javascript%' \n",
    "    OR Body LIKE '%c++%' \n",
    "    OR Body LIKE '%ruby%' \n",
    "    OR Body LIKE '%php%' \n",
    "GROUP BY \n",
    "    CASE\n",
    "        WHEN Body LIKE '%sql%' THEN 'SQL'\n",
    "        WHEN Body LIKE '%python%' THEN 'Python'\n",
    "        WHEN Body LIKE '% R %' THEN 'R'\n",
    "        WHEN Body LIKE '%java%' THEN 'Java'\n",
    "        WHEN Body LIKE '%javascript%' THEN 'JavaScript'\n",
    "        WHEN Body LIKE '%c++%' THEN 'C++'\n",
    "        WHEN Body LIKE '%ruby%' THEN 'Ruby'\n",
    "        WHEN Body LIKE '%php%' THEN 'PHP'\n",
    "        ELSE 'Other'\n",
    "    END\n",
    "ORDER BY\n",
    "    Post_Count;\n",
    "```"
   ]
  },
  {
   "cell_type": "code",
   "execution_count": 5,
   "metadata": {},
   "outputs": [],
   "source": [
    "# Measure execution time\n",
    "start_time = time.time()\n",
    "# Query that counts how many times are mentioned this programming languages on the posts (Sql, python, R, Java, JavaScript, C++, Ruby, PHP)\n",
    "query1 = client.search(\n",
    "    index='posts_analyzed_v2',\n",
    "    body={\n",
    "        \"size\": 0,  # We're aggregating, not fetching individual documents\n",
    "        \"query\": {\n",
    "            \"bool\": {\n",
    "                \"should\": [\n",
    "                    {\"match_phrase\": {\"Body\": \"sql\"}},\n",
    "                    {\"match_phrase\": {\"Body\": \"python\"}},\n",
    "                    {\"match_phrase\": {\"Body\": \" R \"}},\n",
    "                    {\"match_phrase\": {\"Body\": \"java\"}},\n",
    "                    {\"match_phrase\": {\"Body\": \"javascript\"}},\n",
    "                    {\"match_phrase\": {\"Body\": \"c++\"}},\n",
    "                    {\"match_phrase\": {\"Body\": \"ruby\"}},\n",
    "                    {\"match_phrase\": {\"Body\": \"php\"}}\n",
    "                ]\n",
    "            }\n",
    "        },\n",
    "        \"aggs\": {\n",
    "            \"Programming_Language\": {\n",
    "                \"filters\": {\n",
    "                    \"filters\": {\n",
    "                        \"SQL\": {\"match_phrase\": {\"Body\": \"sql\"}},\n",
    "                        \"Python\": {\"match_phrase\": {\"Body\": \"python\"}},\n",
    "                        \"R\": {\"match_phrase\": {\"Body\": \" R \"}},\n",
    "                        \"Java\": {\"match_phrase\": {\"Body\": \"java\"}},\n",
    "                        \"JavaScript\": {\"match_phrase\": {\"Body\": \"javascript\"}},\n",
    "                        \"C++\": {\"match_phrase\": {\"Body\": \"c++\"}},\n",
    "                        \"Ruby\": {\"match_phrase\": {\"Body\": \"ruby\"}},\n",
    "                        \"PHP\": {\"match_phrase\": {\"Body\": \"php\"}}\n",
    "                    }\n",
    "                }\n",
    "            }\n",
    "        }\n",
    "    }\n",
    ")\n",
    "execution_time = time.time() - start_time"
   ]
  },
  {
   "cell_type": "markdown",
   "metadata": {},
   "source": [
    "### Comments data\n",
    "The query transalated is:\n",
    "```\n",
    "SELECT \n",
    "    CASE\n",
    "        WHEN Text LIKE '%sql%' THEN 'SQL'\n",
    "        WHEN Text LIKE '%python%' THEN 'Python'\n",
    "        WHEN Text LIKE '% R %' THEN 'R'\n",
    "        WHEN Text LIKE '%java%' THEN 'Java'\n",
    "        WHEN Text LIKE '%javascript%' THEN 'JavaScript'\n",
    "        WHEN Text LIKE '%c++%' THEN 'C++'\n",
    "        WHEN Text LIKE '%ruby%' THEN 'Ruby'\n",
    "        WHEN Text LIKE '%php%' THEN 'PHP'\n",
    "        ELSE 'Other'\n",
    "    END AS Programming_Language,\n",
    "    COUNT(*) AS Post_Count\n",
    "FROM \n",
    "    comments\n",
    "WHERE \n",
    "    Text LIKE '%sql%' \n",
    "    OR Text LIKE '%python%' \n",
    "    OR Text LIKE '% R %'\n",
    "    OR Text LIKE '%java%' \n",
    "    OR Text LIKE '%javascript%' \n",
    "    OR Text LIKE '%c++%' \n",
    "    OR Text LIKE '%ruby%' \n",
    "    OR Text LIKE '%php%' \n",
    "GROUP BY \n",
    "    CASE\n",
    "        WHEN Text LIKE '%sql%' THEN 'SQL'\n",
    "        WHEN Text LIKE '%python%' THEN 'Python'\n",
    "        WHEN Text LIKE '% R %' THEN 'R'\n",
    "        WHEN Text LIKE '%java%' THEN 'Java'\n",
    "        WHEN Text LIKE '%javascript%' THEN 'JavaScript'\n",
    "        WHEN Text LIKE '%c++%' THEN 'C++'\n",
    "        WHEN Text LIKE '%ruby%' THEN 'Ruby'\n",
    "        WHEN Text LIKE '%php%' THEN 'PHP'\n",
    "        ELSE 'Other'\n",
    "    END;\n",
    "```"
   ]
  },
  {
   "cell_type": "code",
   "execution_count": 6,
   "metadata": {},
   "outputs": [],
   "source": [
    "\n",
    "# Measure execution time\n",
    "start_time = time.time()\n",
    "# Query that counts how many times are mentioned this programming languages on the posts (Sql, python, R, Java, JavaScript, C++, Ruby, PHP)\n",
    "query1 = client.search(\n",
    "    index='comments',\n",
    "    body={\n",
    "        \"size\": 0,  # We're aggregating, not fetching individual documents\n",
    "        \"query\": {\n",
    "            \"bool\": {\n",
    "                \"should\": [\n",
    "                    {\"match_phrase\": {\"Text\": \"sql\"}},\n",
    "                    {\"match_phrase\": {\"Text\": \"python\"}},\n",
    "                    {\"match_phrase\": {\"Text\": \" R \"}},\n",
    "                    {\"match_phrase\": {\"Text\": \"java\"}},\n",
    "                    {\"match_phrase\": {\"Text\": \"javascript\"}},\n",
    "                    {\"match_phrase\": {\"Text\": \"c++\"}},\n",
    "                    {\"match_phrase\": {\"Text\": \"ruby\"}},\n",
    "                    {\"match_phrase\": {\"Text\": \"php\"}}\n",
    "                ]\n",
    "            }\n",
    "        },\n",
    "        \"aggs\": {\n",
    "            \"Programming_Language\": {\n",
    "                \"filters\": {\n",
    "                    \"filters\": {\n",
    "                        \"SQL\": {\"match_phrase\": {\"Text\": \"sql\"}},\n",
    "                        \"Python\": {\"match_phrase\": {\"Text\": \"python\"}},\n",
    "                        \"R\": {\"match_phrase\": {\"Text\": \" R \"}},\n",
    "                        \"Java\": {\"match_phrase\": {\"Text\": \"java\"}},\n",
    "                        \"JavaScript\": {\"match_phrase\": {\"Text\": \"javascript\"}},\n",
    "                        \"C++\": {\"match_phrase\": {\"Text\": \"c++\"}},\n",
    "                        \"Ruby\": {\"match_phrase\": {\"Text\": \"ruby\"}},\n",
    "                        \"PHP\": {\"match_phrase\": {\"Text\": \"php\"}}\n",
    "                    }\n",
    "                }\n",
    "            }\n",
    "        }\n",
    "    }\n",
    ")\n",
    "execution_time = time.time() - start_time\n"
   ]
  },
  {
   "cell_type": "code",
   "execution_count": null,
   "metadata": {},
   "outputs": [],
   "source": []
  }
 ],
 "metadata": {
  "kernelspec": {
   "display_name": "venv",
   "language": "python",
   "name": "python3"
  },
  "language_info": {
   "codemirror_mode": {
    "name": "ipython",
    "version": 3
   },
   "file_extension": ".py",
   "mimetype": "text/x-python",
   "name": "python",
   "nbconvert_exporter": "python",
   "pygments_lexer": "ipython3",
   "version": "3.13.0"
  }
 },
 "nbformat": 4,
 "nbformat_minor": 2
}

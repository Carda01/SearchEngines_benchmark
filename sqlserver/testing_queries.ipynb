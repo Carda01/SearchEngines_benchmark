{
 "cells": [
  {
   "cell_type": "markdown",
   "id": "c542b613-e383-4bb9-9ca1-cf3859accc19",
   "metadata": {},
   "source": [
    "# Testing queries"
   ]
  },
  {
   "cell_type": "markdown",
   "id": "ba33885e-dce6-4ef4-9776-1e0f14a52ada",
   "metadata": {},
   "source": [
    "### Libraries"
   ]
  },
  {
   "cell_type": "code",
   "execution_count": 2,
   "id": "b5c3c4f2",
   "metadata": {},
   "outputs": [
    {
     "name": "stdout",
     "output_type": "stream",
     "text": [
      "c:\\Users\\josub\\Desktop\\BDMA\\Brussels\\Advanced Databases\\PROJECT\\SearchEngines_benchmark\n"
     ]
    }
   ],
   "source": [
    "%cd .. "
   ]
  },
  {
   "cell_type": "code",
   "execution_count": 3,
   "id": "8d1aeb32-e2db-4765-be29-cf570edc425f",
   "metadata": {},
   "outputs": [],
   "source": [
    "import pandas as pd\n",
    "from src.queries import * #this import all the queries we want to test\n",
    "import pyodbc\n",
    "import time\n",
    "import datetime\n",
    "import seaborn as sns\n",
    "import matplotlib.pyplot as plt\n",
    "import pickle"
   ]
  },
  {
   "cell_type": "markdown",
   "id": "9deaefbf-7d87-4aa7-b00d-2c356a9d7933",
   "metadata": {},
   "source": [
    "### Connect to data base"
   ]
  },
  {
   "cell_type": "code",
   "execution_count": 9,
   "id": "434b4cc8-eef5-4d9e-9caf-dd70ac07406a",
   "metadata": {},
   "outputs": [],
   "source": [
    "# Connect to SQL Server\n",
    "conn = pyodbc.connect('DRIVER={ODBC Driver 18 for SQL Server};'\n",
    "                      'SERVER=localhost,1433;'\n",
    "                      'DATABASE=StackOverflowMini;'\n",
    "                      'UID=sa;'\n",
    "                      'PWD=<YourStrong@Passw0rd>;'\n",
    "                      'TrustServerCertificate=yes;')\n",
    "cursor = conn.cursor()"
   ]
  },
  {
   "cell_type": "markdown",
   "id": "2c501fd5-9fef-4621-a7f5-6c65e2f085a1",
   "metadata": {},
   "source": [
    "### Executing queries test\n",
    "This first step measures performance when extracting the whole table."
   ]
  },
  {
   "cell_type": "code",
   "execution_count": null,
   "id": "c01ced31-1278-4a46-810c-29ba7c6dd1a6",
   "metadata": {},
   "outputs": [
    {
     "name": "stdout",
     "output_type": "stream",
     "text": [
      "Executing query ID 1\n"
     ]
    }
   ],
   "source": [
    "# Initialize a list to hold query metrics\n",
    "query_metrics = []\n",
    "\n",
    "# Run benchmarks\n",
    "for i in range(0,len(query_dictionary['query'])):\n",
    "    counter = 0\n",
    "    while counter <6:\n",
    "        query = query_dictionary['query'][i]\n",
    "        query_id = query_dictionary['id'][i]\n",
    "    #for query in queries:\n",
    "        print(f\"Executing query ID {query_id}\")\n",
    "        start_time = time.time()\n",
    "        cursor.execute(query)\n",
    "        results = cursor.fetchall()\n",
    "        end_time = time.time()\n",
    "        \n",
    "        # Collect execution time    \n",
    "        execution_time = end_time - start_time\n",
    "        \n",
    "        # Get number of rows and columns\n",
    "        columns = [column[0] for column in cursor.description]  # Get column names\n",
    "        num_rows = len(results)\n",
    "        num_columns = len(columns)\n",
    "        \n",
    "        # Append metrics to the list\n",
    "        query_metrics.append({\n",
    "            'query_id':query_id,\n",
    "            'execution_time': execution_time,\n",
    "            'run':counter\n",
    "        })\n",
    "        counter+=1\n",
    "\n",
    "# Convert to pandas DataFrame\n",
    "\n",
    "df = pd.DataFrame(query_metrics)"
   ]
  },
  {
   "cell_type": "code",
   "execution_count": 4,
   "id": "f6e3a7cc",
   "metadata": {},
   "outputs": [],
   "source": [
    "with open('query_metrics.pickle', 'rb') as handle:\n",
    "    query_metrics = pickle.load(handle)"
   ]
  },
  {
   "cell_type": "code",
   "execution_count": 19,
   "id": "0b476a0c",
   "metadata": {},
   "outputs": [
    {
     "name": "stdout",
     "output_type": "stream",
     "text": [
      "Executing query ID 7\n",
      "Executing query ID 7\n",
      "Executing query ID 7\n",
      "Executing query ID 7\n",
      "Executing query ID 7\n",
      "Executing query ID 7\n",
      "Executing query ID 8\n",
      "Executing query ID 8\n",
      "Executing query ID 8\n",
      "Executing query ID 8\n",
      "Executing query ID 8\n",
      "Executing query ID 8\n"
     ]
    }
   ],
   "source": [
    "# Run benchmarks\n",
    "for i in range(0,len(query_dictionary['query'][6:])):\n",
    "    counter = 0\n",
    "    while counter <6:\n",
    "        query = query_dictionary['query'][6:][i]\n",
    "        query_id = query_dictionary['id'][6:][i]\n",
    "    #for query in queries:\n",
    "        print(f\"Executing query ID {query_id}\")\n",
    "        start_time = time.time()\n",
    "        cursor.execute(query)\n",
    "        results = cursor.fetchall()\n",
    "        end_time = time.time()\n",
    "        \n",
    "        # Collect execution time    \n",
    "        execution_time = end_time - start_time\n",
    "        \n",
    "        # Get number of rows and columns\n",
    "        columns = [column[0] for column in cursor.description]  # Get column names\n",
    "        num_rows = len(results)\n",
    "        num_columns = len(columns)\n",
    "        \n",
    "        # Append metrics to the list\n",
    "        query_metrics.append({\n",
    "            'query_id':query_id,\n",
    "            'execution_time': execution_time,\n",
    "            'run':counter\n",
    "        })\n",
    "        counter+=1\n",
    "\n",
    "# Convert to pandas DataFrame\n",
    "\n",
    "df = pd.DataFrame(query_metrics)"
   ]
  },
  {
   "cell_type": "code",
   "execution_count": 21,
   "id": "10c14b3c",
   "metadata": {},
   "outputs": [],
   "source": [
    "df = df[df['run']!=0]"
   ]
  },
  {
   "cell_type": "code",
   "execution_count": 23,
   "id": "7906fa5f",
   "metadata": {},
   "outputs": [
    {
     "data": {
      "text/html": [
       "<div>\n",
       "<style scoped>\n",
       "    .dataframe tbody tr th:only-of-type {\n",
       "        vertical-align: middle;\n",
       "    }\n",
       "\n",
       "    .dataframe tbody tr th {\n",
       "        vertical-align: top;\n",
       "    }\n",
       "\n",
       "    .dataframe thead th {\n",
       "        text-align: right;\n",
       "    }\n",
       "</style>\n",
       "<table border=\"1\" class=\"dataframe\">\n",
       "  <thead>\n",
       "    <tr style=\"text-align: right;\">\n",
       "      <th></th>\n",
       "      <th>query_id</th>\n",
       "      <th>execution_time</th>\n",
       "    </tr>\n",
       "  </thead>\n",
       "  <tbody>\n",
       "    <tr>\n",
       "      <th>0</th>\n",
       "      <td>1</td>\n",
       "      <td>139.258105</td>\n",
       "    </tr>\n",
       "    <tr>\n",
       "      <th>1</th>\n",
       "      <td>2</td>\n",
       "      <td>27.204103</td>\n",
       "    </tr>\n",
       "    <tr>\n",
       "      <th>2</th>\n",
       "      <td>3</td>\n",
       "      <td>141.777690</td>\n",
       "    </tr>\n",
       "    <tr>\n",
       "      <th>3</th>\n",
       "      <td>4</td>\n",
       "      <td>26.782103</td>\n",
       "    </tr>\n",
       "    <tr>\n",
       "      <th>4</th>\n",
       "      <td>5</td>\n",
       "      <td>836.140143</td>\n",
       "    </tr>\n",
       "    <tr>\n",
       "      <th>5</th>\n",
       "      <td>6</td>\n",
       "      <td>43.550384</td>\n",
       "    </tr>\n",
       "    <tr>\n",
       "      <th>6</th>\n",
       "      <td>7</td>\n",
       "      <td>0.150489</td>\n",
       "    </tr>\n",
       "    <tr>\n",
       "      <th>7</th>\n",
       "      <td>8</td>\n",
       "      <td>0.102614</td>\n",
       "    </tr>\n",
       "  </tbody>\n",
       "</table>\n",
       "</div>"
      ],
      "text/plain": [
       "   query_id  execution_time\n",
       "0         1      139.258105\n",
       "1         2       27.204103\n",
       "2         3      141.777690\n",
       "3         4       26.782103\n",
       "4         5      836.140143\n",
       "5         6       43.550384\n",
       "6         7        0.150489\n",
       "7         8        0.102614"
      ]
     },
     "execution_count": 23,
     "metadata": {},
     "output_type": "execute_result"
    }
   ],
   "source": [
    "df.groupby('query_id').agg({'execution_time':'mean'}).reset_index()"
   ]
  },
  {
   "cell_type": "code",
   "execution_count": null,
   "id": "9c2042e4",
   "metadata": {},
   "outputs": [],
   "source": [
    "# with open('query_metrics.pickle', 'wb') as handle:\n",
    "#     pickle.dump(query_metrics, handle, protocol=pickle.HIGHEST_PROTOCOL)"
   ]
  },
  {
   "cell_type": "markdown",
   "id": "f5c7a230",
   "metadata": {},
   "source": [
    "## Visualization of results"
   ]
  },
  {
   "cell_type": "code",
   "execution_count": null,
   "id": "4fd2f5eb",
   "metadata": {},
   "outputs": [
    {
     "data": {
      "image/png": "[encoded data removed]",
      "text/plain": [
       "<Figure size 1000x600 with 1 Axes>"
      ]
     },
     "metadata": {},
     "output_type": "display_data"
    }
   ],
   "source": [
    "# plt.figure(figsize=(10, 6))  # Set figure size\n",
    "# sns.set(style=\"whitegrid\")  # Set the style for the plot\n",
    "# sns.barplot(data=df, x='query_id', y='execution_time')\n",
    "# # Add title and labels\n",
    "# plt.title(\"Execution time by Query (SQL Server)\", fontsize=16)\n",
    "# plt.xlabel(\"Query ID\", fontsize=12)\n",
    "# plt.ylabel(\"Execution time (in seconds)\", fontsize=12)\n",
    "# # Show the plot\n",
    "# plt.show()"
   ]
  },
  {
   "cell_type": "markdown",
   "id": "45cab823-f06f-4a34-bd95-86dec2a9a541",
   "metadata": {},
   "source": [
    "## Saving results"
   ]
  },
  {
   "cell_type": "code",
   "execution_count": null,
   "id": "d3cc8de4-b681-462e-9ef8-16d7a8d6e10e",
   "metadata": {},
   "outputs": [],
   "source": [
    "# now = datetime.datetime.now()\n",
    "# formatted_time = now.strftime(\"%Y_%m_%d_%H_%M\")"
   ]
  },
  {
   "cell_type": "code",
   "execution_count": null,
   "id": "80114d53-1c19-45ff-8b7b-3d7e62303094",
   "metadata": {},
   "outputs": [],
   "source": [
    "# df.to_csv(f'sqlserver/results/simple_test_{formatted_time}.csv')"
   ]
  }
 ],
 "metadata": {
  "kernelspec": {
   "display_name": "venv",
   "language": "python",
   "name": "python3"
  },
  "language_info": {
   "codemirror_mode": {
    "name": "ipython",
    "version": 3
   },
   "file_extension": ".py",
   "mimetype": "text/x-python",
   "name": "python",
   "nbconvert_exporter": "python",
   "pygments_lexer": "ipython3",
   "version": "3.13.0"
  }
 },
 "nbformat": 4,
 "nbformat_minor": 5
}

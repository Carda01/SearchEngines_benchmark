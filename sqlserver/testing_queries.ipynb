{
 "cells": [
  {
   "cell_type": "markdown",
   "id": "c542b613-e383-4bb9-9ca1-cf3859accc19",
   "metadata": {},
   "source": [
    "# Testing queries"
   ]
  },
  {
   "cell_type": "markdown",
   "id": "ba33885e-dce6-4ef4-9776-1e0f14a52ada",
   "metadata": {},
   "source": [
    "### Libraries"
   ]
  },
  {
   "cell_type": "code",
   "execution_count": 1,
   "id": "b5c3c4f2",
   "metadata": {},
   "outputs": [
    {
     "name": "stdout",
     "output_type": "stream",
     "text": [
      "c:\\ulb\\SearchEngines_benchmark\n"
     ]
    },
    {
     "name": "stderr",
     "output_type": "stream",
     "text": [
      "c:\\ulb\\SearchEngines_benchmark\\venv\\Lib\\site-packages\\IPython\\core\\magics\\osm.py:417: UserWarning: This is now an optional IPython functionality, setting dhist requires you to install the `pickleshare` library.\n",
      "  self.shell.db['dhist'] = compress_dhist(dhist)[-100:]\n"
     ]
    }
   ],
   "source": [
    "%cd .."
   ]
  },
  {
   "cell_type": "code",
   "execution_count": 2,
   "id": "8d1aeb32-e2db-4765-be29-cf570edc425f",
   "metadata": {},
   "outputs": [],
   "source": [
    "import pandas as pd\n",
    "from src.queries import * #this import all the queries we want to test\n",
    "import pyodbc\n",
    "import time\n",
    "import datetime\n",
    "import seaborn as sns\n",
    "import matplotlib.pyplot as plt"
   ]
  },
  {
   "cell_type": "markdown",
   "id": "9deaefbf-7d87-4aa7-b00d-2c356a9d7933",
   "metadata": {},
   "source": [
    "### Connect to data base"
   ]
  },
  {
   "cell_type": "code",
   "execution_count": 3,
   "id": "434b4cc8-eef5-4d9e-9caf-dd70ac07406a",
   "metadata": {},
   "outputs": [],
   "source": [
    "# Connect to SQL Server\n",
    "conn = pyodbc.connect('DRIVER={ODBC Driver 17 for SQL Server};'\n",
    "                      'SERVER=localhost,1433;'\n",
    "                      'DATABASE=StackOverflowMini;'\n",
    "                      'UID=sa;'\n",
    "                      'PWD=<YourStrong@Passw0rd>')\n",
    "cursor = conn.cursor()"
   ]
  },
  {
   "cell_type": "markdown",
   "id": "2c501fd5-9fef-4621-a7f5-6c65e2f085a1",
   "metadata": {},
   "source": [
    "### Executing queries test\n",
    "This first step measures performance when extracting the whole table."
   ]
  },
  {
   "cell_type": "code",
   "execution_count": null,
   "id": "c01ced31-1278-4a46-810c-29ba7c6dd1a6",
   "metadata": {},
   "outputs": [
    {
     "name": "stdout",
     "output_type": "stream",
     "text": [
      "Executing: \n",
      "select * from dbo.Comments;\n",
      "\n",
      "Executing: \n",
      "select * from dbo.Badges;\n",
      "\n",
      "Executing: \n",
      "select * from dbo.LinkTypes;\n",
      "\n",
      "Executing: \n",
      "select * from dbo.PostLinks\n",
      "\n",
      "Executing: \n",
      "select * from dbo.Posts\n",
      "\n"
     ]
    }
   ],
   "source": [
    "# Initialize a list to hold query metrics\n",
    "query_metrics = []\n",
    "\n",
    "# Run benchmarks\n",
    "for i in range(0,len(query_dictionary['query'])):\n",
    "    query = query_dictionary['query'][i]\n",
    "    query_id = query_dictionary['id'][i]\n",
    "#for query in queries:\n",
    "    print(f\"Executing: {query}\")\n",
    "    start_time = time.time()\n",
    "    cursor.execute(query)\n",
    "    results = cursor.fetchall()\n",
    "    end_time = time.time()\n",
    "    \n",
    "    # Collect execution time\n",
    "    execution_time = end_time - start_time\n",
    "    \n",
    "    # Get number of rows and columns\n",
    "    columns = [column[0] for column in cursor.description]  # Get column names\n",
    "    num_rows = len(results)\n",
    "    num_columns = len(columns)\n",
    "    \n",
    "    # Append metrics to the list\n",
    "    query_metrics.append({\n",
    "        'query_id':query_id,\n",
    "        'query': query,\n",
    "        'execution_time': execution_time,\n",
    "        'num_rows': num_rows,\n",
    "        'num_columns': num_columns\n",
    "    })\n",
    "\n",
    "# Convert to pandas DataFrame\n",
    "\n",
    "df = pd.DataFrame(query_metrics)"
   ]
  },
  {
   "cell_type": "code",
   "execution_count": null,
   "id": "c2d94f1f-0f49-4dca-b75a-0ead6664bbf5",
   "metadata": {},
   "outputs": [
    {
     "data": {
      "text/html": [
       "<div>\n",
       "<style scoped>\n",
       "    .dataframe tbody tr th:only-of-type {\n",
       "        vertical-align: middle;\n",
       "    }\n",
       "\n",
       "    .dataframe tbody tr th {\n",
       "        vertical-align: top;\n",
       "    }\n",
       "\n",
       "    .dataframe thead th {\n",
       "        text-align: right;\n",
       "    }\n",
       "</style>\n",
       "<table border=\"1\" class=\"dataframe\">\n",
       "  <thead>\n",
       "    <tr style=\"text-align: right;\">\n",
       "      <th></th>\n",
       "      <th>query_id</th>\n",
       "      <th>query</th>\n",
       "      <th>execution_time</th>\n",
       "      <th>num_rows</th>\n",
       "      <th>num_columns</th>\n",
       "    </tr>\n",
       "  </thead>\n",
       "  <tbody>\n",
       "    <tr>\n",
       "      <th>0</th>\n",
       "      <td>1</td>\n",
       "      <td>\\nselect * from dbo.Comments;\\n</td>\n",
       "      <td>8.281559</td>\n",
       "      <td>1373756</td>\n",
       "      <td>6</td>\n",
       "    </tr>\n",
       "    <tr>\n",
       "      <th>1</th>\n",
       "      <td>2</td>\n",
       "      <td>\\nselect * from dbo.Badges;\\n</td>\n",
       "      <td>1.440678</td>\n",
       "      <td>444073</td>\n",
       "      <td>4</td>\n",
       "    </tr>\n",
       "    <tr>\n",
       "      <th>2</th>\n",
       "      <td>3</td>\n",
       "      <td>\\nselect * from dbo.LinkTypes;\\n</td>\n",
       "      <td>0.038941</td>\n",
       "      <td>2</td>\n",
       "      <td>2</td>\n",
       "    </tr>\n",
       "    <tr>\n",
       "      <th>3</th>\n",
       "      <td>4</td>\n",
       "      <td>\\nselect * from dbo.PostLinks\\n</td>\n",
       "      <td>0.006177</td>\n",
       "      <td>0</td>\n",
       "      <td>5</td>\n",
       "    </tr>\n",
       "    <tr>\n",
       "      <th>4</th>\n",
       "      <td>5</td>\n",
       "      <td>\\nselect * from dbo.Posts\\n</td>\n",
       "      <td>32.443844</td>\n",
       "      <td>1565425</td>\n",
       "      <td>20</td>\n",
       "    </tr>\n",
       "    <tr>\n",
       "      <th>5</th>\n",
       "      <td>6</td>\n",
       "      <td>\\nselect * from dbo.PostTypes\\n</td>\n",
       "      <td>2.859094</td>\n",
       "      <td>8</td>\n",
       "      <td>2</td>\n",
       "    </tr>\n",
       "    <tr>\n",
       "      <th>6</th>\n",
       "      <td>7</td>\n",
       "      <td>\\nselect * from dbo.Users\\n</td>\n",
       "      <td>0.763926</td>\n",
       "      <td>99869</td>\n",
       "      <td>14</td>\n",
       "    </tr>\n",
       "    <tr>\n",
       "      <th>7</th>\n",
       "      <td>8</td>\n",
       "      <td>\\nselect * from dbo.Votes\\n</td>\n",
       "      <td>11.058313</td>\n",
       "      <td>4614189</td>\n",
       "      <td>6</td>\n",
       "    </tr>\n",
       "    <tr>\n",
       "      <th>8</th>\n",
       "      <td>9</td>\n",
       "      <td>\\nselect * from dbo.VoteTypes\\n</td>\n",
       "      <td>0.315149</td>\n",
       "      <td>15</td>\n",
       "      <td>2</td>\n",
       "    </tr>\n",
       "    <tr>\n",
       "      <th>9</th>\n",
       "      <td>10</td>\n",
       "      <td>\\nSELECT \\n    CASE\\n        WHEN Text LIKE '%...</td>\n",
       "      <td>28.194006</td>\n",
       "      <td>7</td>\n",
       "      <td>2</td>\n",
       "    </tr>\n",
       "    <tr>\n",
       "      <th>10</th>\n",
       "      <td>11</td>\n",
       "      <td>\\nSELECT \\n    UserId,\\n    DisplayName,\\n    ...</td>\n",
       "      <td>29.671972</td>\n",
       "      <td>18933</td>\n",
       "      <td>4</td>\n",
       "    </tr>\n",
       "    <tr>\n",
       "      <th>11</th>\n",
       "      <td>12</td>\n",
       "      <td>\\nSELECT TOP 20 \\n    value AS Word, \\n    COU...</td>\n",
       "      <td>45.881477</td>\n",
       "      <td>20</td>\n",
       "      <td>2</td>\n",
       "    </tr>\n",
       "    <tr>\n",
       "      <th>12</th>\n",
       "      <td>13</td>\n",
       "      <td>\\nSELECT \\n    CASE\\n        WHEN Body LIKE '%...</td>\n",
       "      <td>127.016987</td>\n",
       "      <td>7</td>\n",
       "      <td>2</td>\n",
       "    </tr>\n",
       "    <tr>\n",
       "      <th>13</th>\n",
       "      <td>14</td>\n",
       "      <td>\\nSELECT\\n    OwnerUserId,\\n    DisplayName,\\n...</td>\n",
       "      <td>128.575699</td>\n",
       "      <td>46715</td>\n",
       "      <td>4</td>\n",
       "    </tr>\n",
       "  </tbody>\n",
       "</table>\n",
       "</div>"
      ],
      "text/plain": [
       "    query_id                                              query  \\\n",
       "0          1                    \\nselect * from dbo.Comments;\\n   \n",
       "1          2                      \\nselect * from dbo.Badges;\\n   \n",
       "2          3                   \\nselect * from dbo.LinkTypes;\\n   \n",
       "3          4                    \\nselect * from dbo.PostLinks\\n   \n",
       "4          5                        \\nselect * from dbo.Posts\\n   \n",
       "5          6                    \\nselect * from dbo.PostTypes\\n   \n",
       "6          7                        \\nselect * from dbo.Users\\n   \n",
       "7          8                        \\nselect * from dbo.Votes\\n   \n",
       "8          9                    \\nselect * from dbo.VoteTypes\\n   \n",
       "9         10  \\nSELECT \\n    CASE\\n        WHEN Text LIKE '%...   \n",
       "10        11  \\nSELECT \\n    UserId,\\n    DisplayName,\\n    ...   \n",
       "11        12  \\nSELECT TOP 20 \\n    value AS Word, \\n    COU...   \n",
       "12        13  \\nSELECT \\n    CASE\\n        WHEN Body LIKE '%...   \n",
       "13        14  \\nSELECT\\n    OwnerUserId,\\n    DisplayName,\\n...   \n",
       "\n",
       "    execution_time  num_rows  num_columns  \n",
       "0         8.281559   1373756            6  \n",
       "1         1.440678    444073            4  \n",
       "2         0.038941         2            2  \n",
       "3         0.006177         0            5  \n",
       "4        32.443844   1565425           20  \n",
       "5         2.859094         8            2  \n",
       "6         0.763926     99869           14  \n",
       "7        11.058313   4614189            6  \n",
       "8         0.315149        15            2  \n",
       "9        28.194006         7            2  \n",
       "10       29.671972     18933            4  \n",
       "11       45.881477        20            2  \n",
       "12      127.016987         7            2  \n",
       "13      128.575699     46715            4  "
      ]
     },
     "execution_count": 10,
     "metadata": {},
     "output_type": "execute_result"
    }
   ],
   "source": [
    "df"
   ]
  },
  {
   "cell_type": "markdown",
   "id": "f5c7a230",
   "metadata": {},
   "source": [
    "## Visualization of results"
   ]
  },
  {
   "cell_type": "code",
   "execution_count": null,
   "id": "4fd2f5eb",
   "metadata": {},
   "outputs": [
    {
     "data": {
      "image/png": "[encoded data removed]",
      "text/plain": [
       "<Figure size 1000x600 with 1 Axes>"
      ]
     },
     "metadata": {},
     "output_type": "display_data"
    }
   ],
   "source": [
    "plt.figure(figsize=(10, 6))  # Set figure size\n",
    "sns.set(style=\"whitegrid\")  # Set the style for the plot\n",
    "sns.barplot(data=df, x='query_id', y='execution_time')\n",
    "# Add title and labels\n",
    "plt.title(\"Execution time by Query (SQL Server)\", fontsize=16)\n",
    "plt.xlabel(\"Query ID\", fontsize=12)\n",
    "plt.ylabel(\"Execution time (in seconds)\", fontsize=12)\n",
    "# Show the plot\n",
    "plt.show()"
   ]
  },
  {
   "cell_type": "markdown",
   "id": "45cab823-f06f-4a34-bd95-86dec2a9a541",
   "metadata": {},
   "source": [
    "## Saving results"
   ]
  },
  {
   "cell_type": "code",
   "execution_count": 18,
   "id": "d3cc8de4-b681-462e-9ef8-16d7a8d6e10e",
   "metadata": {},
   "outputs": [],
   "source": [
    "now = datetime.datetime.now()\n",
    "formatted_time = now.strftime(\"%Y_%m_%d_%H_%M\")"
   ]
  },
  {
   "cell_type": "code",
   "execution_count": 19,
   "id": "80114d53-1c19-45ff-8b7b-3d7e62303094",
   "metadata": {},
   "outputs": [],
   "source": [
    "df.to_csv(f'results/simple_test_{formatted_time}.csv')"
   ]
  },
  {
   "cell_type": "markdown",
   "id": "1e135d5a",
   "metadata": {},
   "source": [
    "## Trying some queries"
   ]
  },
  {
   "cell_type": "code",
   "execution_count": 4,
   "id": "1235e361",
   "metadata": {},
   "outputs": [
    {
     "name": "stdout",
     "output_type": "stream",
     "text": [
      "\n",
      "SELECT\n",
      "    OwnerUserId,\n",
      "    CASE\n",
      "        WHEN Body LIKE '%sql%' THEN 'SQL'\n",
      "        WHEN Body LIKE '%python%' THEN 'Python'\n",
      "        WHEN Body LIKE '% R %' THEN 'R'\n",
      "        WHEN Body LIKE '%java%' THEN 'Java'\n",
      "        WHEN Body LIKE '%javascript%' THEN 'JavaScript'\n",
      "        WHEN Body LIKE '%c++%' THEN 'C++'\n",
      "        WHEN Body LIKE '%ruby%' THEN 'Ruby'\n",
      "        WHEN Body LIKE '%php%' THEN 'PHP'\n",
      "        ELSE 'Other'\n",
      "    END AS Programming_Language,\n",
      "    COUNT(*) AS Post_Count\n",
      "FROM \n",
      "    posts p\n",
      "WHERE \n",
      "    Body LIKE '%sql%' \n",
      "    OR Body LIKE '%python%' \n",
      "    OR Body LIKE '% R %'\n",
      "    OR Body LIKE '%java%' \n",
      "    OR Body LIKE '%javascript%' \n",
      "    OR Body LIKE '%c++%' \n",
      "    OR Body LIKE '%ruby%' \n",
      "    OR Body LIKE '%php%' \n",
      "GROUP BY\n",
      "    OwnerUserId,\n",
      "    CASE\n",
      "        WHEN Body LIKE '%sql%' THEN 'SQL'\n",
      "        WHEN Body LIKE '%python%' THEN 'Python'\n",
      "        WHEN Body LIKE '% R %' THEN 'R'\n",
      "        WHEN Body LIKE '%java%' THEN 'Java'\n",
      "        WHEN Body LIKE '%javascript%' THEN 'JavaScript'\n",
      "        WHEN Body LIKE '%c++%' THEN 'C++'\n",
      "        WHEN Body LIKE '%ruby%' THEN 'Ruby'\n",
      "        WHEN Body LIKE '%php%' THEN 'PHP'\n",
      "        ELSE 'Other'\n",
      "    END\n",
      "ORDER BY\n",
      "    Post_Count;\n",
      "\n"
     ]
    }
   ],
   "source": [
    "print(query_prog_lang_user_posts)"
   ]
  },
  {
   "cell_type": "code",
   "execution_count": 5,
   "id": "29321db7",
   "metadata": {},
   "outputs": [
    {
     "name": "stderr",
     "output_type": "stream",
     "text": [
      "C:\\Users\\jidsc\\AppData\\Local\\Temp\\ipykernel_28724\\568825530.py:1: UserWarning: pandas only supports SQLAlchemy connectable (engine/connection) or database string URI or sqlite3 DBAPI2 connection. Other DBAPI2 objects are not tested. Please consider using SQLAlchemy.\n",
      "  df_user_post = pd.read_sql_query(query_prog_lang_user_posts,conn)\n"
     ]
    }
   ],
   "source": [
    "df_user_post = pd.read_sql_query(query_prog_lang_user_posts,conn)"
   ]
  },
  {
   "cell_type": "code",
   "execution_count": 6,
   "id": "6316651c",
   "metadata": {},
   "outputs": [
    {
     "data": {
      "text/plain": [
       "51106"
      ]
     },
     "execution_count": 6,
     "metadata": {},
     "output_type": "execute_result"
    }
   ],
   "source": [
    "df_user_post.OwnerUserId.nunique()"
   ]
  },
  {
   "cell_type": "code",
   "execution_count": 8,
   "id": "477ad400",
   "metadata": {},
   "outputs": [
    {
     "data": {
      "text/html": [
       "<div>\n",
       "<style scoped>\n",
       "    .dataframe tbody tr th:only-of-type {\n",
       "        vertical-align: middle;\n",
       "    }\n",
       "\n",
       "    .dataframe tbody tr th {\n",
       "        vertical-align: top;\n",
       "    }\n",
       "\n",
       "    .dataframe thead th {\n",
       "        text-align: right;\n",
       "    }\n",
       "</style>\n",
       "<table border=\"1\" class=\"dataframe\">\n",
       "  <thead>\n",
       "    <tr style=\"text-align: right;\">\n",
       "      <th></th>\n",
       "      <th>OwnerUserId</th>\n",
       "      <th>Programming_Language</th>\n",
       "      <th>Post_Count</th>\n",
       "    </tr>\n",
       "  </thead>\n",
       "  <tbody>\n",
       "    <tr>\n",
       "      <th>94080</th>\n",
       "      <td>0</td>\n",
       "      <td>Java</td>\n",
       "      <td>6259</td>\n",
       "    </tr>\n",
       "    <tr>\n",
       "      <th>94078</th>\n",
       "      <td>0</td>\n",
       "      <td>PHP</td>\n",
       "      <td>2843</td>\n",
       "    </tr>\n",
       "    <tr>\n",
       "      <th>94077</th>\n",
       "      <td>0</td>\n",
       "      <td>C++</td>\n",
       "      <td>2284</td>\n",
       "    </tr>\n",
       "    <tr>\n",
       "      <th>94076</th>\n",
       "      <td>0</td>\n",
       "      <td>Python</td>\n",
       "      <td>1538</td>\n",
       "    </tr>\n",
       "    <tr>\n",
       "      <th>94064</th>\n",
       "      <td>0</td>\n",
       "      <td>Ruby</td>\n",
       "      <td>527</td>\n",
       "    </tr>\n",
       "    <tr>\n",
       "      <th>...</th>\n",
       "      <td>...</td>\n",
       "      <td>...</td>\n",
       "      <td>...</td>\n",
       "    </tr>\n",
       "    <tr>\n",
       "      <th>44156</th>\n",
       "      <td>6258565</td>\n",
       "      <td>PHP</td>\n",
       "      <td>1</td>\n",
       "    </tr>\n",
       "    <tr>\n",
       "      <th>54754</th>\n",
       "      <td>7793848</td>\n",
       "      <td>SQL</td>\n",
       "      <td>2</td>\n",
       "    </tr>\n",
       "    <tr>\n",
       "      <th>36339</th>\n",
       "      <td>7955649</td>\n",
       "      <td>SQL</td>\n",
       "      <td>1</td>\n",
       "    </tr>\n",
       "    <tr>\n",
       "      <th>36150</th>\n",
       "      <td>8521238</td>\n",
       "      <td>Java</td>\n",
       "      <td>1</td>\n",
       "    </tr>\n",
       "    <tr>\n",
       "      <th>17685</th>\n",
       "      <td>8571118</td>\n",
       "      <td>Java</td>\n",
       "      <td>1</td>\n",
       "    </tr>\n",
       "  </tbody>\n",
       "</table>\n",
       "<p>94081 rows × 3 columns</p>\n",
       "</div>"
      ],
      "text/plain": [
       "       OwnerUserId Programming_Language  Post_Count\n",
       "94080            0                 Java        6259\n",
       "94078            0                  PHP        2843\n",
       "94077            0                  C++        2284\n",
       "94076            0               Python        1538\n",
       "94064            0                 Ruby         527\n",
       "...            ...                  ...         ...\n",
       "44156      6258565                  PHP           1\n",
       "54754      7793848                  SQL           2\n",
       "36339      7955649                  SQL           1\n",
       "36150      8521238                 Java           1\n",
       "17685      8571118                 Java           1\n",
       "\n",
       "[94081 rows x 3 columns]"
      ]
     },
     "execution_count": 8,
     "metadata": {},
     "output_type": "execute_result"
    }
   ],
   "source": [
    "df_user_post.sort_values(by='OwnerUserId')"
   ]
  },
  {
   "cell_type": "code",
   "execution_count": null,
   "id": "6142d9ec",
   "metadata": {},
   "outputs": [],
   "source": [
    "df_user_post"
   ]
  }
 ],
 "metadata": {
  "kernelspec": {
   "display_name": "venv",
   "language": "python",
   "name": "python3"
  },
  "language_info": {
   "codemirror_mode": {
    "name": "ipython",
    "version": 3
   },
   "file_extension": ".py",
   "mimetype": "text/x-python",
   "name": "python",
   "nbconvert_exporter": "python",
   "pygments_lexer": "ipython3",
   "version": "3.13.0"
  }
 },
 "nbformat": 4,
 "nbformat_minor": 5
}

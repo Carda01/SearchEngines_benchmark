{
 "cells": [
  {
   "cell_type": "markdown",
   "id": "c542b613-e383-4bb9-9ca1-cf3859accc19",
   "metadata": {},
   "source": [
    "# Testing queries"
   ]
  },
  {
   "cell_type": "markdown",
   "id": "ba33885e-dce6-4ef4-9776-1e0f14a52ada",
   "metadata": {},
   "source": [
    "### Libraries"
   ]
  },
  {
   "cell_type": "code",
   "execution_count": 1,
   "id": "b5c3c4f2",
   "metadata": {},
   "outputs": [
    {
     "name": "stdout",
     "output_type": "stream",
     "text": [
      "c:\\Users\\josub\\Desktop\\BDMA\\Brussels\\Advanced Databases\\PROJECT\\SearchEngines_benchmark\n"
     ]
    }
   ],
   "source": [
    "%cd .. "
   ]
  },
  {
   "cell_type": "code",
   "execution_count": 3,
   "id": "8d1aeb32-e2db-4765-be29-cf570edc425f",
   "metadata": {},
   "outputs": [],
   "source": [
    "import pandas as pd\n",
    "import pyodbc\n",
    "import time\n",
    "import datetime\n",
    "import seaborn as sns\n",
    "import matplotlib.pyplot as plt\n",
    "import pickle"
   ]
  },
  {
   "cell_type": "code",
   "execution_count": 13,
   "id": "8e49b282",
   "metadata": {},
   "outputs": [
    {
     "data": {
      "text/plain": [
       "{1: \"\\n            SELECT TOP 20 id, Score\\n            FROM comments\\n            WHERE text LIKE '%python%'\\n            ORDER BY Score DESC;\\n            \",\n",
       " 2: \"\\n            SELECT TOP 20 id, Score\\n            FROM posts \\n            WHERE title LIKE '%python%' AND ClosedDate!=0\\n            ORDER BY Score DESC;\\n            \",\n",
       " 3: \"\\n            SELECT TOP 20 AccountId, Reputation, LastAccessDate\\n            FROM users\\n            WHERE (AboutMe LIKE '%python%' AND AboutMe LIKE '%sql%') AND (AboutMe LIKE '%java%' OR AboutMe LIKE '%javascript%')\\n            ORDER BY Reputation DESC, LastAccessDate DESC\\n\",\n",
       " 4: \"\\n            SELECT TOP 20 id\\n            FROM posts\\n            WHERE (Body LIKE '%python%' OR Body LIKE '%sql%') AND FavoriteCount>3;\\n            \",\n",
       " 5: \"\\n            SELECT TOP 20 id, CreationDate\\n            FROM comments\\n            WHERE text LIKE '%python%' AND text NOT LIKE '%sql%' AND CreationDate LIKE '2008%' ;\\n            \",\n",
       " 6: '',\n",
       " 7: \"\\n            SELECT TOP 20 *\\n            FROM posts \\n            WHERE body LIKE '<p>%' AND title LIKE '%sql' AND tags LIKE '%sql%';\\n            \",\n",
       " 8: '',\n",
       " 9: \"\\n            SELECT TOP 20 id, Score\\n            FROM posts \\n            WHERE title LIKE '%python%' AND body LIKE '%sql%' AND tags LIKE '%c++%'\\n            ORDER BY Score DESC;\\n        \",\n",
       " 10: '',\n",
       " 11: \"   \\n            SELECT TOP 20 id, Score\\n            FROM comments\\n            WHERE\\n            (text LIKE '%sql%' AND text LIKE '%python%') OR\\n            (text LIKE '%sql%' AND text LIKE '%c++%') OR\\n            (text LIKE '%sql%' AND text LIKE '%r%') OR\\n            (text LIKE '%sql%' AND text LIKE '%ruby%') OR\\n            (text LIKE '%sql%' AND text LIKE '%php%') OR\\n            (text LIKE '%sql%' AND text LIKE '%java%') OR\\n            (text LIKE '%sql%' AND text LIKE '%javascript%') OR\\n            (text LIKE '%python%' AND text LIKE '%c++%') OR\\n            (text LIKE '%python%' AND text LIKE '%r%') OR\\n            (text LIKE '%python%' AND text LIKE '%ruby%') OR\\n            (text LIKE '%python%' AND text LIKE '%php%') OR\\n            (text LIKE '%python%' AND text LIKE '%java%') OR\\n            (text LIKE '%python%' AND text LIKE '%javascript%') OR\\n            (text LIKE '%c++%' AND text LIKE '%r%') OR\\n            (text LIKE '%c++%' AND text LIKE '%ruby%') OR\\n            (text LIKE '%c++%' AND text LIKE '%php%') OR\\n            (text LIKE '%c++%' AND text LIKE '%java%') OR\\n            (text LIKE '%c++%' AND text LIKE '%javascript%') OR\\n            (text LIKE '%r%' AND text LIKE '%ruby%') OR\\n            (text LIKE '%r%' AND text LIKE '%php%') OR\\n            (text LIKE '%r%' AND text LIKE '%java%') OR\\n            (text LIKE '%r%' AND text LIKE '%javascript%') OR\\n            (text LIKE '%ruby%' AND text LIKE '%php%') OR\\n            (text LIKE '%ruby%' AND text LIKE '%java%') OR\\n            (text LIKE '%ruby%' AND text LIKE '%javascript%') OR\\n            (text LIKE '%php%' AND text LIKE '%java%') OR\\n            (text LIKE '%php%' AND text LIKE '%javascript%') OR\\n            (text LIKE '%java%' AND text LIKE '%javascript%')\\n            ORDER BY Score DESC;           \\n        \",\n",
       " 12: '',\n",
       " 13: \"\\nSELECT \\n    CASE\\n        WHEN Body LIKE '%sql%' THEN 'SQL'\\n        WHEN Body LIKE '%python%' THEN 'Python'\\n        WHEN Body LIKE '% R %' THEN 'R'\\n        WHEN Body LIKE '%java%' THEN 'Java'\\n        WHEN Body LIKE '%javascript%' THEN 'JavaScript'\\n        WHEN Body LIKE '%c++%' THEN 'C++'\\n        WHEN Body LIKE '%ruby%' THEN 'Ruby'\\n        WHEN Body LIKE '%php%' THEN 'PHP'\\n        ELSE 'Other'\\n    END AS Programming_Language,\\n    COUNT(*) AS Post_Count\\nFROM \\n    posts\\nWHERE \\n    Body LIKE '%sql%' \\n    OR Body LIKE '%python%' \\n    OR Body LIKE '% R %'\\n    OR Body LIKE '%java%' \\n    OR Body LIKE '%javascript%' \\n    OR Body LIKE '%c++%' \\n    OR Body LIKE '%ruby%' \\n    OR Body LIKE '%php%' \\nGROUP BY \\n    CASE\\n        WHEN Body LIKE '%sql%' THEN 'SQL'\\n        WHEN Body LIKE '%python%' THEN 'Python'\\n        WHEN Body LIKE '% R %' THEN 'R'\\n        WHEN Body LIKE '%java%' THEN 'Java'\\n        WHEN Body LIKE '%javascript%' THEN 'JavaScript'\\n        WHEN Body LIKE '%c++%' THEN 'C++'\\n        WHEN Body LIKE '%ruby%' THEN 'Ruby'\\n        WHEN Body LIKE '%php%' THEN 'PHP'\\n        ELSE 'Other'\\n    END\\nORDER BY\\n    Post_Count;\\n\",\n",
       " 14: \"\\nSELECT \\n    CASE\\n        WHEN Text LIKE '%sql%' THEN 'SQL'\\n        WHEN Text LIKE '%python%' THEN 'Python'\\n        WHEN Text LIKE '% R %' THEN 'R'\\n        WHEN Text LIKE '%java%' THEN 'Java'\\n        WHEN Text LIKE '%javascript%' THEN 'JavaScript'\\n        WHEN Text LIKE '%c++%' THEN 'C++'\\n        WHEN Text LIKE '%ruby%' THEN 'Ruby'\\n        WHEN Text LIKE '%php%' THEN 'PHP'\\n        ELSE 'Other'\\n    END AS Programming_Language,\\n    COUNT(*) AS Post_Count\\nFROM \\n    comments\\nWHERE \\n    Text LIKE '%sql%' \\n    OR Text LIKE '%python%' \\n    OR Text LIKE '% R %'\\n    OR Text LIKE '%java%' \\n    OR Text LIKE '%javascript%' \\n    OR Text LIKE '%c++%' \\n    OR Text LIKE '%ruby%' \\n    OR Text LIKE '%php%' \\nGROUP BY \\n    CASE\\n        WHEN Text LIKE '%sql%' THEN 'SQL'\\n        WHEN Text LIKE '%python%' THEN 'Python'\\n        WHEN Text LIKE '% R %' THEN 'R'\\n        WHEN Text LIKE '%java%' THEN 'Java'\\n        WHEN Text LIKE '%javascript%' THEN 'JavaScript'\\n        WHEN Text LIKE '%c++%' THEN 'C++'\\n        WHEN Text LIKE '%ruby%' THEN 'Ruby'\\n        WHEN Text LIKE '%php%' THEN 'PHP'\\n        ELSE 'Other'\\n    END;\\n\"}"
      ]
     },
     "execution_count": 13,
     "metadata": {},
     "output_type": "execute_result"
    }
   ],
   "source": [
    "from src import queries_copy\n",
    "import importlib\n",
    "\n",
    "# Reload the specific module\n",
    "importlib.reload(queries_copy)\n",
    "\n",
    "# Access the updated query_dictionary\n",
    "query_dictionary = queries_copy.query_dictionary\n",
    "query_dictionary"
   ]
  },
  {
   "cell_type": "markdown",
   "id": "9deaefbf-7d87-4aa7-b00d-2c356a9d7933",
   "metadata": {},
   "source": [
    "### Connect to data base"
   ]
  },
  {
   "cell_type": "code",
   "execution_count": 8,
   "id": "434b4cc8-eef5-4d9e-9caf-dd70ac07406a",
   "metadata": {},
   "outputs": [],
   "source": [
    "# Connect to SQL Server\n",
    "conn = pyodbc.connect('DRIVER={ODBC Driver 18 for SQL Server};'\n",
    "                      'SERVER=localhost,1433;'\n",
    "                      'DATABASE=StackOverflowMini;'\n",
    "                      'UID=sa;'\n",
    "                      'PWD=<YourStrong@Passw0rd>;'\n",
    "                      'TrustServerCertificate=yes;')\n",
    "cursor = conn.cursor()"
   ]
  },
  {
   "cell_type": "markdown",
   "id": "2c501fd5-9fef-4621-a7f5-6c65e2f085a1",
   "metadata": {},
   "source": [
    "### Executing queries test\n",
    "This first step measures performance when extracting the whole table."
   ]
  },
  {
   "cell_type": "code",
   "execution_count": null,
   "id": "c01ced31-1278-4a46-810c-29ba7c6dd1a6",
   "metadata": {},
   "outputs": [
    {
     "name": "stdout",
     "output_type": "stream",
     "text": [
      "Executing: 1\n",
      "Executing: 2\n",
      "Executing: 3\n",
      "Executing: 4\n",
      "Executing: 5\n",
      "Executing: 6\n",
      "Executing: 7\n",
      "Executing: 8\n",
      "Executing: 9\n",
      "Executing: 10\n",
      "Executing: 11\n",
      "Executing: 12\n",
      "Executing: 13\n",
      "Executing: 14\n"
     ]
    },
    {
     "data": {
      "text/html": [
       "<div>\n",
       "<style scoped>\n",
       "    .dataframe tbody tr th:only-of-type {\n",
       "        vertical-align: middle;\n",
       "    }\n",
       "\n",
       "    .dataframe tbody tr th {\n",
       "        vertical-align: top;\n",
       "    }\n",
       "\n",
       "    .dataframe thead th {\n",
       "        text-align: right;\n",
       "    }\n",
       "</style>\n",
       "<table border=\"1\" class=\"dataframe\">\n",
       "  <thead>\n",
       "    <tr style=\"text-align: right;\">\n",
       "      <th></th>\n",
       "      <th>query_id</th>\n",
       "      <th>query</th>\n",
       "      <th>execution_time</th>\n",
       "      <th>num_rows</th>\n",
       "      <th>num_columns</th>\n",
       "    </tr>\n",
       "  </thead>\n",
       "  <tbody>\n",
       "    <tr>\n",
       "      <th>0</th>\n",
       "      <td>1</td>\n",
       "      <td>\\n            SELECT TOP 20 id, Score\\n       ...</td>\n",
       "      <td>12.527868</td>\n",
       "      <td>20</td>\n",
       "      <td>2</td>\n",
       "    </tr>\n",
       "    <tr>\n",
       "      <th>1</th>\n",
       "      <td>2</td>\n",
       "      <td>\\n            SELECT TOP 20 id, Score\\n       ...</td>\n",
       "      <td>0.358053</td>\n",
       "      <td>20</td>\n",
       "      <td>2</td>\n",
       "    </tr>\n",
       "    <tr>\n",
       "      <th>2</th>\n",
       "      <td>3</td>\n",
       "      <td>\\n            SELECT TOP 20 AccountId, Reputat...</td>\n",
       "      <td>0.758709</td>\n",
       "      <td>20</td>\n",
       "      <td>3</td>\n",
       "    </tr>\n",
       "    <tr>\n",
       "      <th>3</th>\n",
       "      <td>4</td>\n",
       "      <td>\\n            SELECT TOP 20 id\\n            FR...</td>\n",
       "      <td>0.020330</td>\n",
       "      <td>20</td>\n",
       "      <td>1</td>\n",
       "    </tr>\n",
       "    <tr>\n",
       "      <th>4</th>\n",
       "      <td>5</td>\n",
       "      <td>\\n            SELECT TOP 20 id, CreationDate\\n...</td>\n",
       "      <td>21.637632</td>\n",
       "      <td>0</td>\n",
       "      <td>2</td>\n",
       "    </tr>\n",
       "    <tr>\n",
       "      <th>5</th>\n",
       "      <td>7</td>\n",
       "      <td>\\n            SELECT TOP 20 *\\n            FRO...</td>\n",
       "      <td>0.048742</td>\n",
       "      <td>20</td>\n",
       "      <td>20</td>\n",
       "    </tr>\n",
       "    <tr>\n",
       "      <th>6</th>\n",
       "      <td>9</td>\n",
       "      <td>\\n            SELECT TOP 20 id, Score\\n       ...</td>\n",
       "      <td>2.201137</td>\n",
       "      <td>1</td>\n",
       "      <td>2</td>\n",
       "    </tr>\n",
       "    <tr>\n",
       "      <th>7</th>\n",
       "      <td>11</td>\n",
       "      <td>\\n            SELECT TOP 20 id, Score\\n    ...</td>\n",
       "      <td>324.176021</td>\n",
       "      <td>20</td>\n",
       "      <td>2</td>\n",
       "    </tr>\n",
       "    <tr>\n",
       "      <th>8</th>\n",
       "      <td>13</td>\n",
       "      <td>\\nSELECT \\n    CASE\\n        WHEN Body LIKE '%...</td>\n",
       "      <td>487.251085</td>\n",
       "      <td>7</td>\n",
       "      <td>2</td>\n",
       "    </tr>\n",
       "    <tr>\n",
       "      <th>9</th>\n",
       "      <td>14</td>\n",
       "      <td>\\nSELECT \\n    CASE\\n        WHEN Text LIKE '%...</td>\n",
       "      <td>102.048705</td>\n",
       "      <td>7</td>\n",
       "      <td>2</td>\n",
       "    </tr>\n",
       "  </tbody>\n",
       "</table>\n",
       "</div>"
      ],
      "text/plain": [
       "   query_id                                              query  \\\n",
       "0         1  \\n            SELECT TOP 20 id, Score\\n       ...   \n",
       "1         2  \\n            SELECT TOP 20 id, Score\\n       ...   \n",
       "2         3  \\n            SELECT TOP 20 AccountId, Reputat...   \n",
       "3         4  \\n            SELECT TOP 20 id\\n            FR...   \n",
       "4         5  \\n            SELECT TOP 20 id, CreationDate\\n...   \n",
       "5         7  \\n            SELECT TOP 20 *\\n            FRO...   \n",
       "6         9  \\n            SELECT TOP 20 id, Score\\n       ...   \n",
       "7        11     \\n            SELECT TOP 20 id, Score\\n    ...   \n",
       "8        13  \\nSELECT \\n    CASE\\n        WHEN Body LIKE '%...   \n",
       "9        14  \\nSELECT \\n    CASE\\n        WHEN Text LIKE '%...   \n",
       "\n",
       "   execution_time  num_rows  num_columns  \n",
       "0       12.527868        20            2  \n",
       "1        0.358053        20            2  \n",
       "2        0.758709        20            3  \n",
       "3        0.020330        20            1  \n",
       "4       21.637632         0            2  \n",
       "5        0.048742        20           20  \n",
       "6        2.201137         1            2  \n",
       "7      324.176021        20            2  \n",
       "8      487.251085         7            2  \n",
       "9      102.048705         7            2  "
      ]
     },
     "execution_count": 14,
     "metadata": {},
     "output_type": "execute_result"
    }
   ],
   "source": [
    "# Initialize a list to hold query metrics\n",
    "query_metrics = []\n",
    "TIMES=1\n",
    "# Run benchmarks\n",
    "for i in range(len(query_dictionary)):\n",
    "    query = query_dictionary[i+1]\n",
    "    \n",
    "    print(f\"Executing: {i+1}\")\n",
    "    start_time = time.time()\n",
    "    if i+1 in [6, 8, 10, 12, 15, 18]:\n",
    "        continue\n",
    "    for j in range(TIMES):\n",
    "        cursor.execute(query)\n",
    "        results = cursor.fetchall()\n",
    "    end_time = time.time()\n",
    "    \n",
    "    # Collect execution time\n",
    "    execution_time = end_time - start_time\n",
    "    \n",
    "    # Get number of rows and columns\n",
    "    columns = [column[0] for column in cursor.description]  # Get column names\n",
    "    num_rows = len(results)\n",
    "    num_columns = len(columns)\n",
    "    \n",
    "    # Append metrics to the list\n",
    "    query_metrics.append({\n",
    "        'query_id':i+1,\n",
    "        'query': query,\n",
    "        'execution_time': execution_time,\n",
    "        'num_rows': num_rows,\n",
    "        'num_columns': num_columns\n",
    "    })\n",
    "\n",
    "# Convert to pandas DataFrame\n",
    "\n",
    "df = pd.DataFrame(query_metrics)\n",
    "df\n"
   ]
  },
  {
   "cell_type": "markdown",
   "id": "f5c7a230",
   "metadata": {},
   "source": [
    "## Visualization of results"
   ]
  },
  {
   "cell_type": "code",
   "execution_count": 15,
   "id": "4fd2f5eb",
   "metadata": {},
   "outputs": [
    {
     "data": {
      "image/png": "[encoded data removed]",
      "text/plain": [
       "<Figure size 1000x600 with 1 Axes>"
      ]
     },
     "metadata": {},
     "output_type": "display_data"
    }
   ],
   "source": [
    "plt.figure(figsize=(10, 6))  # Set figure size\n",
    "sns.set(style=\"whitegrid\")  # Set the style for the plot\n",
    "sns.barplot(data=df, x='query_id', y='execution_time')\n",
    "# Add title and labels\n",
    "plt.title(\"Execution time by Query (SQL Server)\", fontsize=16)\n",
    "plt.xlabel(\"Query ID\", fontsize=12)\n",
    "plt.ylabel(\"Execution time (in seconds)\", fontsize=12)\n",
    "# Show the plot\n",
    "plt.show()"
   ]
  }
 ],
 "metadata": {
  "kernelspec": {
   "display_name": "base",
   "language": "python",
   "name": "python3"
  },
  "language_info": {
   "codemirror_mode": {
    "name": "ipython",
    "version": 3
   },
   "file_extension": ".py",
   "mimetype": "text/x-python",
   "name": "python",
   "nbconvert_exporter": "python",
   "pygments_lexer": "ipython3",
   "version": "3.12.7"
  }
 },
 "nbformat": 4,
 "nbformat_minor": 5
}

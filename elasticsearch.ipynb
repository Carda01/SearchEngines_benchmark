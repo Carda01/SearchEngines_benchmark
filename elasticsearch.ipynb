{
 "cells": [
  {
   "cell_type": "code",
   "execution_count": 6,
   "metadata": {},
   "outputs": [],
   "source": [
    "from elasticsearch import Elasticsearch, helpers\n",
    "from json_lineage import load\n",
    "from dotenv import load_dotenv\n",
    "import os\n",
    "load_dotenv(\"elastic-start-local/.env\")\n",
    "ES_LOCAL_API_KEY = os.environ.get(\"ES_LOCAL_API_KEY\")\n",
    "ES_LOCAL_URL = os.environ.get(\"ES_LOCAL_URL\")"
   ]
  },
  {
   "cell_type": "code",
   "execution_count": 7,
   "metadata": {},
   "outputs": [],
   "source": [
    "es = Elasticsearch([ES_LOCAL_URL], api_key=ES_LOCAL_API_KEY)"
   ]
  },
  {
   "cell_type": "code",
   "execution_count": 5,
   "metadata": {},
   "outputs": [
    {
     "data": {
      "text/plain": [
       "ObjectApiResponse({'acknowledged': True, 'shards_acknowledged': True, 'index': 'posts'})"
      ]
     },
     "execution_count": 5,
     "metadata": {},
     "output_type": "execute_result"
    }
   ],
   "source": [
    "es.indices.create(\n",
    "    index='posts',\n",
    "    mappings={\n",
    "        \"settings\": {\n",
    "            \"analysis\": {\n",
    "                \"analyzer\": {\n",
    "                    \"html_analyzer\": {\n",
    "                        \"tokenizer\": \"keyword\",\n",
    "                        \"char_filter\": [\n",
    "                            \"html_strip\"\n",
    "                        ]\n",
    "                    }\n",
    "                }\n",
    "            }\n",
    "        }, \n",
    "        \"properties\": {\n",
    "            \"Body\": {\n",
    "                \"type\": \"text\",\n",
    "                \"analyzer\": \"html_analyzer\"\n",
    "            },\n",
    "            \"CommentCount\": {\n",
    "                \"type\": \"integer\"\n",
    "            },\n",
    "            \"CreationDate\": {\n",
    "                \"type\": \"date\",\n",
    "                \"format\": \"yyyy-MM-dd HH:mm:ss.SSS\"\n",
    "            }\n",
    "            \n",
    "        }\n",
    "    }\n",
    ")"
   ]
  },
  {
   "cell_type": "code",
   "execution_count": 15,
   "metadata": {},
   "outputs": [
    {
     "data": {
      "text/plain": [
       "(1565425, [])"
      ]
     },
     "execution_count": 15,
     "metadata": {},
     "output_type": "execute_result"
    }
   ],
   "source": [
    "data = load('StackOverflowMini_dbo_Posts.json')\n",
    "print(\"data loaded\")\n",
    "\n",
    "actions = [\n",
    "    {\n",
    "        \"_index\": \"posts\",\n",
    "        \"_source\": doc\n",
    "    }\n",
    "    for doc in data\n",
    "]\n",
    "print(\"data prepared for bulk insert\")\n",
    "\n",
    "helpers.bulk(es, actions)"
   ]
  },
  {
   "cell_type": "code",
   "execution_count": 3,
   "metadata": {},
   "outputs": [
    {
     "data": {
      "text/plain": [
       "ObjectApiResponse({'took': 1, 'timed_out': False, '_shards': {'total': 1, 'successful': 1, 'skipped': 0, 'failed': 0}, 'hits': {'total': {'value': 10000, 'relation': 'gte'}, 'max_score': 1.0, 'hits': [{'_index': 'posts', '_id': '38KbT5MBd1tDSIJ77JnM', '_score': 1.0, '_source': {'Body': \"<p>I want to use a track-bar to change a form's opacity.</p>\\n\\n<p>This is my code:</p>\\n\\n<pre><code>decimal trans = trackBar1.Value / 5000;\\nthis.Opacity = trans;\\n</code></pre>\\n\\n<p>When I build the application, it gives the following error:</p>\\n\\n<blockquote>\\n  <p>Cannot implicitly convert type <code>'decimal'</code> to <code>'double'</code>.</p>\\n</blockquote>\\n\\n<p>I tried using <code>trans</code> and <code>double</code> but then the control doesn't work. This code worked fine in a past VB.NET project.</p>\\n\", 'CommentCount': 1, 'CreationDate': '2008-07-31 21:42:52.667'}}, {'_index': 'posts', '_id': '4MKbT5MBd1tDSIJ77JnM', '_score': 1.0, '_source': {'Body': '<p>I have an absolutely positioned <code>div</code> containing several children, one of which is a relatively positioned <code>div</code>. When I use a <strong>percentage-based width</strong> on the child <code>div</code>, it collapses to \\'0\\' width on <a href=\"http://en.wikipedia.org/wiki/Internet_Explorer_7\" rel=\"noreferrer\">Internet&nbsp;Explorer&nbsp;7</a>, but not on Firefox or Safari.</p>\\n\\n<p>If I use <strong>pixel width</strong>, it works. If the parent is relatively positioned, the percentage width on the child works.</p>\\n\\n<ol>\\n<li>Is there something I\\'m missing here?</li>\\n<li>Is there an easy fix for this besides the <em>pixel-based width</em> on the\\nchild?</li>\\n<li>Is there an area of the CSS specification that covers this?</li>\\n</ol>\\n', 'CommentCount': 0, 'CreationDate': '2008-07-31 22:08:08.620'}}, {'_index': 'posts', '_id': '4cKbT5MBd1tDSIJ77JnM', '_score': 1.0, '_source': {'Body': \"<p>An explicit cast to double like this isn't necessary:</p>\\n\\n<pre><code>double trans = (double) trackBar1.Value / 5000.0;\\n</code></pre>\\n\\n<p>Identifying the constant as <code>5000.0</code> (or as <code>5000d</code>) is sufficient:</p>\\n\\n<pre><code>double trans = trackBar1.Value / 5000.0;\\ndouble trans = trackBar1.Value / 5000d;\\n</code></pre>\\n\", 'CommentCount': 0, 'CreationDate': '2008-07-31 22:17:57.883'}}, {'_index': 'posts', '_id': '4sKbT5MBd1tDSIJ77JnM', '_score': 1.0, '_source': {'Body': \"<p>Given a <code>DateTime</code> representing a person's birthday, how do I calculate their age in years?  </p>\\n\", 'CommentCount': 7, 'CreationDate': '2008-07-31 23:40:59.743'}}, {'_index': 'posts', '_id': '48KbT5MBd1tDSIJ77JnM', '_score': 1.0, '_source': {'Body': '<p>Given a specific <code>DateTime</code> value, how do I display relative time, like:</p>\\n\\n<ul>\\n<li>2 hours ago</li>\\n<li>3 days ago</li>\\n<li>a month ago</li>\\n</ul>\\n', 'CommentCount': 3, 'CreationDate': '2008-07-31 23:55:37.967'}}, {'_index': 'posts', '_id': '5MKbT5MBd1tDSIJ77JnM', '_score': 1.0, '_source': {'Body': '<p>Here\\'s how I do it</p>\\n\\n<pre class=\"lang-csharp prettyprint-override\"><code>var ts = new TimeSpan(DateTime.UtcNow.Ticks - dt.Ticks);\\ndouble delta = Math.Abs(ts.TotalSeconds);\\n\\nif (delta &lt; 60)\\n{\\n  return ts.Seconds == 1 ? \"one second ago\" : ts.Seconds + \" seconds ago\";\\n}\\nif (delta &lt; 120)\\n{\\n  return \"a minute ago\";\\n}\\nif (delta &lt; 2700) // 45 * 60\\n{\\n  return ts.Minutes + \" minutes ago\";\\n}\\nif (delta &lt; 5400) // 90 * 60\\n{\\n  return \"an hour ago\";\\n}\\nif (delta &lt; 86400) // 24 * 60 * 60\\n{\\n  return ts.Hours + \" hours ago\";\\n}\\nif (delta &lt; 172800) // 48 * 60 * 60\\n{\\n  return \"yesterday\";\\n}\\nif (delta &lt; 2592000) // 30 * 24 * 60 * 60\\n{\\n  return ts.Days + \" days ago\";\\n}\\nif (delta &lt; 31104000) // 12 * 30 * 24 * 60 * 60\\n{\\n  int months = Convert.ToInt32(Math.Floor((double)ts.Days / 30));\\n  return months &lt;= 1 ? \"one month ago\" : months + \" months ago\";\\n}\\nint years = Convert.ToInt32(Math.Floor((double)ts.Days / 365));\\nreturn years &lt;= 1 ? \"one year ago\" : years + \" years ago\";\\n</code></pre>\\n\\n<p>Suggestions? Comments? Ways to improve this algorithm?</p>\\n', 'CommentCount': 11, 'CreationDate': '2008-07-31 23:56:41.303'}}, {'_index': 'posts', '_id': '5cKbT5MBd1tDSIJ77JnM', '_score': 1.0, '_source': {'Body': \"<p>Is there any standard way for a Web Server to be able to determine a user's timezone within a web page? </p>\\n\\n<p>Perhaps from an HTTP header or part of the user-agent string?</p>\\n\", 'CommentCount': 6, 'CreationDate': '2008-08-01 00:42:38.903'}}, {'_index': 'posts', '_id': '5sKbT5MBd1tDSIJ77JnM', '_score': 1.0, '_source': {'Body': '<p>What is the difference between <a href=\"http://msdn.microsoft.com/en-us/library/9a6a2sxy.aspx\" rel=\"noreferrer\"><code>Math.Floor()</code></a> and <a href=\"http://msdn.microsoft.com/en-us/library/system.math.truncate.aspx\" rel=\"noreferrer\"><code>Math.Truncate()</code></a> in .NET?</p>\\n', 'CommentCount': 3, 'CreationDate': '2008-08-01 00:59:11.177'}}, {'_index': 'posts', '_id': '58KbT5MBd1tDSIJ77JnM', '_score': 1.0, '_source': {'Body': '<p>How do you expose a LINQ query as an ASMX web service? Usually, from the business tier, I can return a typed <code>DataSet</code> or <code>DataTable</code> which can be serialized for transport over ASMX.</p>\\n\\n<p>How can I do the same for a LINQ query? Is there a way to populate a typed <code>DataSet</code> or <code>DataTable</code> via a LINQ query?</p>\\n\\n<pre><code>public static MyDataTable CallMySproc()\\n{\\n    string conn = \"...\";\\n\\n    MyDatabaseDataContext db = new MyDatabaseDataContext(conn);\\n    MyDataTable dt = new MyDataTable();\\n\\n    // execute a sproc via LINQ\\n    var query = from dr\\n                in db.MySproc().AsEnumerable\\n                select dr;\\n\\n    // copy LINQ query resultset into a DataTable -this does not work !    \\n    dt = query.CopyToDataTable();\\n\\n    return dt;\\n}\\n</code></pre>\\n\\n<p>How can I get the result set of a LINQ query into a <code>DataSet</code> or <code>DataTable</code>? Alternatively, is the LINQ query serializeable so that I can expose it as an ASMX web service?</p>\\n', 'CommentCount': 0, 'CreationDate': '2008-08-01 04:59:33.643'}}, {'_index': 'posts', '_id': '6MKbT5MBd1tDSIJ77JnM', '_score': 1.0, '_source': {'Body': '<p>How do I store binary data in <a href=\"http://en.wikipedia.org/wiki/MySQL\" rel=\"noreferrer\">MySQL</a>?</p>\\n', 'CommentCount': 3, 'CreationDate': '2008-08-01 05:09:55.993'}}]}})"
      ]
     },
     "execution_count": 3,
     "metadata": {},
     "output_type": "execute_result"
    }
   ],
   "source": [
    "es.search(index='posts')"
   ]
  },
  {
   "cell_type": "code",
   "execution_count": 4,
   "metadata": {},
   "outputs": [
    {
     "name": "stdout",
     "output_type": "stream",
     "text": [
      "{'tokens': [{'token': \"I'm so happy!\\n\", 'start_offset': 0, 'end_offset': 26, 'type': 'word', 'position': 0}]}\n"
     ]
    }
   ],
   "source": [
    "resp = es.indices.analyze(\n",
    "    tokenizer=\"keyword\",\n",
    "    char_filter=[\"html_strip\"],\n",
    "    text=\"I&apos;m so happy</b>!</p>\"\n",
    ")\n",
    "print(resp)"
   ]
  },
  {
   "cell_type": "code",
   "execution_count": 11,
   "metadata": {},
   "outputs": [
    {
     "data": {
      "text/plain": [
       "ObjectApiResponse({'acknowledged': True, 'shards_acknowledged': True, 'index': 'html_posts'})"
      ]
     },
     "execution_count": 11,
     "metadata": {},
     "output_type": "execute_result"
    }
   ],
   "source": [
    "\n",
    "es.indices.create(\n",
    "    index='html_posts',\n",
    "    settings={\n",
    "        \"analysis\": {\n",
    "            \"analyzer\": {\n",
    "                \"html_analyzer\": {\n",
    "                    \"tokenizer\": \"keyword\",\n",
    "                    \"char_filter\": [\n",
    "                        \"html_strip\"\n",
    "                    ]\n",
    "                }\n",
    "            }\n",
    "        }\n",
    "    }, \n",
    "    mappings={\n",
    "        \"properties\": {\n",
    "            \"Body\": {\n",
    "                \"type\": \"text\",\n",
    "                \"analyzer\": \"html_analyzer\"\n",
    "            },\n",
    "            \"CommentCount\": {\n",
    "                \"type\": \"integer\"\n",
    "            },\n",
    "            \"CreationDate\": {\n",
    "                \"type\": \"date\",\n",
    "                \"format\": \"yyyy-MM-dd HH:mm:ss.SSS\"\n",
    "            }\n",
    "        }\n",
    "    }\n",
    ")"
   ]
  },
  {
   "cell_type": "code",
   "execution_count": 14,
   "metadata": {},
   "outputs": [
    {
     "name": "stdout",
     "output_type": "stream",
     "text": [
      "data prepared for bulk insert\n"
     ]
    },
    {
     "data": {
      "text/plain": [
       "(10, [])"
      ]
     },
     "execution_count": 14,
     "metadata": {},
     "output_type": "execute_result"
    }
   ],
   "source": [
    "data_mini = load('mini.json')\n",
    "\n",
    "actions = [\n",
    "    {\n",
    "        \"_index\": \"html_posts\",\n",
    "        \"_source\": doc\n",
    "    }\n",
    "    for doc in data_mini\n",
    "]\n",
    "print(\"data prepared for bulk insert\")\n",
    "\n",
    "helpers.bulk(es, actions)"
   ]
  },
  {
   "cell_type": "code",
   "execution_count": 19,
   "metadata": {},
   "outputs": [
    {
     "data": {
      "text/plain": [
       "ObjectApiResponse({'tokens': [{'token': \"\\nI want to use a track-bar to change a form's opacity.\\n\\n\\n\\nThis is my code:\\n\\n\\n\\ndecimal trans = trackBar1.Value / 5000;\\nthis.Opacity = trans;\\n\\n\\n\\n\\nWhen I build the application, it gives the following error:\\n\\n\\n\\n\\n  \\nCannot implicitly convert type 'decimal' to 'double'.\\n\\n\\n\\n\\n\\nI tried using trans and double but then the control doesn't work. This code worked fine in a past VB.NET project.\\n\\n\", 'start_offset': 0, 'end_offset': 507, 'type': 'word', 'position': 0}]})"
      ]
     },
     "execution_count": 19,
     "metadata": {},
     "output_type": "execute_result"
    }
   ],
   "source": [
    "es.indices.analyze(\n",
    "    index='html_posts',\n",
    "    analyzer=\"html_analyzer\",\n",
    "    text=\"<p>I want to use a track-bar to change a form's opacity.</p>\\n\\n<p>This is my code:</p>\\n\\n<pre><code>decimal trans = trackBar1.Value / 5000;\\nthis.Opacity = trans;\\n</code></pre>\\n\\n<p>When I build the application, it gives the following error:</p>\\n\\n<blockquote>\\n  <p>Cannot implicitly convert type <code>'decimal'</code> to <code>'double'</code>.</p>\\n</blockquote>\\n\\n<p>I tried using <code>trans</code> and <code>double</code> but then the control doesn't work. This code worked fine in a past VB.NET project.</p>\\n\"\n",
    ")"
   ]
  },
  {
   "cell_type": "code",
   "execution_count": 22,
   "metadata": {},
   "outputs": [
    {
     "data": {
      "text/plain": [
       "ObjectApiResponse({'took': 0, 'timed_out': False, '_shards': {'total': 1, 'successful': 1, 'skipped': 0, 'failed': 0}, 'hits': {'total': {'value': 10, 'relation': 'eq'}, 'max_score': 1.0, 'hits': [{'_index': 'html_posts', '_id': '0NroT5MBd1tDSIJ7Hnwo', '_score': 1.0, '_source': {'Body': \"<p>I want to use a track-bar to change a form's opacity.</p>\\n\\n<p>This is my code:</p>\\n\\n<pre><code>decimal trans = trackBar1.Value / 5000;\\nthis.Opacity = trans;\\n</code></pre>\\n\\n<p>When I build the application, it gives the following error:</p>\\n\\n<blockquote>\\n  <p>Cannot implicitly convert type <code>'decimal'</code> to <code>'double'</code>.</p>\\n</blockquote>\\n\\n<p>I tried using <code>trans</code> and <code>double</code> but then the control doesn't work. This code worked fine in a past VB.NET project.</p>\\n\", 'CommentCount': 1, 'CreationDate': '2008-07-31 21:42:52.667'}}, {'_index': 'html_posts', '_id': '0droT5MBd1tDSIJ7Hnwo', '_score': 1.0, '_source': {'Body': '<p>I have an absolutely positioned <code>div</code> containing several children, one of which is a relatively positioned <code>div</code>. When I use a <strong>percentage-based width</strong> on the child <code>div</code>, it collapses to \\'0\\' width on <a href=\"http://en.wikipedia.org/wiki/Internet_Explorer_7\" rel=\"noreferrer\">Internet&nbsp;Explorer&nbsp;7</a>, but not on Firefox or Safari.</p>\\n\\n<p>If I use <strong>pixel width</strong>, it works. If the parent is relatively positioned, the percentage width on the child works.</p>\\n\\n<ol>\\n<li>Is there something I\\'m missing here?</li>\\n<li>Is there an easy fix for this besides the <em>pixel-based width</em> on the\\nchild?</li>\\n<li>Is there an area of the CSS specification that covers this?</li>\\n</ol>\\n', 'CommentCount': 0, 'CreationDate': '2008-07-31 22:08:08.620'}}, {'_index': 'html_posts', '_id': '0troT5MBd1tDSIJ7Hnwo', '_score': 1.0, '_source': {'Body': \"<p>An explicit cast to double like this isn't necessary:</p>\\n\\n<pre><code>double trans = (double) trackBar1.Value / 5000.0;\\n</code></pre>\\n\\n<p>Identifying the constant as <code>5000.0</code> (or as <code>5000d</code>) is sufficient:</p>\\n\\n<pre><code>double trans = trackBar1.Value / 5000.0;\\ndouble trans = trackBar1.Value / 5000d;\\n</code></pre>\\n\", 'CommentCount': 0, 'CreationDate': '2008-07-31 22:17:57.883'}}, {'_index': 'html_posts', '_id': '09roT5MBd1tDSIJ7Hnwo', '_score': 1.0, '_source': {'Body': \"<p>Given a <code>DateTime</code> representing a person's birthday, how do I calculate their age in years?  </p>\\n\", 'CommentCount': 7, 'CreationDate': '2008-07-31 23:40:59.743'}}, {'_index': 'html_posts', '_id': '1NroT5MBd1tDSIJ7Hnwo', '_score': 1.0, '_source': {'Body': '<p>Given a specific <code>DateTime</code> value, how do I display relative time, like:</p>\\n\\n<ul>\\n<li>2 hours ago</li>\\n<li>3 days ago</li>\\n<li>a month ago</li>\\n</ul>\\n', 'CommentCount': 3, 'CreationDate': '2008-07-31 23:55:37.967'}}, {'_index': 'html_posts', '_id': '1droT5MBd1tDSIJ7Hnwo', '_score': 1.0, '_source': {'Body': '<p>Here\\'s how I do it</p>\\n\\n<pre class=\"lang-csharp prettyprint-override\"><code>var ts = new TimeSpan(DateTime.UtcNow.Ticks - dt.Ticks);\\ndouble delta = Math.Abs(ts.TotalSeconds);\\n\\nif (delta &lt; 60)\\n{\\n  return ts.Seconds == 1 ? \"one second ago\" : ts.Seconds + \" seconds ago\";\\n}\\nif (delta &lt; 120)\\n{\\n  return \"a minute ago\";\\n}\\nif (delta &lt; 2700) // 45 * 60\\n{\\n  return ts.Minutes + \" minutes ago\";\\n}\\nif (delta &lt; 5400) // 90 * 60\\n{\\n  return \"an hour ago\";\\n}\\nif (delta &lt; 86400) // 24 * 60 * 60\\n{\\n  return ts.Hours + \" hours ago\";\\n}\\nif (delta &lt; 172800) // 48 * 60 * 60\\n{\\n  return \"yesterday\";\\n}\\nif (delta &lt; 2592000) // 30 * 24 * 60 * 60\\n{\\n  return ts.Days + \" days ago\";\\n}\\nif (delta &lt; 31104000) // 12 * 30 * 24 * 60 * 60\\n{\\n  int months = Convert.ToInt32(Math.Floor((double)ts.Days / 30));\\n  return months &lt;= 1 ? \"one month ago\" : months + \" months ago\";\\n}\\nint years = Convert.ToInt32(Math.Floor((double)ts.Days / 365));\\nreturn years &lt;= 1 ? \"one year ago\" : years + \" years ago\";\\n</code></pre>\\n\\n<p>Suggestions? Comments? Ways to improve this algorithm?</p>\\n', 'CommentCount': 11, 'CreationDate': '2008-07-31 23:56:41.303'}}, {'_index': 'html_posts', '_id': '1troT5MBd1tDSIJ7Hnwo', '_score': 1.0, '_source': {'Body': \"<p>Is there any standard way for a Web Server to be able to determine a user's timezone within a web page? </p>\\n\\n<p>Perhaps from an HTTP header or part of the user-agent string?</p>\\n\", 'CommentCount': 6, 'CreationDate': '2008-08-01 00:42:38.903'}}, {'_index': 'html_posts', '_id': '19roT5MBd1tDSIJ7Hnwo', '_score': 1.0, '_source': {'Body': '<p>What is the difference between <a href=\"http://msdn.microsoft.com/en-us/library/9a6a2sxy.aspx\" rel=\"noreferrer\"><code>Math.Floor()</code></a> and <a href=\"http://msdn.microsoft.com/en-us/library/system.math.truncate.aspx\" rel=\"noreferrer\"><code>Math.Truncate()</code></a> in .NET?</p>\\n', 'CommentCount': 3, 'CreationDate': '2008-08-01 00:59:11.177'}}, {'_index': 'html_posts', '_id': '2NroT5MBd1tDSIJ7Hnwo', '_score': 1.0, '_source': {'Body': '<p>How do you expose a LINQ query as an ASMX web service? Usually, from the business tier, I can return a typed <code>DataSet</code> or <code>DataTable</code> which can be serialized for transport over ASMX.</p>\\n\\n<p>How can I do the same for a LINQ query? Is there a way to populate a typed <code>DataSet</code> or <code>DataTable</code> via a LINQ query?</p>\\n\\n<pre><code>public static MyDataTable CallMySproc()\\n{\\n    string conn = \"...\";\\n\\n    MyDatabaseDataContext db = new MyDatabaseDataContext(conn);\\n    MyDataTable dt = new MyDataTable();\\n\\n    // execute a sproc via LINQ\\n    var query = from dr\\n                in db.MySproc().AsEnumerable\\n                select dr;\\n\\n    // copy LINQ query resultset into a DataTable -this does not work !    \\n    dt = query.CopyToDataTable();\\n\\n    return dt;\\n}\\n</code></pre>\\n\\n<p>How can I get the result set of a LINQ query into a <code>DataSet</code> or <code>DataTable</code>? Alternatively, is the LINQ query serializeable so that I can expose it as an ASMX web service?</p>\\n', 'CommentCount': 0, 'CreationDate': '2008-08-01 04:59:33.643'}}, {'_index': 'html_posts', '_id': '2droT5MBd1tDSIJ7Hnwo', '_score': 1.0, '_source': {'Body': '<p>How do I store binary data in <a href=\"http://en.wikipedia.org/wiki/MySQL\" rel=\"noreferrer\">MySQL</a>?</p>\\n', 'CommentCount': 3, 'CreationDate': '2008-08-01 05:09:55.993'}}]}})"
      ]
     },
     "execution_count": 22,
     "metadata": {},
     "output_type": "execute_result"
    }
   ],
   "source": [
    "es.search(index='html_posts')"
   ]
  }
 ],
 "metadata": {
  "kernelspec": {
   "display_name": "Python 3",
   "language": "python",
   "name": "python3"
  },
  "language_info": {
   "codemirror_mode": {
    "name": "ipython",
    "version": 3
   },
   "file_extension": ".py",
   "mimetype": "text/x-python",
   "name": "python",
   "nbconvert_exporter": "python",
   "pygments_lexer": "ipython3",
   "version": "3.10.7"
  }
 },
 "nbformat": 4,
 "nbformat_minor": 2
}

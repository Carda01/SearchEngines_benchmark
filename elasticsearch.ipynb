{
 "cells": [
  {
   "cell_type": "code",
   "execution_count": 25,
   "metadata": {},
   "outputs": [],
   "source": [
    "from elasticsearch import Elasticsearch, helpers\n",
    "from pprint import pp\n",
    "from dotenv import load_dotenv\n",
    "import pandas as pd\n",
    "from tqdm import tqdm\n",
    "import os\n",
    "load_dotenv(\"elastic-start-local/.env\")\n",
    "ES_LOCAL_API_KEY = os.environ.get(\"ES_LOCAL_API_KEY\")\n",
    "ES_LOCAL_URL = os.environ.get(\"ES_LOCAL_URL\")\n",
    "\n",
    "def ppr(resp):\n",
    "    pp(resp.raw)"
   ]
  },
  {
   "cell_type": "code",
   "execution_count": 2,
   "metadata": {},
   "outputs": [],
   "source": [
    "es = Elasticsearch([ES_LOCAL_URL], api_key=ES_LOCAL_API_KEY)"
   ]
  },
  {
   "cell_type": "code",
   "execution_count": 33,
   "metadata": {},
   "outputs": [
    {
     "data": {
      "text/plain": [
       "ObjectApiResponse({'acknowledged': True, 'shards_acknowledged': True, 'index': 'html_posts'})"
      ]
     },
     "execution_count": 33,
     "metadata": {},
     "output_type": "execute_result"
    }
   ],
   "source": [
    "es.indices.delete(index='html_posts')\n",
    "\n",
    "es.indices.create(\n",
    "    index='html_posts',\n",
    "    settings={\n",
    "        \"analysis\": {\n",
    "            \"analyzer\": {\n",
    "                \"html_analyzer\": {\n",
    "                    \"type\": \"custom\",\n",
    "                    \"tokenizer\": \"standard\",\n",
    "                    \"char_filter\": [\n",
    "                        \"html_strip\"\n",
    "                    ]\n",
    "                }\n",
    "            }\n",
    "        }\n",
    "    }, \n",
    "    mappings={\n",
    "        \"properties\": {\n",
    "            \"Body\": {\n",
    "                \"type\": \"text\",\n",
    "                \"analyzer\": \"html_analyzer\"\n",
    "            },\n",
    "            \"CommentCount\": {\n",
    "                \"type\": \"integer\"\n",
    "            },\n",
    "            \"CreationDate\": {\n",
    "                \"type\": \"date\",\n",
    "                \"format\": \"yyyy-MM-dd HH:mm:ss.SSS\"\n",
    "            }\n",
    "        }\n",
    "    }\n",
    ")"
   ]
  },
  {
   "cell_type": "code",
   "execution_count": 34,
   "metadata": {},
   "outputs": [],
   "source": [
    "def generator(json_chunk):\n",
    "    for line in json_chunk:\n",
    "        yield {\n",
    "            \"_index\": \"html_posts\",\n",
    "            \"_id\": line.get('Id'),\n",
    "            \"_source\": {\n",
    "                \"Body\": line.get(\"Body\",\"\"),\n",
    "                \"CommentCount\": line.get(\"CommentCount\",\"\"),\n",
    "                \"CreationDate\": line.get(\"CreationDate\",\"\")\n",
    "            }\n",
    "        }\n",
    "\n",
    "\n",
    "def from_chunk_to_es(chunk):\n",
    "    json_chunk = chunk.to_dict(\"records\")\n",
    "    return generator(json_chunk)"
   ]
  },
  {
   "cell_type": "code",
   "execution_count": 35,
   "metadata": {},
   "outputs": [
    {
     "name": "stderr",
     "output_type": "stream",
     "text": [
      "0it [00:00, ?it/s]"
     ]
    },
    {
     "name": "stderr",
     "output_type": "stream",
     "text": [
      "1566it [03:39,  7.14it/s]\n"
     ]
    }
   ],
   "source": [
    "\n",
    "columns = ['Id', 'Body', 'CommentCount', \"CreationDate\"]\n",
    "i = 0 \n",
    "for chunk in tqdm(pd.read_csv('StackOverflowMini_dbo_Posts.csv', chunksize=1000)):\n",
    "    gen = from_chunk_to_es(chunk[columns])\n",
    "    res = helpers.bulk(es, gen)"
   ]
  },
  {
   "cell_type": "code",
   "execution_count": 48,
   "metadata": {},
   "outputs": [
    {
     "name": "stdout",
     "output_type": "stream",
     "text": [
      "{'took': 6,\n",
      " 'timed_out': False,\n",
      " '_shards': {'total': 1, 'successful': 1, 'skipped': 0, 'failed': 0},\n",
      " 'hits': {'total': {'value': 10000, 'relation': 'gte'},\n",
      "          'max_score': 5.2730217,\n",
      "          'hits': [{'_index': 'html_posts',\n",
      "                    '_id': '1859507',\n",
      "                    '_score': 5.2730217,\n",
      "                    '_source': {'Body': '<p>I want to display a number in a '\n",
      "                                        'report, however I only want to show '\n",
      "                                        'any decimal points if they are '\n",
      "                                        'present and the I only want to show 1 '\n",
      "                                        'decimal space.</p>\\n'\n",
      "                                        '\\n'\n",
      "                                        '<p>e.g. if the number is 12 then I '\n",
      "                                        'want to show 12</p>\\n'\n",
      "                                        '\\n'\n",
      "                                        '<p>If the number is 12.1 then I want '\n",
      "                                        'to show 12.1</p>\\n'\n",
      "                                        '\\n'\n",
      "                                        '<p>If the number is 12.11 then I want '\n",
      "                                        'to show 12.1</p>\\n',\n",
      "                                'CommentCount': 0,\n",
      "                                'CreationDate': '2009-12-07 11:46:03.600'}}]}}\n",
      "{'took': 0,\n",
      " 'timed_out': False,\n",
      " '_shards': {'total': 1, 'successful': 1, 'skipped': 0, 'failed': 0},\n",
      " 'hits': {'total': {'value': 0, 'relation': 'eq'},\n",
      "          'max_score': None,\n",
      "          'hits': []}}\n"
     ]
    }
   ],
   "source": [
    "# effects of analyzer\n",
    "resp = es.search(\n",
    "    index=\"html_posts\",\n",
    "    size=\"1\",\n",
    "    query={\n",
    "        \"match\": {\n",
    "            \"Body\": {\n",
    "                \"query\": \"I want to\"\n",
    "            }\n",
    "        }\n",
    "    }\n",
    ")\n",
    "\n",
    "ppr(resp)\n",
    "\n",
    "resp = es.search(\n",
    "    index=\"html_posts\",\n",
    "    size=\"1\",\n",
    "    query={\n",
    "        \"match\": {\n",
    "            \"Body\": {\n",
    "                \"query\": \"<p>\"\n",
    "            }\n",
    "        }\n",
    "    }\n",
    ")\n",
    "\n",
    "ppr(resp)"
   ]
  }
 ],
 "metadata": {
  "kernelspec": {
   "display_name": "Python 3",
   "language": "python",
   "name": "python3"
  },
  "language_info": {
   "codemirror_mode": {
    "name": "ipython",
    "version": 3
   },
   "file_extension": ".py",
   "mimetype": "text/x-python",
   "name": "python",
   "nbconvert_exporter": "python",
   "pygments_lexer": "ipython3",
   "version": "3.10.7"
  }
 },
 "nbformat": 4,
 "nbformat_minor": 2
}
